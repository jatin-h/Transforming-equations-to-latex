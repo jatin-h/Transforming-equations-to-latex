{
 "cells": [
  {
   "cell_type": "code",
   "execution_count": 1,
   "id": "a756f76f",
   "metadata": {},
   "outputs": [],
   "source": [
    "import torch\n",
    "import torch.nn as nn\n",
    "import torch.optim as optim\n",
    "import torch.nn.functional as F\n",
    "from torch.utils.data import Dataset, DataLoader\n",
    "from torchvision import transforms, models\n",
    "from nltk.translate.bleu_score import sentence_bleu, SmoothingFunction\n",
    "import pandas as pd\n",
    "from PIL import Image\n",
    "import random\n",
    "import os\n",
    "import numpy as np\n",
    "from torch.nn.utils.rnn import pad_sequence\n",
    "from torch.optim.lr_scheduler import ReduceLROnPlateau\n",
    "from tqdm import tqdm  # For progress bars"
   ]
  },
  {
   "cell_type": "code",
   "execution_count": null,
   "id": "7ef7ff0d",
   "metadata": {},
   "outputs": [
    {
     "name": "stdout",
     "output_type": "stream",
     "text": [
      "Using device: cpu\n"
     ]
    }
   ],
   "source": [
    "# Set seed for reproducibility\n",
    "torch.manual_seed(42)\n",
    "random.seed(42)\n",
    "np.random.seed(42)\n",
    "\n",
    "# Hyperparameters\n",
    "embedding_dim = 256  # Increased from 100\n",
    "hidden_size = 512\n",
    "attention_dim = 256  # New parameter for attention\n",
    "num_epochs = 4  \n",
    "batch_size = 32\n",
    "learning_rate = 0.0005  # Reduced from 0.001\n",
    "teacher_forcing_ratio = 0.8  # Increased from 0.5\n",
    "device = torch.device(\"cuda\" if torch.cuda.is_available() else \"cpu\")\n",
    "#print(f'Using device: {device}')"
   ]
  },
  {
   "cell_type": "code",
   "execution_count": null,
   "id": "a378d1c1",
   "metadata": {},
   "outputs": [],
   "source": [
    "# Dataset class\n",
    "class CustomDataset(Dataset):\n",
    "    def __init__(self, csv_file, image_dir, transform=None, maxSamples=None):\n",
    "        self.data = pd.read_csv(csv_file)\n",
    "        if maxSamples is not None:\n",
    "            self.data = self.data.head(maxSamples)\n",
    "        self.image_dir = image_dir\n",
    "        self.transform = transform\n",
    "\n",
    "    def __len__(self):\n",
    "        return len(self.data)\n",
    "\n",
    "    def __getitem__(self, idx):\n",
    "        img_name = self.data.iloc[idx, 0]\n",
    "        img_path = os.path.join(self.image_dir, img_name)\n",
    "        try:\n",
    "            image = Image.open(img_path).convert('RGB')\n",
    "        except Exception as e:\n",
    "            print(f\"Error loading image {img_path}: {e}\")\n",
    "            # Return a black image if loading fails\n",
    "            image = Image.new('RGB', (224, 224), (0, 0, 0))\n",
    "            \n",
    "        formula = self.data.iloc[idx, 1]\n",
    "        formula_split = formula.strip().split()\n",
    "\n",
    "        if self.transform:\n",
    "            image = self.transform(image)\n",
    "\n",
    "        return image, formula_split\n",
    "\n",
    "# Improved image transforms with augmentation for training\n",
    "train_transforms = transforms.Compose([\n",
    "    transforms.Resize((224, 224)),\n",
    "    transforms.RandomRotation(2),  # Slight rotation\n",
    "    transforms.ColorJitter(brightness=0.1, contrast=0.1),  # Slight color variation\n",
    "    transforms.ToTensor(),\n",
    "    transforms.Normalize(mean=[0.485, 0.456, 0.406], std=[0.229, 0.224, 0.225])  # ImageNet stats\n",
    "])\n",
    "\n",
    "# Test transforms without augmentation\n",
    "test_transforms = transforms.Compose([\n",
    "    transforms.Resize((224, 224)),\n",
    "    transforms.ToTensor(),\n",
    "    transforms.Normalize(mean=[0.485, 0.456, 0.406], std=[0.229, 0.224, 0.225])  # ImageNet stats\n",
    "])\n",
    "\n",
    "# Transforms for the handwritten dataset (no augmentation for validation/testing)\n",
    "data_transforms = transforms.Compose([\n",
    "    transforms.Resize((224, 224)),\n",
    "    transforms.ToTensor(),\n",
    "    transforms.Normalize(mean=[0.485, 0.456, 0.406], std=[0.229, 0.224, 0.225])\n",
    "])\n",
    "\n",
    "# Dataset paths\n",
    "image_dir = './mcl_775_2025/SyntheticData/images'\n",
    "train_data = CustomDataset('./mcl_775_2025/SyntheticData/train.csv', image_dir=image_dir, transform=train_transforms)\n",
    "test_data = CustomDataset('./mcl_775_2025/SyntheticData/test.csv', image_dir=image_dir, transform=test_transforms)\n",
    "\n",
    "# Build vocabulary\n",
    "vocab = set()\n",
    "for _, formula in train_data:\n",
    "    vocab.update(formula)\n",
    "\n",
    "# Token mappings\n",
    "word_to_index = {word: i+3 for i, word in enumerate(vocab)}\n",
    "word_to_index[\"<pad>\"] = 0\n",
    "word_to_index[\"<sos>\"] = 1\n",
    "word_to_index[\"<unk>\"] = 2\n",
    "word_to_index[\"<eos>\"] = len(word_to_index)\n",
    "\n",
    "index_to_word = {idx: word for word, idx in word_to_index.items()}\n",
    "vocab_size = len(word_to_index)\n",
    "#print(f\"Vocabulary size: {vocab_size}\")"
   ]
  },
  {
   "cell_type": "code",
   "execution_count": 6,
   "id": "8db14ada",
   "metadata": {},
   "outputs": [],
   "source": [
    "# Improved collate function\n",
    "def collate_fn(batch):\n",
    "    images, formulas = zip(*batch)\n",
    "    \n",
    "    # Handle bad images - replace with black image if needed\n",
    "    valid_samples = []\n",
    "    for i, img in enumerate(images):\n",
    "        if img is not None and not torch.isnan(img).any():\n",
    "            valid_samples.append(i)\n",
    "    \n",
    "    if len(valid_samples) < len(images):\n",
    "        print(f\"Warning: {len(images) - len(valid_samples)} invalid images removed from batch\")\n",
    "        images = [images[i] for i in valid_samples]\n",
    "        formulas = [formulas[i] for i in valid_samples]\n",
    "    \n",
    "    if not images:  # If no valid images in batch\n",
    "        return None, None\n",
    "        \n",
    "    images = torch.stack(images)\n",
    "    \n",
    "    sequences = []\n",
    "    for formula in formulas:\n",
    "        seq = [word_to_index[\"<sos>\"]]\n",
    "        for word in formula:\n",
    "            seq.append(word_to_index.get(word, word_to_index[\"<unk>\"]))\n",
    "        seq.append(word_to_index[\"<eos>\"])\n",
    "        sequences.append(torch.tensor(seq))\n",
    "    \n",
    "    padded_sequences = pad_sequence(sequences, batch_first=True, padding_value=word_to_index[\"<pad>\"])\n",
    "    \n",
    "    return images, padded_sequences\n",
    "\n",
    "# Data loaders\n",
    "train_loader = DataLoader(\n",
    "    train_data, \n",
    "    batch_size=batch_size, \n",
    "    shuffle=True, \n",
    "    collate_fn=collate_fn,\n",
    "    num_workers=4 if device == torch.device(\"cuda\") else 0,\n",
    "    pin_memory=True if device == torch.device(\"cuda\") else False,\n",
    "    drop_last=True\n",
    ")\n",
    "\n",
    "test_loader = DataLoader(\n",
    "    test_data, \n",
    "    batch_size=1, \n",
    "    shuffle=False, \n",
    "    collate_fn=collate_fn\n",
    ")\n",
    "\n",
    "# Attention mechanism\n",
    "class Attention(nn.Module):\n",
    "    def __init__(self, encoder_dim, decoder_dim, attention_dim):\n",
    "        super(Attention, self).__init__()\n",
    "        self.encoder_att = nn.Linear(encoder_dim, attention_dim)\n",
    "        self.decoder_att = nn.Linear(decoder_dim, attention_dim)\n",
    "        self.full_att = nn.Linear(attention_dim, 1)\n",
    "        \n",
    "    def forward(self, encoder_out, decoder_hidden):\n",
    "        # encoder_out: (batch_size, num_pixels, encoder_dim)\n",
    "        # decoder_hidden: (batch_size, decoder_dim)\n",
    "        \n",
    "        att1 = self.encoder_att(encoder_out)  # (batch_size, num_pixels, attention_dim)\n",
    "        att2 = self.decoder_att(decoder_hidden).unsqueeze(1)  # (batch_size, 1, attention_dim)\n",
    "        att = F.relu(att1 + att2)  # (batch_size, num_pixels, attention_dim)\n",
    "        att = self.full_att(att).squeeze(2)  # (batch_size, num_pixels)\n",
    "        alpha = F.softmax(att, dim=1)  # (batch_size, num_pixels)\n",
    "        \n",
    "        context = (encoder_out * alpha.unsqueeze(2)).sum(dim=1)  # (batch_size, encoder_dim)\n",
    "        return context, alpha\n",
    "\n",
    "# Improved Encoder using pre-trained ResNet\n",
    "class Encoder(nn.Module):\n",
    "    def __init__(self, encoded_dim=512):\n",
    "        super().__init__()\n",
    "        # Use pre-trained ResNet but remove the final FC layer\n",
    "        resnet = models.resnet34(weights='DEFAULT')\n",
    "        modules = list(resnet.children())[:-2]  # Remove avg pool and fc layer\n",
    "        self.resnet = nn.Sequential(*modules)\n",
    "        \n",
    "        # Adapt the features to the right dimension\n",
    "        self.adaptive_pool = nn.AdaptiveAvgPool2d((7, 7))  # Output fixed spatial dimensions\n",
    "        self.fc = nn.Linear(512, encoded_dim)  # ResNet34's last conv outputs 512 channels\n",
    "        \n",
    "    def forward(self, x):\n",
    "        # x: (batch_size, 3, 224, 224)\n",
    "        features = self.resnet(x)  # (batch_size, 512, H', W')\n",
    "        features = self.adaptive_pool(features)  # (batch_size, 512, 7, 7)\n",
    "        \n",
    "        # Reshape for attention: (batch_size, 49, 512)\n",
    "        features = features.permute(0, 2, 3, 1).view(x.size(0), -1, 512)\n",
    "        \n",
    "        # Project features to encoded_dim\n",
    "        features = self.fc(features)  # (batch_size, 49, encoded_dim)\n",
    "        \n",
    "        # Also return a mean feature vector for initializing the decoder\n",
    "        mean_features = features.mean(dim=1)  # (batch_size, encoded_dim)\n",
    "        \n",
    "        return features, mean_features\n",
    "\n",
    "# Improved Decoder with attention\n",
    "class AttentionDecoder(nn.Module):\n",
    "    def __init__(self, vocab_size, encoder_dim, decoder_dim, attention_dim, embedding_dim, dropout=0.5):\n",
    "        super().__init__()\n",
    "        self.vocab_size = vocab_size\n",
    "        self.encoder_dim = encoder_dim\n",
    "        self.decoder_dim = decoder_dim\n",
    "        self.attention_dim = attention_dim\n",
    "        \n",
    "        self.embedding = nn.Embedding(vocab_size, embedding_dim, padding_idx=word_to_index[\"<pad>\"])\n",
    "        self.attention = Attention(encoder_dim, decoder_dim, attention_dim)\n",
    "        \n",
    "        self.init_h = nn.Linear(encoder_dim, decoder_dim)  # For initializing hidden state\n",
    "        self.init_c = nn.Linear(encoder_dim, decoder_dim)  # For initializing cell state\n",
    "        \n",
    "        self.lstm = nn.LSTMCell(embedding_dim + encoder_dim, decoder_dim)\n",
    "        self.dropout = nn.Dropout(p=dropout)\n",
    "        \n",
    "        self.fc = nn.Linear(decoder_dim, vocab_size)\n",
    "        \n",
    "        # Initialize weights\n",
    "        self.init_weights()\n",
    "        \n",
    "    def init_weights(self):\n",
    "        self.embedding.weight.data.uniform_(-0.1, 0.1)\n",
    "        self.fc.bias.data.fill_(0)\n",
    "        self.fc.weight.data.uniform_(-0.1, 0.1)\n",
    "        \n",
    "    def init_hidden_state(self, encoder_out):\n",
    "        mean_encoder_out = encoder_out.mean(dim=1)\n",
    "        h = self.init_h(mean_encoder_out)\n",
    "        c = self.init_c(mean_encoder_out)\n",
    "        return h, c\n",
    "        \n",
    "    def forward(self, encoder_out, encoded_captions, caption_lengths):\n",
    "        batch_size = encoder_out.size(0)\n",
    "        encoder_dim = encoder_out.size(2)\n",
    "        vocab_size = self.vocab_size\n",
    "        \n",
    "        # Flatten image features\n",
    "        encoder_out = encoder_out.view(batch_size, -1, encoder_dim)  # (batch_size, num_pixels, encoder_dim)\n",
    "        num_pixels = encoder_out.size(1)\n",
    "        \n",
    "        # Sort input data by decreasing caption length\n",
    "        caption_lengths, sort_ind = caption_lengths.sort(dim=0, descending=True)\n",
    "        encoder_out = encoder_out[sort_ind]\n",
    "        encoded_captions = encoded_captions[sort_ind]\n",
    "        \n",
    "        # Embedding\n",
    "        embeddings = self.embedding(encoded_captions)  # (batch_size, max_caption_length, embed_dim)\n",
    "        \n",
    "        # Initialize LSTM state\n",
    "        h, c = self.init_hidden_state(encoder_out)  # (batch_size, decoder_dim)\n",
    "        \n",
    "        # We won't decode at the <end> position, since we've finished generating as soon as we generate <end>\n",
    "        # So, decoding lengths are actual lengths - 1\n",
    "        decode_lengths = (caption_lengths - 1).tolist()\n",
    "        \n",
    "        # Create tensors to hold word prediction scores and alphas\n",
    "        predictions = torch.zeros(batch_size, max(decode_lengths), vocab_size).to(device)\n",
    "        alphas = torch.zeros(batch_size, max(decode_lengths), num_pixels).to(device)\n",
    "        \n",
    "        # At each time-step, decode by\n",
    "        # attention-weighing the encoder's output based on the decoder's previous hidden state output\n",
    "        # then generate a new word in the decoder with the previous word and the attention weighted encoding\n",
    "        for t in range(max(decode_lengths)):\n",
    "            batch_size_t = sum([l > t for l in decode_lengths])\n",
    "            \n",
    "            attention_weighted_encoding, alpha = self.attention(\n",
    "                encoder_out[:batch_size_t],\n",
    "                h[:batch_size_t]\n",
    "            )\n",
    "            \n",
    "            gate = torch.sigmoid(\n",
    "                self.f_beta(h[:batch_size_t])  # gating scalar\n",
    "            )\n",
    "            attention_weighted_encoding = gate * attention_weighted_encoding\n",
    "            \n",
    "            h, c = self.lstm(\n",
    "                torch.cat([embeddings[:batch_size_t, t, :], attention_weighted_encoding], dim=1),\n",
    "                (h[:batch_size_t], c[:batch_size_t])\n",
    "            )\n",
    "            \n",
    "            preds = self.fc(self.dropout(h))  # (batch_size_t, vocab_size)\n",
    "            predictions[:batch_size_t, t, :] = preds\n",
    "            alphas[:batch_size_t, t, :] = alpha\n",
    "            \n",
    "        return predictions, encoded_captions, decode_lengths, alphas, sort_ind\n",
    "        \n",
    "    def decode_step(self, embeddings, encoder_out, h, c):\n",
    "        attention_weighted_encoding, alpha = self.attention(encoder_out, h)\n",
    "        \n",
    "        # No gate in decode_step for simplicity\n",
    "        \n",
    "        h, c = self.lstm(\n",
    "            torch.cat([embeddings, attention_weighted_encoding], dim=1),\n",
    "            (h, c)\n",
    "        )\n",
    "        \n",
    "        scores = self.fc(h)\n",
    "        return scores, h, c, alpha\n",
    "\n",
    "# Simplified Decoder for inference\n",
    "class Decoder(nn.Module):\n",
    "    def __init__(self, output_size, hidden_size, embedding_dim, encoder_dim=512, dropout=0.3):\n",
    "        super().__init__()\n",
    "        # Embedding layer converts token indices to dense vectors\n",
    "        self.embedding = nn.Embedding(output_size, embedding_dim, padding_idx=word_to_index[\"<pad>\"])\n",
    "        \n",
    "        # Add dropout for regularization\n",
    "        self.dropout = nn.Dropout(p=dropout)\n",
    "        \n",
    "        # Use LSTMCell instead of LSTM for more control\n",
    "        self.lstm = nn.LSTMCell(embedding_dim + encoder_dim, hidden_size)\n",
    "        \n",
    "        # Attention mechanism\n",
    "        self.attention = Attention(encoder_dim, hidden_size, attention_dim)\n",
    "        \n",
    "        # Output layer\n",
    "        self.out = nn.Linear(hidden_size, output_size)\n",
    "        \n",
    "        # Initialize weights properly\n",
    "        self.init_weights()\n",
    "        \n",
    "    def init_weights(self):\n",
    "        # Initialize embedding weights with small uniform distribution\n",
    "        self.embedding.weight.data.uniform_(-0.1, 0.1)\n",
    "        # Initialize output layer\n",
    "        self.out.bias.data.fill_(0)\n",
    "        self.out.weight.data.uniform_(-0.1, 0.1)\n",
    "        \n",
    "    def forward(self, encoder_out, features_mean, max_len=100):\n",
    "        batch_size = encoder_out.size(0)\n",
    "        \n",
    "        # Initialize hidden state and cell state with image features\n",
    "        h = torch.zeros(batch_size, hidden_size).to(device)\n",
    "        c = torch.zeros(batch_size, hidden_size).to(device)\n",
    "        \n",
    "        # Start with <sos> token\n",
    "        input_token = torch.tensor([word_to_index[\"<sos>\"]] * batch_size).to(device)\n",
    "        \n",
    "        outputs = []\n",
    "        attentions = []\n",
    "        \n",
    "        for t in range(max_len):\n",
    "            # Embed the current token\n",
    "            embedded = self.embedding(input_token)  # (batch_size, embed_dim)\n",
    "            embedded = self.dropout(embedded)\n",
    "            \n",
    "            # Calculate attention\n",
    "            context, alpha = self.attention(encoder_out, h)\n",
    "            attentions.append(alpha)\n",
    "            \n",
    "            # Combine embedded input and context vector\n",
    "            lstm_input = torch.cat([embedded, context], dim=1)\n",
    "            \n",
    "            # LSTM step\n",
    "            h, c = self.lstm(lstm_input, (h, c))\n",
    "            h = self.dropout(h)\n",
    "            \n",
    "            # Generate output probabilities\n",
    "            output = F.log_softmax(self.out(h), dim=1)\n",
    "            outputs.append(output)\n",
    "            \n",
    "            # Get next input token - use teacher forcing or predicted token\n",
    "            top1 = output.argmax(1)\n",
    "            input_token = top1\n",
    "            \n",
    "            # Stop if all sequences have generated <eos>\n",
    "            if (top1 == word_to_index[\"<eos>\"]).all():\n",
    "                break\n",
    "                \n",
    "        # Stack outputs\n",
    "        outputs = torch.stack(outputs, dim=1)  # (batch_size, seq_len, vocab_size)\n",
    "        return outputs, torch.stack(attentions, dim=1)\n",
    "\n",
    "# Instantiate models\n",
    "encoder = Encoder(encoded_dim=hidden_size).to(device)\n",
    "decoder = Decoder(vocab_size, hidden_size, embedding_dim, encoder_dim=hidden_size).to(device)\n",
    "\n",
    "# Loss and optimizer with gradient clipping\n",
    "criterion = nn.NLLLoss(ignore_index=word_to_index[\"<pad>\"])\n",
    "optimizer = optim.Adam([\n",
    "    {'params': encoder.parameters(), 'lr': learning_rate / 10},  # Lower LR for pre-trained encoder\n",
    "    {'params': decoder.parameters(), 'lr': learning_rate}\n",
    "])\n",
    "\n",
    "# Learning rate scheduler\n",
    "scheduler = ReduceLROnPlateau(\n",
    "    optimizer, \n",
    "    mode='min', \n",
    "    factor=0.5, \n",
    "    patience=2, \n",
    "    \n",
    ")\n",
    "\n",
    "# Training function\n",
    "def train_epoch(encoder, decoder, loader, optimizer, criterion, clip_value=1.0):\n",
    "    encoder.train()\n",
    "    decoder.train()\n",
    "    total_loss = 0\n",
    "    \n",
    "    progress_bar = tqdm(loader, desc=\"Training\")\n",
    "    \n",
    "    for images, formulas in progress_bar:\n",
    "        if images is None or formulas is None:\n",
    "            continue\n",
    "            \n",
    "        images, formulas = images.to(device), formulas.to(device)\n",
    "        \n",
    "        # Zero gradients\n",
    "        optimizer.zero_grad()\n",
    "        \n",
    "        # Forward pass through encoder\n",
    "        encoder_out, features_mean = encoder(images)\n",
    "        \n",
    "        # Initialize decoder hidden and cell states\n",
    "        batch_size = images.size(0)\n",
    "        hidden = torch.zeros(batch_size, hidden_size).to(device)\n",
    "        cell = torch.zeros(batch_size, hidden_size).to(device)\n",
    "        \n",
    "        # Prepare target for teacher forcing\n",
    "        target = formulas[:, 1:]  # Remove <sos>\n",
    "        \n",
    "        # Initialize loss\n",
    "        loss = 0\n",
    "        \n",
    "        # Initialize input token with <sos>\n",
    "        input_token = torch.tensor([word_to_index[\"<sos>\"]] * batch_size).to(device)\n",
    "        \n",
    "        # Generate caption word by word\n",
    "        seq_length = target.size(1)\n",
    "        for t in range(seq_length):\n",
    "            # Get embedding of current token\n",
    "            embedded = decoder.embedding(input_token)\n",
    "            \n",
    "            # Calculate attention\n",
    "            context, _ = decoder.attention(encoder_out, hidden)\n",
    "            \n",
    "            # Combine embedding and context\n",
    "            lstm_input = torch.cat([embedded, context], dim=1)\n",
    "            \n",
    "            # LSTM step\n",
    "            hidden, cell = decoder.lstm(lstm_input, (hidden, cell))\n",
    "            \n",
    "            # Output prediction\n",
    "            output = F.log_softmax(decoder.out(hidden), dim=1)\n",
    "            \n",
    "            # Calculate loss for this step\n",
    "            loss += criterion(output, target[:, t])\n",
    "            \n",
    "            # Teacher forcing\n",
    "            use_teacher_forcing = random.random() < teacher_forcing_ratio\n",
    "            input_token = target[:, t] if use_teacher_forcing else output.argmax(1)\n",
    "        \n",
    "        # Backpropagation\n",
    "        loss.backward()\n",
    "        \n",
    "        # Gradient clipping\n",
    "        torch.nn.utils.clip_grad_norm_(encoder.parameters(), clip_value)\n",
    "        torch.nn.utils.clip_grad_norm_(decoder.parameters(), clip_value)\n",
    "        \n",
    "        # Update weights\n",
    "        optimizer.step()\n",
    "        \n",
    "        # Update progress bar\n",
    "        total_loss += loss.item()\n",
    "        avg_loss = total_loss / (progress_bar.n + 1)\n",
    "        progress_bar.set_postfix(loss=f\"{avg_loss:.4f}\")\n",
    "    \n",
    "    return total_loss / len(loader)\n",
    "\n",
    "# Prediction function\n",
    "def predict_formula(image, encoder, decoder, max_length=100):\n",
    "    encoder.eval()\n",
    "    decoder.eval()\n",
    "    \n",
    "    with torch.no_grad():\n",
    "        # Forward pass through encoder\n",
    "        encoder_out, features_mean = encoder(image)\n",
    "        \n",
    "        # Initialize hidden and cell states\n",
    "        hidden = torch.zeros(1, hidden_size).to(device)\n",
    "        cell = torch.zeros(1, hidden_size).to(device)\n",
    "        \n",
    "        # Start with <sos> token\n",
    "        input_token = torch.tensor([word_to_index[\"<sos>\"]]).to(device)\n",
    "        \n",
    "        predicted_tokens = []\n",
    "        \n",
    "        for _ in range(max_length):\n",
    "            # Embed current token\n",
    "            embedded = decoder.embedding(input_token)\n",
    "            \n",
    "            # Calculate attention\n",
    "            context, _ = decoder.attention(encoder_out, hidden)\n",
    "            \n",
    "            # Combine embedding and context\n",
    "            lstm_input = torch.cat([embedded, context], dim=1)\n",
    "            \n",
    "            # LSTM step\n",
    "            hidden, cell = decoder.lstm(lstm_input, (hidden, cell))\n",
    "            \n",
    "            # Output prediction\n",
    "            output = F.log_softmax(decoder.out(hidden), dim=1)\n",
    "            \n",
    "            # Get next token\n",
    "            predicted_token = output.argmax(1)\n",
    "            \n",
    "            if predicted_token.item() == word_to_index[\"<eos>\"]:\n",
    "                break\n",
    "                \n",
    "            predicted_tokens.append(predicted_token.item())\n",
    "            input_token = predicted_token\n",
    "        \n",
    "        # Convert indices back to words\n",
    "        predicted_formula = [index_to_word[idx] for idx in predicted_tokens]\n",
    "        return predicted_formula\n",
    "\n",
    "# Evaluation function\n",
    "def evaluate(encoder, decoder, loader):\n",
    "    encoder.eval()\n",
    "    decoder.eval()\n",
    "    \n",
    "    smoothie = SmoothingFunction().method4\n",
    "    bleu_scores = []\n",
    "    \n",
    "    print(\"\\nEvaluating model...\")\n",
    "    progress_bar = tqdm(enumerate(loader), total=len(loader), desc=\"Evaluating\")\n",
    "    \n",
    "    with torch.no_grad():\n",
    "        for idx, (images, formulas) in progress_bar:\n",
    "            if images is None or formulas is None:\n",
    "                continue\n",
    "                \n",
    "            images = images.to(device)\n",
    "            \n",
    "            # Get the actual formula (removing special tokens)\n",
    "            actual_formula = []\n",
    "            for i in range(1, formulas.size(1)):  # Skip <sos>\n",
    "                token_idx = formulas[0, i].item()\n",
    "                if token_idx == word_to_index[\"<eos>\"]:\n",
    "                    break\n",
    "                if token_idx != word_to_index[\"<pad>\"] and token_idx != word_to_index[\"<unk>\"]:\n",
    "                    actual_formula.append(index_to_word[token_idx])\n",
    "            \n",
    "            # Get the predicted formula\n",
    "            predicted_formula = predict_formula(images, encoder, decoder)\n",
    "            \n",
    "            # Filter out any unknown tokens from the prediction\n",
    "            predicted_formula = [token for token in predicted_formula if token != \"<unk>\"]\n",
    "            \n",
    "            # Calculate BLEU score\n",
    "            if not predicted_formula:\n",
    "                bleu = 0.0\n",
    "            else:\n",
    "                try:\n",
    "                    bleu = sentence_bleu([actual_formula], predicted_formula, smoothing_function=smoothie)\n",
    "                except Exception as e:\n",
    "                    print(f\"BLEU calculation error: {e}\")\n",
    "                    bleu = 0.0\n",
    "            \n",
    "            bleu_scores.append(bleu)\n",
    "            \n",
    "            # Update progress bar\n",
    "            avg_bleu = sum(bleu_scores) / len(bleu_scores)\n",
    "            progress_bar.set_postfix(bleu=f\"{avg_bleu:.4f}\")\n",
    "            \n",
    "            # Print a few examples\n",
    "            if idx < 5 or idx % (len(loader) // 10) == 0:\n",
    "                print(f\"\\nSample {idx+1}:\")\n",
    "                print(f\"Actual:    {' '.join(actual_formula)}\")\n",
    "                print(f\"Predicted: {' '.join(predicted_formula)}\")\n",
    "                print(f\"BLEU Score: {bleu:.4f}\")\n",
    "    \n",
    "    average_bleu = sum(bleu_scores) / len(bleu_scores) if bleu_scores else 0\n",
    "    print(f\"\\nAverage BLEU score: {average_bleu:.4f}\")\n",
    "    return average_bleu\n"
   ]
  },
  {
   "cell_type": "code",
   "execution_count": null,
   "id": "e9ebfa8e",
   "metadata": {},
   "outputs": [
    {
     "name": "stdout",
     "output_type": "stream",
     "text": [
      "\n",
      "Epoch 1/4\n"
     ]
    },
    {
     "name": "stderr",
     "output_type": "stream",
     "text": [
      "Training: 100%|██████████| 2343/2343 [1:07:09<00:00,  1.72s/it, loss=344.1537]\n"
     ]
    },
    {
     "name": "stdout",
     "output_type": "stream",
     "text": [
      "Training loss: 344.1537\n",
      "\n",
      "Evaluating model...\n"
     ]
    },
    {
     "name": "stderr",
     "output_type": "stream",
     "text": [
      "Evaluating:   0%|          | 1/8907 [00:00<1:34:31,  1.57it/s, bleu=0.3548]"
     ]
    },
    {
     "name": "stdout",
     "output_type": "stream",
     "text": [
      "\n",
      "Sample 1:\n",
      "Actual:    $ \\mathcal { F } _ { \\mathrm { i n } } ^ { ( 0 ) } = - S [ T _ { + } ^ { 2 } - C ^ { a } C ^ { a } ] $\n",
      "Predicted: $ { \\cal { } _ { \\mathrm { l } } ^ { ( 0 ) } = 2 ^ { 2 } T ^ { 2 } + 2 ^ { 2 } T ^ { \\alpha } $\n",
      "BLEU Score: 0.3548\n"
     ]
    },
    {
     "name": "stderr",
     "output_type": "stream",
     "text": [
      "Evaluating:   0%|          | 3/8907 [00:01<48:11,  3.08it/s, bleu=0.3225]  "
     ]
    },
    {
     "name": "stdout",
     "output_type": "stream",
     "text": [
      "\n",
      "Sample 2:\n",
      "Actual:    $ d ( l _ { 0 } + 1 , k _ { 1 } ; l _ { 0 } , k _ { 1 } ) c ( l _ { 0 } , k _ { 1 } ; l _ { 0 } + 1 , k _ { 1 } ) = \\frac { ( k _ { 1 } + k _ { 0 } ) a - ( k _ { 1 } - k _ { 0 } ) b } { 2 k _ { 1 } ( k _ { 1 } - l _ { 0 } ) ( k _ { 1 } + l _ { 0 } + 1 ) } , $\n",
      "Predicted: $ ( ( k _ { 1 } , k _ { 2 } , k _ { 2 } , k _ { 2 } ) , k _ { 2 } ) = ( { \\frac { ( k _ { 1 } - k _ { 1 } - k _ { 2 } ) + ( k _ { 1 } - k _ { 1 } ) + ( k _ { 1 } - k _ { 1 } - k _ { 1 } ) } { ( k _ { 1 }\n",
      "BLEU Score: 0.4406\n",
      "\n",
      "Sample 3:\n",
      "Actual:    $ \\chi _ { k , l } ( q , \\theta ) ~ \\chi _ { 1 , \\epsilon } ( q , \\theta ) = \\sum _ { l ^ { \\prime } } \\chi _ { k + 1 , l ^ { \\prime } } ( q , \\theta ) \\chi _ { c , \\Delta _ { 2 l + 1 , 2 l ^ { \\prime } + 1 } } ^ { V } ( q ) $\n",
      "Predicted: $ d s _ { 2 } ( k , \\theta ) = \\int _ { 0 } ^ { ( } ( x ) = \\sum _ { \\mu } ^ { ( } ( x ) } _ { \\mu } ^ { ( } ( x ) } ( { _ { \\mu } ^ { \\prime } ( k ) { \\prime } ) } ( { \\bf { } _ { \\mu } ^ { \\prime } ) } ( { \\bf { } _ { \\mu } { \\cal O } _ { \\mu\n",
      "BLEU Score: 0.1720\n"
     ]
    },
    {
     "name": "stderr",
     "output_type": "stream",
     "text": [
      "Evaluating:   0%|          | 4/8907 [00:01<40:30,  3.66it/s, bleu=0.2791]"
     ]
    },
    {
     "name": "stdout",
     "output_type": "stream",
     "text": [
      "\n",
      "Sample 4:\n",
      "Actual:    $ ( F _ { \\mu \\nu } ) = \\left( \\begin{array} { c c c } { 0 } & { B } & { E _ { 1 } } \\\\ { - B } & { 0 } & { E _ { 2 } } \\\\ { - E _ { 1 } } & { - E _ { 2 } } & { 0 } \\\\ \\end{array} \\right) = i ( E _ { 2 } T _ { 1 } - E _ { 1 } T _ { 2 } + B T _ { 3 } ) \\ , $\n",
      "Predicted: $ \\begin{array} { l l } { 1 } & { 0 } & { 1 } & { 1 } & { 1 } & { 1 } & { 1 } & { 1 } & { 1 } & { 1 } & { 1 } & { 1 } & { 1 } & { 1 } & { 1 } & { 1 } & { 1 } & { 1 } & { 1 } & { 1 } & { 1 } & { 1 } & { 1 } & { 1\n",
      "BLEU Score: 0.1488\n"
     ]
    },
    {
     "name": "stderr",
     "output_type": "stream",
     "text": [
      "Evaluating:   0%|          | 5/8907 [00:01<42:03,  3.53it/s, bleu=0.2458]"
     ]
    },
    {
     "name": "stdout",
     "output_type": "stream",
     "text": [
      "\n",
      "Sample 5:\n",
      "Actual:    $ B ^ { 1 \\alpha , 2 \\beta } \\left( \\partial _ { \\tau } X ^ { 1 \\alpha } \\partial _ { \\sigma } X ^ { 2 \\beta } - \\partial _ { \\tau } X ^ { 2 \\beta } \\partial _ { \\sigma } X ^ { 1 \\alpha } \\right) . $\n",
      "Predicted: $ H ^ { \\mu \\nu } \\left( \\partial ^ { \\mu } \\partial _ { \\mu } ^ { \\mu } \\partial _ { \\mu } ^ { \\mu } \\partial _ { \\mu } ^ { \\mu } \\partial _ { \\mu } ^ { \\mu } \\partial _ { \\mu } ^ { \\mu } \\partial _ { \\mu } ^ { \\mu } \\partial _ { \\nu } ^ { \\mu } \\partial _ { \\nu } ^ { a } \\right) ^ { \\alpha } \\right) \\, . $\n",
      "BLEU Score: 0.1128\n"
     ]
    },
    {
     "name": "stderr",
     "output_type": "stream",
     "text": [
      "Evaluating:  10%|█         | 893/8907 [04:15<15:49,  8.44it/s, bleu=0.2323]  "
     ]
    },
    {
     "name": "stdout",
     "output_type": "stream",
     "text": [
      "\n",
      "Sample 891:\n",
      "Actual:    $ d s _ { p } ^ { 2 } = H _ { p } ^ { \\frac { 4 - \\Delta _ { p } } { \\Delta _ { p } } } d { \\bf x } \\cdot d { \\bf x } + H ^ { \\frac { 4 } { \\Delta } } H _ { p } ^ { \\frac { 4 - \\Delta _ { p } } { \\Delta _ { p } } } d z ^ { 2 } . $\n",
      "Predicted: $ d _ { \\alpha } ^ { 2 } = \\frac { d ^ { 2 } } { 4 \\pi } } { d x ^ { 2 } } d x ^ { 2 } + d x ^ { 2 } + \\frac { x ^ { 2 } } { 4 \\pi } } d x ^ { 2 } x ^ { 2 } . $\n",
      "BLEU Score: 0.1949\n"
     ]
    },
    {
     "name": "stderr",
     "output_type": "stream",
     "text": [
      "Evaluating:  20%|██        | 1782/8907 [09:14<14:59,  7.92it/s, bleu=0.2294]  "
     ]
    },
    {
     "name": "stdout",
     "output_type": "stream",
     "text": [
      "\n",
      "Sample 1781:\n",
      "Actual:    $ \\begin{array} { c c } { C ( \\eta _ { i } ) = 1 ~ , } & { C ( \\eta _ { f } ) = 0 ~ , \\nonumber } \\\\ { D ( \\eta _ { i } ) = 0 ~ , } & { D ( \\eta _ { f } ) = 1 ~ . } \\\\ \\end{array} $\n",
      "Predicted: $ \\begin{array} { l } { ( _ { 0 } ( { ) } & { = } & { = } & { 0 } & { = } & { 0 } & { = } & { 0 } & { = } & { 0 } & { = } & { = } & { = } & { = } & { = } & { 1 } & { 1 } & { 1 } & { 1 } \\\\ \\end{array} $\n",
      "BLEU Score: 0.0759\n"
     ]
    },
    {
     "name": "stderr",
     "output_type": "stream",
     "text": [
      "Evaluating:  30%|██▉       | 2671/8907 [13:54<1:08:56,  1.51it/s, bleu=0.2296]"
     ]
    },
    {
     "name": "stdout",
     "output_type": "stream",
     "text": [
      "\n",
      "Sample 2671:\n",
      "Actual:    $ - \\alpha ^ { 2 } \\left[ \\operatorname { c o s } \\theta _ { W } M ^ { 3 } { } _ { \\mu } - i X _ { 1 } ( M ^ { 1 } { } _ { \\mu } ) \\right] ^ { 2 } = - m _ { W } ^ { 2 } , $\n",
      "Predicted: $ - 2 \\pi ^ { 2 } \\operatorname { l o s } ^ { 2 } \\theta _ { M } ^ { 2 } M ^ { 2 } + M _ { \\mu } ^ { 2 } - M _ { \\mu } ^ { 2 } - M _ { \\mu } ^ { 2 } - { _ { 2 } ^ { 2 } - m _ { 2 } ^ { 2 } , $\n",
      "BLEU Score: 0.3056\n"
     ]
    },
    {
     "name": "stderr",
     "output_type": "stream",
     "text": [
      "Evaluating:  40%|███▉      | 3562/8907 [17:46<12:34,  7.09it/s, bleu=0.2292]  "
     ]
    },
    {
     "name": "stdout",
     "output_type": "stream",
     "text": [
      "\n",
      "Sample 3561:\n",
      "Actual:    $ p = \\frac { 1 } { n N } \\rho , \\ \\ \\ \\rho = \\frac { E } { V } . $\n",
      "Predicted: $ p = \\frac { 1 } { \\pi ^ { 2 } } } , \\qquad \\qquad \\qquad = \\frac { \\frac { \\partial } { \\sqrt { \\sqrt { 2 } } } } } $\n",
      "BLEU Score: 0.2407\n"
     ]
    },
    {
     "name": "stderr",
     "output_type": "stream",
     "text": [
      "Evaluating:  50%|████▉     | 4451/8907 [21:36<10:21,  7.17it/s, bleu=0.2286]  "
     ]
    },
    {
     "name": "stdout",
     "output_type": "stream",
     "text": [
      "\n",
      "Sample 4451:\n",
      "Actual:    $ b _ { \\mu } \\longrightarrow b _ { \\mu } - s _ { \\mu } \\; , $\n",
      "Predicted: $ \\partial _ { \\mu } + \\partial _ { \\mu } - \\partial _ { \\mu } , $\n",
      "BLEU Score: 0.4316\n"
     ]
    },
    {
     "name": "stderr",
     "output_type": "stream",
     "text": [
      "Evaluating:  60%|█████▉    | 5343/8907 [24:50<11:43,  5.07it/s, bleu=0.2280]  "
     ]
    },
    {
     "name": "stdout",
     "output_type": "stream",
     "text": [
      "\n",
      "Sample 5341:\n",
      "Actual:    $ \\delta \\varphi ^ { r s } = \\left[ \\eta _ { i } ^ { \\mu } \\eta _ { j } ^ { \\nu } \\delta ^ { i r } \\delta ^ { j s } - ( \\eta _ { o } ^ { \\mu } \\eta _ { j } ^ { \\nu } - \\eta _ { o } ^ { \\nu } \\eta _ { j } ^ { \\mu } ) \\frac { \\delta ^ { i r } \\delta ^ { j s } p ^ { j } } { p ^ { o } + \\sqrt { p ^ { 2 } } } \\right] \\delta \\omega _ { \\mu \\nu } . $\n",
      "Predicted: $ d x ^ { \\mu } = \\int _ { \\mu } ^ { \\mu } \\partial _ { \\mu } ^ { \\mu } \\partial _ { \\mu } ^ { \\mu } \\partial _ { \\mu } ^ { \\mu } \\partial _ { \\mu } ^ { \\mu } \\partial _ { \\mu } ^ { 2 } + \\frac { \\partial _ { \\mu } } { \\partial _ { \\mu } } { \\partial _ { \\mu } } { \\mu _ { \\mu } } { \\mu _ { \\mu } } {\n",
      "BLEU Score: 0.1804\n"
     ]
    },
    {
     "name": "stderr",
     "output_type": "stream",
     "text": [
      "Evaluating:  70%|██████▉   | 6232/8907 [28:30<05:16,  8.44it/s, bleu=0.2281]  "
     ]
    },
    {
     "name": "stdout",
     "output_type": "stream",
     "text": [
      "\n",
      "Sample 6231:\n",
      "Actual:    $ I = I _ { + } + I _ { - } = \\frac { 2 \\pi } { \\vert \\lambda \\vert ^ { 2 } \\vert a \\vert ^ { 2 } } . $\n",
      "Predicted: $ I = 1 + \\frac { 2 \\pi } { \\sqrt { M _ { 0 } ^ { 2 } } } { 2 } } } $\n",
      "BLEU Score: 0.2982\n"
     ]
    },
    {
     "name": "stderr",
     "output_type": "stream",
     "text": [
      "Evaluating:  80%|███████▉  | 7122/8907 [31:55<04:28,  6.65it/s, bleu=0.2291]  "
     ]
    },
    {
     "name": "stdout",
     "output_type": "stream",
     "text": [
      "\n",
      "Sample 7121:\n",
      "Actual:    $ D _ { + } ( G ^ { - 1 } \\dot { G } ) = 0 = \\bar { D } _ { + } ( G ^ { - 1 } \\dot { G } ) , $\n",
      "Predicted: $ T ^ { - 1 } ( R ^ { - 1 } ) = 0 ( T ^ { - 1 } ) , $\n",
      "BLEU Score: 0.2545\n"
     ]
    },
    {
     "name": "stderr",
     "output_type": "stream",
     "text": [
      "Evaluating:  90%|████████▉ | 8011/8907 [35:00<01:20, 11.07it/s, bleu=0.2289]"
     ]
    },
    {
     "name": "stdout",
     "output_type": "stream",
     "text": [
      "\n",
      "Sample 8011:\n",
      "Actual:    $ { \\cal C } = \\sigma ^ { 2 } \\otimes C \\otimes \\rho ^ { 1 } $\n",
      "Predicted: $ { \\cal P } = ^ { 2 } + C ^ { 0 } $\n",
      "BLEU Score: 0.2321\n"
     ]
    },
    {
     "name": "stderr",
     "output_type": "stream",
     "text": [
      "Evaluating: 100%|█████████▉| 8901/8907 [38:09<00:00, 10.56it/s, bleu=0.2291]"
     ]
    },
    {
     "name": "stdout",
     "output_type": "stream",
     "text": [
      "\n",
      "Sample 8901:\n",
      "Actual:    $ V ( \\vec { \\varphi } ^ { 2 } ) = \\frac { \\mu ^ { 2 } } { 2 } \\vec { \\varphi } ^ { 2 } + \\frac { \\lambda } { 4 } ( \\vec { \\varphi } ^ { 2 } ) ^ { 2 } $\n",
      "Predicted: $ V ^ { 2 } ( { ^ { 2 } ) = \\frac { 2 } { 2 } } ^ { 2 } + \\frac { 2 } { 2 } } ^ { 2 } + \\frac { 1 } { 2 } } ( ^ { 2 } ) ^ { 2 } $\n",
      "BLEU Score: 0.5288\n"
     ]
    },
    {
     "name": "stderr",
     "output_type": "stream",
     "text": [
      "Evaluating: 100%|██████████| 8907/8907 [38:10<00:00,  3.89it/s, bleu=0.2291]\n"
     ]
    },
    {
     "name": "stdout",
     "output_type": "stream",
     "text": [
      "\n",
      "Average BLEU score: 0.2291\n",
      "New best model saved with BLEU score: 0.2291\n",
      "\n",
      "Epoch 2/4\n"
     ]
    },
    {
     "name": "stderr",
     "output_type": "stream",
     "text": [
      "Training: 100%|██████████| 2343/2343 [1:04:00<00:00,  1.64s/it, loss=264.9822]\n"
     ]
    },
    {
     "name": "stdout",
     "output_type": "stream",
     "text": [
      "Training loss: 264.9822\n",
      "\n",
      "Evaluating model...\n"
     ]
    },
    {
     "name": "stderr",
     "output_type": "stream",
     "text": [
      "Evaluating:   0%|          | 1/8907 [00:01<2:34:53,  1.04s/it, bleu=0.5081]"
     ]
    },
    {
     "name": "stdout",
     "output_type": "stream",
     "text": [
      "\n",
      "Sample 1:\n",
      "Actual:    $ \\mathcal { F } _ { \\mathrm { i n } } ^ { ( 0 ) } = - S [ T _ { + } ^ { 2 } - C ^ { a } C ^ { a } ] $\n",
      "Predicted: $ { \\cal F } _ { \\mathrm { f f f } } ^ { ( 0 ) } = - { \\cal E } _ { + } ^ { T } = G _ { + } ^ { a } ] $\n",
      "BLEU Score: 0.5081\n"
     ]
    },
    {
     "name": "stderr",
     "output_type": "stream",
     "text": [
      "Evaluating:   0%|          | 3/8907 [00:03<2:21:51,  1.05it/s, bleu=0.4010]"
     ]
    },
    {
     "name": "stdout",
     "output_type": "stream",
     "text": [
      "\n",
      "Sample 2:\n",
      "Actual:    $ d ( l _ { 0 } + 1 , k _ { 1 } ; l _ { 0 } , k _ { 1 } ) c ( l _ { 0 } , k _ { 1 } ; l _ { 0 } + 1 , k _ { 1 } ) = \\frac { ( k _ { 1 } + k _ { 0 } ) a - ( k _ { 1 } - k _ { 0 } ) b } { 2 k _ { 1 } ( k _ { 1 } - l _ { 0 } ) ( k _ { 1 } + l _ { 0 } + 1 ) } , $\n",
      "Predicted: $ ( a _ { 1 } , a _ { 1 } , k _ { 1 } , k _ { 1 } , k _ { 1 } , k _ { 2 } ) = \\frac { ( k _ { 1 } + k _ { 1 } - k _ { 2 } ) } { 2 k _ { 1 } ( k _ { 1 } - k _ { 2 } ) } { ( k _ { 1 } + k _ { 2 } + k _ { 2\n",
      "BLEU Score: 0.4976\n",
      "\n",
      "Sample 3:\n",
      "Actual:    $ \\chi _ { k , l } ( q , \\theta ) ~ \\chi _ { 1 , \\epsilon } ( q , \\theta ) = \\sum _ { l ^ { \\prime } } \\chi _ { k + 1 , l ^ { \\prime } } ( q , \\theta ) \\chi _ { c , \\Delta _ { 2 l + 1 , 2 l ^ { \\prime } + 1 } } ^ { V } ( q ) $\n",
      "Predicted: $ { \\bf A } _ { k } ( k , y ) = { _ { k } ( k , y ) = \\sum _ { N } { _ { N } } ( x _ { 1 } , \\theta _ { k } ) _ { k + 1 } ^ { \\prime } ( y ) $\n",
      "BLEU Score: 0.1974\n"
     ]
    },
    {
     "name": "stderr",
     "output_type": "stream",
     "text": [
      "Evaluating:   0%|          | 5/8907 [00:03<1:08:26,  2.17it/s, bleu=0.4104]"
     ]
    },
    {
     "name": "stdout",
     "output_type": "stream",
     "text": [
      "\n",
      "Sample 4:\n",
      "Actual:    $ ( F _ { \\mu \\nu } ) = \\left( \\begin{array} { c c c } { 0 } & { B } & { E _ { 1 } } \\\\ { - B } & { 0 } & { E _ { 2 } } \\\\ { - E _ { 1 } } & { - E _ { 2 } } & { 0 } \\\\ \\end{array} \\right) = i ( E _ { 2 } T _ { 1 } - E _ { 1 } T _ { 2 } + B T _ { 3 } ) \\ , $\n",
      "Predicted: $ \\left( \\begin{array} { c c } { 0 } & { = } & { 0 } & { 0 } & { - 1 } \\\\ { 0 } & { - B _ { 2 } } & { 0 } & { 0 } \\\\ { - B _ { 2 } } & { 0 } \\\\ \\end{array} \\right) , \\qquad H _ { 2 } = E _ { 1 } , T _ { 2 } ) , $\n",
      "BLEU Score: 0.4440\n",
      "\n",
      "Sample 5:\n",
      "Actual:    $ B ^ { 1 \\alpha , 2 \\beta } \\left( \\partial _ { \\tau } X ^ { 1 \\alpha } \\partial _ { \\sigma } X ^ { 2 \\beta } - \\partial _ { \\tau } X ^ { 2 \\beta } \\partial _ { \\sigma } X ^ { 1 \\alpha } \\right) . $\n",
      "Predicted: $ B ^ { B } ( \\partial _ { k } X ^ { a } \\partial _ { k } X ^ { \\mu } - \\partial _ { \\mu } ^ { \\beta } \\partial _ { \\nu } ^ { \\beta } \\partial _ { \\nu } X ^ { \\alpha } \\right) . $\n",
      "BLEU Score: 0.4048\n"
     ]
    },
    {
     "name": "stderr",
     "output_type": "stream",
     "text": [
      "Evaluating:  10%|█         | 892/8907 [02:27<20:51,  6.41it/s, bleu=0.3350]  "
     ]
    },
    {
     "name": "stdout",
     "output_type": "stream",
     "text": [
      "\n",
      "Sample 891:\n",
      "Actual:    $ d s _ { p } ^ { 2 } = H _ { p } ^ { \\frac { 4 - \\Delta _ { p } } { \\Delta _ { p } } } d { \\bf x } \\cdot d { \\bf x } + H ^ { \\frac { 4 } { \\Delta } } H _ { p } ^ { \\frac { 4 - \\Delta _ { p } } { \\Delta _ { p } } } d z ^ { 2 } . $\n",
      "Predicted: $ d s _ { 0 } ^ { 2 } = \\frac { e ^ { 2 } } { k } } d x ^ { \\pm } \\operatorname { s i n } ^ { \\pm } x ^ { \\pm } \\frac { d } { 2 } } d x ^ { 2 } x ^ { 2 } . $\n",
      "BLEU Score: 0.2056\n"
     ]
    },
    {
     "name": "stderr",
     "output_type": "stream",
     "text": [
      "Evaluating:  20%|██        | 1782/8907 [05:41<11:25, 10.39it/s, bleu=0.3358]  "
     ]
    },
    {
     "name": "stdout",
     "output_type": "stream",
     "text": [
      "\n",
      "Sample 1781:\n",
      "Actual:    $ \\begin{array} { c c } { C ( \\eta _ { i } ) = 1 ~ , } & { C ( \\eta _ { f } ) = 0 ~ , \\nonumber } \\\\ { D ( \\eta _ { i } ) = 0 ~ , } & { D ( \\eta _ { f } ) = 1 ~ . } \\\\ \\end{array} $\n",
      "Predicted: $ \\left( \\begin{array} { l } { G _ { i } ( x ) = 1 , \\qquad ( 0 , { \\frac { 1 } { 2 } } ( \\eta ) = 1 } \\\\ \\end{array} $\n",
      "BLEU Score: 0.1058\n"
     ]
    },
    {
     "name": "stderr",
     "output_type": "stream",
     "text": [
      "Evaluating:  30%|███       | 2673/8907 [07:47<09:10, 11.33it/s, bleu=0.3358]  "
     ]
    },
    {
     "name": "stdout",
     "output_type": "stream",
     "text": [
      "\n",
      "Sample 2671:\n",
      "Actual:    $ - \\alpha ^ { 2 } \\left[ \\operatorname { c o s } \\theta _ { W } M ^ { 3 } { } _ { \\mu } - i X _ { 1 } ( M ^ { 1 } { } _ { \\mu } ) \\right] ^ { 2 } = - m _ { W } ^ { 2 } , $\n",
      "Predicted: $ - ^ { 2 } - \\operatorname { l o g } \\theta _ { 0 } ^ { M } - M _ { - } ^ { M } - M _ { - } ^ { 2 } \\right] \\right] = - { m } _ { m } ^ { 2 } - m _ { m } ^ { 2 } , $\n",
      "BLEU Score: 0.2992\n"
     ]
    },
    {
     "name": "stderr",
     "output_type": "stream",
     "text": [
      "Evaluating:  40%|████      | 3563/8907 [10:03<08:09, 10.92it/s, bleu=0.3352]  "
     ]
    },
    {
     "name": "stdout",
     "output_type": "stream",
     "text": [
      "\n",
      "Sample 3561:\n",
      "Actual:    $ p = \\frac { 1 } { n N } \\rho , \\ \\ \\ \\rho = \\frac { E } { V } . $\n",
      "Predicted: $ p = \\frac { 1 } { m ! } \\rho , \\rho , \\quad \\frac { H } { \\sqrt { V } } . $\n",
      "BLEU Score: 0.4071\n"
     ]
    },
    {
     "name": "stderr",
     "output_type": "stream",
     "text": [
      "Evaluating:  50%|████▉     | 4453/8907 [11:49<06:01, 12.32it/s, bleu=0.3347]  "
     ]
    },
    {
     "name": "stdout",
     "output_type": "stream",
     "text": [
      "\n",
      "Sample 4451:\n",
      "Actual:    $ b _ { \\mu } \\longrightarrow b _ { \\mu } - s _ { \\mu } \\; , $\n",
      "Predicted: $ g _ { \\mu } \\rightarrow \\delta _ { \\mu } - B _ { \\mu } , $\n",
      "BLEU Score: 0.4316\n"
     ]
    },
    {
     "name": "stderr",
     "output_type": "stream",
     "text": [
      "Evaluating:  60%|█████▉    | 5343/8907 [13:44<06:34,  9.03it/s, bleu=0.3336]"
     ]
    },
    {
     "name": "stdout",
     "output_type": "stream",
     "text": [
      "\n",
      "Sample 5341:\n",
      "Actual:    $ \\delta \\varphi ^ { r s } = \\left[ \\eta _ { i } ^ { \\mu } \\eta _ { j } ^ { \\nu } \\delta ^ { i r } \\delta ^ { j s } - ( \\eta _ { o } ^ { \\mu } \\eta _ { j } ^ { \\nu } - \\eta _ { o } ^ { \\nu } \\eta _ { j } ^ { \\mu } ) \\frac { \\delta ^ { i r } \\delta ^ { j s } p ^ { j } } { p ^ { o } + \\sqrt { p ^ { 2 } } } \\right] \\delta \\omega _ { \\mu \\nu } . $\n",
      "Predicted: $ \\delta ^ { \\mu } \\varphi ^ { \\mu } = \\delta _ { i j } ^ { a } \\delta ^ { \\mu } \\delta ^ { \\mu } - \\partial _ { i } ^ { \\mu } - \\partial _ { i } ^ { \\mu } - \\frac { \\partial ^ { \\mu } } { \\partial { \\bf p } } ^ { \\mu } } { { \\mu ^ { \\mu } } } { \\partial { { \\mu } } { \\mu } } } { { { { \\mu }\n",
      "BLEU Score: 0.2431\n"
     ]
    },
    {
     "name": "stderr",
     "output_type": "stream",
     "text": [
      "Evaluating:  70%|██████▉   | 6232/8907 [16:05<04:02, 11.02it/s, bleu=0.3336]  "
     ]
    },
    {
     "name": "stdout",
     "output_type": "stream",
     "text": [
      "\n",
      "Sample 6231:\n",
      "Actual:    $ I = I _ { + } + I _ { - } = \\frac { 2 \\pi } { \\vert \\lambda \\vert ^ { 2 } \\vert a \\vert ^ { 2 } } . $\n",
      "Predicted: $ I = L _ { + } + \\frac { 2 \\pi } { 1 | | | | | | | | | ^ { 2 } } . $\n",
      "BLEU Score: 0.3888\n"
     ]
    },
    {
     "name": "stderr",
     "output_type": "stream",
     "text": [
      "Evaluating:  80%|███████▉  | 7123/8907 [18:07<04:11,  7.08it/s, bleu=0.3347]"
     ]
    },
    {
     "name": "stdout",
     "output_type": "stream",
     "text": [
      "\n",
      "Sample 7121:\n",
      "Actual:    $ D _ { + } ( G ^ { - 1 } \\dot { G } ) = 0 = \\bar { D } _ { + } ( G ^ { - 1 } \\dot { G } ) , $\n",
      "Predicted: $ D _ { + } ( G ^ { + } ) = 0 . $\n",
      "BLEU Score: 0.1661\n"
     ]
    },
    {
     "name": "stderr",
     "output_type": "stream",
     "text": [
      "Evaluating:  90%|████████▉ | 8012/8907 [20:12<04:41,  3.18it/s, bleu=0.3351]"
     ]
    },
    {
     "name": "stdout",
     "output_type": "stream",
     "text": [
      "\n",
      "Sample 8011:\n",
      "Actual:    $ { \\cal C } = \\sigma ^ { 2 } \\otimes C \\otimes \\rho ^ { 1 } $\n",
      "Predicted: $ { \\cal G } = \\sigma ^ { 2 } \\otimes \\otimes \\otimes { 0 } \\otimes { 0 } $\n",
      "BLEU Score: 0.4158\n"
     ]
    },
    {
     "name": "stderr",
     "output_type": "stream",
     "text": [
      "Evaluating: 100%|█████████▉| 8900/8907 [22:07<00:00, 10.86it/s, bleu=0.3353]"
     ]
    },
    {
     "name": "stdout",
     "output_type": "stream",
     "text": [
      "\n",
      "Sample 8901:\n",
      "Actual:    $ V ( \\vec { \\varphi } ^ { 2 } ) = \\frac { \\mu ^ { 2 } } { 2 } \\vec { \\varphi } ^ { 2 } + \\frac { \\lambda } { 4 } ( \\vec { \\varphi } ^ { 2 } ) ^ { 2 } $\n",
      "Predicted: $ V ( \\vec { \\varphi } ^ { 2 } ) = \\frac { d ^ { 2 } } { 2 } \\varphi ^ { 2 } + \\frac { \\lambda } { 4 } ( \\varphi ^ { 2 } ) ^ { 2 } $\n",
      "BLEU Score: 0.7485\n"
     ]
    },
    {
     "name": "stderr",
     "output_type": "stream",
     "text": [
      "Evaluating: 100%|██████████| 8907/8907 [22:16<00:00,  6.66it/s, bleu=0.3353]\n"
     ]
    },
    {
     "name": "stdout",
     "output_type": "stream",
     "text": [
      "\n",
      "Average BLEU score: 0.3353\n",
      "New best model saved with BLEU score: 0.3353\n",
      "\n",
      "Epoch 3/4\n"
     ]
    },
    {
     "name": "stderr",
     "output_type": "stream",
     "text": [
      "Training: 100%|██████████| 2343/2343 [1:01:24<00:00,  1.57s/it, loss=223.4369]\n"
     ]
    },
    {
     "name": "stdout",
     "output_type": "stream",
     "text": [
      "Training loss: 223.4369\n",
      "\n",
      "Evaluating model...\n"
     ]
    },
    {
     "name": "stderr",
     "output_type": "stream",
     "text": [
      "Evaluating:   0%|          | 1/8907 [00:01<4:13:50,  1.71s/it, bleu=0.6261]"
     ]
    },
    {
     "name": "stdout",
     "output_type": "stream",
     "text": [
      "\n",
      "Sample 1:\n",
      "Actual:    $ \\mathcal { F } _ { \\mathrm { i n } } ^ { ( 0 ) } = - S [ T _ { + } ^ { 2 } - C ^ { a } C ^ { a } ] $\n",
      "Predicted: $ { \\cal F } _ { \\mathrm { i n } } ^ { ( 0 ) } = - S _ { + } ^ { T } T _ { + } ^ { a } - C ^ { a } C _ { - } ^ { a } ] $\n",
      "BLEU Score: 0.6261\n"
     ]
    },
    {
     "name": "stderr",
     "output_type": "stream",
     "text": [
      "Evaluating:   0%|          | 3/8907 [00:04<3:19:07,  1.34s/it, bleu=0.4549]"
     ]
    },
    {
     "name": "stdout",
     "output_type": "stream",
     "text": [
      "\n",
      "Sample 2:\n",
      "Actual:    $ d ( l _ { 0 } + 1 , k _ { 1 } ; l _ { 0 } , k _ { 1 } ) c ( l _ { 0 } , k _ { 1 } ; l _ { 0 } + 1 , k _ { 1 } ) = \\frac { ( k _ { 1 } + k _ { 0 } ) a - ( k _ { 1 } - k _ { 0 } ) b } { 2 k _ { 1 } ( k _ { 1 } - l _ { 0 } ) ( k _ { 1 } + l _ { 0 } + 1 ) } , $\n",
      "Predicted: $ d ( d _ { 1 } + d _ { 1 } , k _ { 2 } , k _ { 3 } , k _ { 3 } ) k _ { 1 } , k _ { 1 } ) + k _ { 1 } + k _ { 1 } ) \\frac { ( k _ { 1 } + k _ { 1 } - k _ { 1 } - k _ { 2 } ) } { k ( k _ { 1 } - k _ { 1 }\n",
      "BLEU Score: 0.4613\n",
      "\n",
      "Sample 3:\n",
      "Actual:    $ \\chi _ { k , l } ( q , \\theta ) ~ \\chi _ { 1 , \\epsilon } ( q , \\theta ) = \\sum _ { l ^ { \\prime } } \\chi _ { k + 1 , l ^ { \\prime } } ( q , \\theta ) \\chi _ { c , \\Delta _ { 2 l + 1 , 2 l ^ { \\prime } + 1 } } ^ { V } ( q ) $\n",
      "Predicted: $ \\chi _ { k , k } ( k , \\theta , \\beta ) = \\sum _ { r } \\chi _ { k , l + 1 } ( \\alpha ) \\alpha _ { k + 1 } ^ { \\prime } , a _ { k + 1 } ^ { \\prime } ) $\n",
      "BLEU Score: 0.2774\n"
     ]
    },
    {
     "name": "stderr",
     "output_type": "stream",
     "text": [
      "Evaluating:   0%|          | 4/8907 [00:07<4:34:29,  1.85s/it, bleu=0.4734]"
     ]
    },
    {
     "name": "stdout",
     "output_type": "stream",
     "text": [
      "\n",
      "Sample 4:\n",
      "Actual:    $ ( F _ { \\mu \\nu } ) = \\left( \\begin{array} { c c c } { 0 } & { B } & { E _ { 1 } } \\\\ { - B } & { 0 } & { E _ { 2 } } \\\\ { - E _ { 1 } } & { - E _ { 2 } } & { 0 } \\\\ \\end{array} \\right) = i ( E _ { 2 } T _ { 1 } - E _ { 1 } T _ { 2 } + B T _ { 3 } ) \\ , $\n",
      "Predicted: $ \\rho _ { \\mu } ( p ) = \\left( \\begin{array} { c c c } { 0 } & { 0 } & { 0 } & { 0 } \\\\ { - E _ { 2 } } & { 0 } \\\\ { - x _ { 2 } } & { 0 } \\\\ \\end{array} \\right) = \\left( \\begin{array} { c } { x _ { 1 } } & { - } & { - E _ { 2 } } \\\\ \\end{array} \\right) \\, , $\n",
      "BLEU Score: 0.5286\n"
     ]
    },
    {
     "name": "stderr",
     "output_type": "stream",
     "text": [
      "Evaluating:   0%|          | 7/8907 [00:08<1:53:44,  1.30it/s, bleu=0.3599]"
     ]
    },
    {
     "name": "stdout",
     "output_type": "stream",
     "text": [
      "\n",
      "Sample 5:\n",
      "Actual:    $ B ^ { 1 \\alpha , 2 \\beta } \\left( \\partial _ { \\tau } X ^ { 1 \\alpha } \\partial _ { \\sigma } X ^ { 2 \\beta } - \\partial _ { \\tau } X ^ { 2 \\beta } \\partial _ { \\sigma } X ^ { 1 \\alpha } \\right) . $\n",
      "Predicted: $ B ^ { \\beta \\beta } ( \\partial _ { \\sigma } X _ { r } X _ { \\nu } ^ { \\beta } ) \\partial _ { r } X ^ { 2 } - \\partial _ { r } X ^ { 2 } \\partial _ { \\nu } X ^ { i } X ^ { i } ) . $\n",
      "BLEU Score: 0.3920\n"
     ]
    },
    {
     "name": "stderr",
     "output_type": "stream",
     "text": [
      "Evaluating:  10%|█         | 893/8907 [02:31<13:32,  9.87it/s, bleu=0.4153]  "
     ]
    },
    {
     "name": "stdout",
     "output_type": "stream",
     "text": [
      "\n",
      "Sample 891:\n",
      "Actual:    $ d s _ { p } ^ { 2 } = H _ { p } ^ { \\frac { 4 - \\Delta _ { p } } { \\Delta _ { p } } } d { \\bf x } \\cdot d { \\bf x } + H ^ { \\frac { 4 } { \\Delta } } H _ { p } ^ { \\frac { 4 - \\Delta _ { p } } { \\Delta _ { p } } } d z ^ { 2 } . $\n",
      "Predicted: $ d s _ { p } ^ { 2 } = H _ { r } ^ { - \\frac { 2 - 2 } { 2 } } } { d t } \\, \\mathrm { d e t } \\, t + t + H _ { H } ^ { \\pm } \\frac { \\omega _ { H } ^ { 2 } } { d t } d z ^ { 2 } . $\n",
      "BLEU Score: 0.3518\n"
     ]
    },
    {
     "name": "stderr",
     "output_type": "stream",
     "text": [
      "Evaluating:  20%|██        | 1782/8907 [05:33<14:30,  8.19it/s, bleu=0.4165]  "
     ]
    },
    {
     "name": "stdout",
     "output_type": "stream",
     "text": [
      "\n",
      "Sample 1781:\n",
      "Actual:    $ \\begin{array} { c c } { C ( \\eta _ { i } ) = 1 ~ , } & { C ( \\eta _ { f } ) = 0 ~ , \\nonumber } \\\\ { D ( \\eta _ { i } ) = 0 ~ , } & { D ( \\eta _ { f } ) = 1 ~ . } \\\\ \\end{array} $\n",
      "Predicted: $ \\begin{array} { l l } { G _ { i } ( r _ { i } ) = 1 } & { C _ { i } ( r ) = 0 , } \\\\ { D ( T _ { i } ) = 0 , } \\\\ \\end{array} D _ { i } ( r ) = 0 ~ , } \\\\ \\end{array} $\n",
      "BLEU Score: 0.4115\n"
     ]
    },
    {
     "name": "stderr",
     "output_type": "stream",
     "text": [
      "Evaluating:  30%|███       | 2673/8907 [07:59<09:57, 10.43it/s, bleu=0.4146]  "
     ]
    },
    {
     "name": "stdout",
     "output_type": "stream",
     "text": [
      "\n",
      "Sample 2671:\n",
      "Actual:    $ - \\alpha ^ { 2 } \\left[ \\operatorname { c o s } \\theta _ { W } M ^ { 3 } { } _ { \\mu } - i X _ { 1 } ( M ^ { 1 } { } _ { \\mu } ) \\right] ^ { 2 } = - m _ { W } ^ { 2 } , $\n",
      "Predicted: $ - c ^ { 2 } \\operatorname { c o s } \\left( \\operatorname { c o s } \\theta _ { \\mu } - M _ { \\mu } ( X _ { - } ) \\right] ^ { 2 } - m _ { 0 } ^ { 2 } , $\n",
      "BLEU Score: 0.4505\n"
     ]
    },
    {
     "name": "stderr",
     "output_type": "stream",
     "text": [
      "Evaluating:  40%|███▉      | 3562/8907 [10:08<15:28,  5.76it/s, bleu=0.4124]  "
     ]
    },
    {
     "name": "stdout",
     "output_type": "stream",
     "text": [
      "\n",
      "Sample 3561:\n",
      "Actual:    $ p = \\frac { 1 } { n N } \\rho , \\ \\ \\ \\rho = \\frac { E } { V } . $\n",
      "Predicted: $ p = \\frac { 1 } { m ! } \\, \\rho , \\quad \\rho = \\frac { E _ { E } } { V } . $\n",
      "BLEU Score: 0.5388\n"
     ]
    },
    {
     "name": "stderr",
     "output_type": "stream",
     "text": [
      "Evaluating:  50%|████▉     | 4453/8907 [11:57<06:00, 12.34it/s, bleu=0.4128]  "
     ]
    },
    {
     "name": "stdout",
     "output_type": "stream",
     "text": [
      "\n",
      "Sample 4451:\n",
      "Actual:    $ b _ { \\mu } \\longrightarrow b _ { \\mu } - s _ { \\mu } \\; , $\n",
      "Predicted: $ h _ { \\mu } \\rightarrow - h _ { \\mu } - S _ { \\mu } \\, , $\n",
      "BLEU Score: 0.4093\n"
     ]
    },
    {
     "name": "stderr",
     "output_type": "stream",
     "text": [
      "Evaluating:  60%|█████▉    | 5341/8907 [14:05<10:56,  5.43it/s, bleu=0.4111]  "
     ]
    },
    {
     "name": "stdout",
     "output_type": "stream",
     "text": [
      "\n",
      "Sample 5341:\n",
      "Actual:    $ \\delta \\varphi ^ { r s } = \\left[ \\eta _ { i } ^ { \\mu } \\eta _ { j } ^ { \\nu } \\delta ^ { i r } \\delta ^ { j s } - ( \\eta _ { o } ^ { \\mu } \\eta _ { j } ^ { \\nu } - \\eta _ { o } ^ { \\nu } \\eta _ { j } ^ { \\mu } ) \\frac { \\delta ^ { i r } \\delta ^ { j s } p ^ { j } } { p ^ { o } + \\sqrt { p ^ { 2 } } } \\right] \\delta \\omega _ { \\mu \\nu } . $\n",
      "Predicted: $ \\delta ^ { a } = c _ { i } ^ { a } \\sigma _ { i } ^ { a } \\delta ^ { i } \\delta ^ { i } - \\delta _ { a } ^ { a } ( \\sigma _ { a } ^ { a } - \\eta _ { b } ^ { a } ) _ { \\nu } ^ { a } + \\frac { g ^ { \\mu } p ^ { \\mu } } { p ^ { \\mu } } { \\frac { \\partial ^\n",
      "BLEU Score: 0.3088\n"
     ]
    },
    {
     "name": "stderr",
     "output_type": "stream",
     "text": [
      "Evaluating:  70%|██████▉   | 6232/8907 [16:12<04:39,  9.55it/s, bleu=0.4113]"
     ]
    },
    {
     "name": "stdout",
     "output_type": "stream",
     "text": [
      "\n",
      "Sample 6231:\n",
      "Actual:    $ I = I _ { + } + I _ { - } = \\frac { 2 \\pi } { \\vert \\lambda \\vert ^ { 2 } \\vert a \\vert ^ { 2 } } . $\n",
      "Predicted: $ I = L _ { + } + L _ { - } = \\frac { 2 \\pi } { | | | ^ { 2 } | ^ { 2 } } . $\n",
      "BLEU Score: 0.5975\n"
     ]
    },
    {
     "name": "stderr",
     "output_type": "stream",
     "text": [
      "Evaluating:  80%|███████▉  | 7123/8907 [18:15<02:30, 11.83it/s, bleu=0.4125]"
     ]
    },
    {
     "name": "stdout",
     "output_type": "stream",
     "text": [
      "\n",
      "Sample 7121:\n",
      "Actual:    $ D _ { + } ( G ^ { - 1 } \\dot { G } ) = 0 = \\bar { D } _ { + } ( G ^ { - 1 } \\dot { G } ) , $\n",
      "Predicted: $ D _ { + } ( G ^ { - 1 } G _ { - } ) = 0 , $\n",
      "BLEU Score: 0.3045\n"
     ]
    },
    {
     "name": "stderr",
     "output_type": "stream",
     "text": [
      "Evaluating:  90%|████████▉ | 8013/8907 [20:52<01:10, 12.63it/s, bleu=0.4125]"
     ]
    },
    {
     "name": "stdout",
     "output_type": "stream",
     "text": [
      "\n",
      "Sample 8011:\n",
      "Actual:    $ { \\cal C } = \\sigma ^ { 2 } \\otimes C \\otimes \\rho ^ { 1 } $\n",
      "Predicted: $ { \\cal C } = \\sigma ^ { 2 } \\otimes { \\cal O } \\otimes { \\cal D } $\n",
      "BLEU Score: 0.5601\n"
     ]
    },
    {
     "name": "stderr",
     "output_type": "stream",
     "text": [
      "Evaluating: 100%|█████████▉| 8902/8907 [23:12<00:01,  3.70it/s, bleu=0.4125]"
     ]
    },
    {
     "name": "stdout",
     "output_type": "stream",
     "text": [
      "\n",
      "Sample 8901:\n",
      "Actual:    $ V ( \\vec { \\varphi } ^ { 2 } ) = \\frac { \\mu ^ { 2 } } { 2 } \\vec { \\varphi } ^ { 2 } + \\frac { \\lambda } { 4 } ( \\vec { \\varphi } ^ { 2 } ) ^ { 2 } $\n",
      "Predicted: $ V ( \\varphi ^ { 2 } ) = \\frac { \\mu ^ { 2 } } { 2 } \\varphi ^ { 2 } + \\frac { \\lambda } { 4 } ( \\varphi ^ { 2 } ) ^ { 2 } $\n",
      "BLEU Score: 0.6904\n"
     ]
    },
    {
     "name": "stderr",
     "output_type": "stream",
     "text": [
      "Evaluating: 100%|██████████| 8907/8907 [23:13<00:00,  6.39it/s, bleu=0.4125]\n"
     ]
    },
    {
     "name": "stdout",
     "output_type": "stream",
     "text": [
      "\n",
      "Average BLEU score: 0.4125\n",
      "New best model saved with BLEU score: 0.4125\n",
      "\n",
      "Epoch 4/4\n"
     ]
    },
    {
     "name": "stderr",
     "output_type": "stream",
     "text": [
      "Training: 100%|██████████| 2343/2343 [58:43<00:00,  1.50s/it, loss=195.4763]  \n"
     ]
    },
    {
     "name": "stdout",
     "output_type": "stream",
     "text": [
      "Training loss: 195.4763\n",
      "\n",
      "Evaluating model...\n"
     ]
    },
    {
     "name": "stderr",
     "output_type": "stream",
     "text": [
      "Evaluating:   0%|          | 1/8907 [00:00<2:14:42,  1.10it/s, bleu=0.6385]"
     ]
    },
    {
     "name": "stdout",
     "output_type": "stream",
     "text": [
      "\n",
      "Sample 1:\n",
      "Actual:    $ \\mathcal { F } _ { \\mathrm { i n } } ^ { ( 0 ) } = - S [ T _ { + } ^ { 2 } - C ^ { a } C ^ { a } ] $\n",
      "Predicted: $ { _ { \\mathrm { i n } } } ^ { ( 0 ) } = - S _ { 1 } ^ { 2 } T _ { + } ^ { 2 } - G ^ { a } G ^ { a } ] $\n",
      "BLEU Score: 0.6385\n"
     ]
    },
    {
     "name": "stderr",
     "output_type": "stream",
     "text": [
      "Evaluating:   0%|          | 2/8907 [00:01<1:37:02,  1.53it/s, bleu=0.5859]"
     ]
    },
    {
     "name": "stdout",
     "output_type": "stream",
     "text": [
      "\n",
      "Sample 2:\n",
      "Actual:    $ d ( l _ { 0 } + 1 , k _ { 1 } ; l _ { 0 } , k _ { 1 } ) c ( l _ { 0 } , k _ { 1 } ; l _ { 0 } + 1 , k _ { 1 } ) = \\frac { ( k _ { 1 } + k _ { 0 } ) a - ( k _ { 1 } - k _ { 0 } ) b } { 2 k _ { 1 } ( k _ { 1 } - l _ { 0 } ) ( k _ { 1 } + l _ { 0 } + 1 ) } , $\n",
      "Predicted: $ ( d t _ { 0 } + 1 ) , _ { 1 } ( k _ { 1 } , k _ { 1 } , k _ { 3 } ) [ k _ { 1 } , k _ { 1 } , k _ { 1 } , k _ { 1 } ) + \\frac { ( k _ { 1 } + k _ { 1 } - k _ { 1 } ) ( k _ { 1 } - k _ { 0 } ) } { 2 ( k\n",
      "BLEU Score: 0.5333\n"
     ]
    },
    {
     "name": "stderr",
     "output_type": "stream",
     "text": [
      "Evaluating:   0%|          | 4/8907 [00:01<58:33,  2.53it/s, bleu=0.4952]  "
     ]
    },
    {
     "name": "stdout",
     "output_type": "stream",
     "text": [
      "\n",
      "Sample 3:\n",
      "Actual:    $ \\chi _ { k , l } ( q , \\theta ) ~ \\chi _ { 1 , \\epsilon } ( q , \\theta ) = \\sum _ { l ^ { \\prime } } \\chi _ { k + 1 , l ^ { \\prime } } ( q , \\theta ) \\chi _ { c , \\Delta _ { 2 l + 1 , 2 l ^ { \\prime } + 1 } } ^ { V } ( q ) $\n",
      "Predicted: $ \\chi _ { 1 } ( k , y ) , _ { 1 , k } ( q , q ) = \\sum _ { r } X _ { k , l } ( k , q ) q _ { k , l + 1 } ^ { \\prime } } ( q ) _ { k + 1 , l + 1 } ^ { \\prime } ( q ) $\n",
      "BLEU Score: 0.4423\n",
      "\n",
      "Sample 4:\n",
      "Actual:    $ ( F _ { \\mu \\nu } ) = \\left( \\begin{array} { c c c } { 0 } & { B } & { E _ { 1 } } \\\\ { - B } & { 0 } & { E _ { 2 } } \\\\ { - E _ { 1 } } & { - E _ { 2 } } & { 0 } \\\\ \\end{array} \\right) = i ( E _ { 2 } T _ { 1 } - E _ { 1 } T _ { 2 } + B T _ { 3 } ) \\ , $\n",
      "Predicted: $ \\begin{array} { c c } { D _ { \\mu } } & { = } & { - g _ { 1 } } & { - \\partial _ { 2 } } & { \\partial _ { 2 } } & { - \\partial _ { 2 } } \\\\ { - \\partial _ { 2 } } & { - \\partial _ { 2 } } \\\\ { - \\partial _ { 2 } } & { - \\partial _ { z } } \\\\ { - \\partial _ { z } } & { -\n",
      "BLEU Score: 0.3668\n"
     ]
    },
    {
     "name": "stderr",
     "output_type": "stream",
     "text": [
      "Evaluating:   0%|          | 7/8907 [00:02<25:48,  5.75it/s, bleu=0.3787]"
     ]
    },
    {
     "name": "stdout",
     "output_type": "stream",
     "text": [
      "\n",
      "Sample 5:\n",
      "Actual:    $ B ^ { 1 \\alpha , 2 \\beta } \\left( \\partial _ { \\tau } X ^ { 1 \\alpha } \\partial _ { \\sigma } X ^ { 2 \\beta } - \\partial _ { \\tau } X ^ { 2 \\beta } \\partial _ { \\sigma } X ^ { 1 \\alpha } \\right) . $\n",
      "Predicted: $ B ^ { B , B } \\left( \\partial _ { \\sigma } X ^ { \\beta } ( h _ { \\sigma } ^ { \\beta } ) ^ { 2 } - \\beta _ { - } ^ { 2 } ( \\beta _ { c } ^ { 2 } ) ^ { n } K _ { c } ^ { ( n ) } \\right) . $\n",
      "BLEU Score: 0.2964\n"
     ]
    },
    {
     "name": "stderr",
     "output_type": "stream",
     "text": [
      "Evaluating:  10%|█         | 893/8907 [03:03<12:56, 10.33it/s, bleu=0.4757]  "
     ]
    },
    {
     "name": "stdout",
     "output_type": "stream",
     "text": [
      "\n",
      "Sample 891:\n",
      "Actual:    $ d s _ { p } ^ { 2 } = H _ { p } ^ { \\frac { 4 - \\Delta _ { p } } { \\Delta _ { p } } } d { \\bf x } \\cdot d { \\bf x } + H ^ { \\frac { 4 } { \\Delta } } H _ { p } ^ { \\frac { 4 - \\Delta _ { p } } { \\Delta _ { p } } } d z ^ { 2 } . $\n",
      "Predicted: $ d s _ { p } ^ { 2 } = e _ { r } ^ { 2 } } { { \\frac { - \\omega } { 2 } } } { { { - } } } } d t \\, \\mathrm { d e t } \\, H _ { H } ^ { \\pm \\frac { \\omega } { 2 } } { { \\frac { \\omega } { 2 } } } { d t } d t ^ { 2 } . $\n",
      "BLEU Score: 0.3293\n"
     ]
    },
    {
     "name": "stderr",
     "output_type": "stream",
     "text": [
      "Evaluating:  20%|██        | 1782/8907 [04:53<13:20,  8.91it/s, bleu=0.4738]  "
     ]
    },
    {
     "name": "stdout",
     "output_type": "stream",
     "text": [
      "\n",
      "Sample 1781:\n",
      "Actual:    $ \\begin{array} { c c } { C ( \\eta _ { i } ) = 1 ~ , } & { C ( \\eta _ { f } ) = 0 ~ , \\nonumber } \\\\ { D ( \\eta _ { i } ) = 0 ~ , } & { D ( \\eta _ { f } ) = 1 ~ . } \\\\ \\end{array} $\n",
      "Predicted: $ \\begin{array} { l } { G ( \\eta _ { i } ) } = 1 , } & { G ( r _ { i } ) = 0 , } \\\\ { D ( \\eta _ { i } ) = 0 , } & { 0 , } & { I ( I _ { f } ) = 1 } \\\\ \\end{array} $\n",
      "BLEU Score: 0.5234\n"
     ]
    },
    {
     "name": "stderr",
     "output_type": "stream",
     "text": [
      "Evaluating:  30%|███       | 2673/8907 [07:12<09:33, 10.87it/s, bleu=0.4720]  "
     ]
    },
    {
     "name": "stdout",
     "output_type": "stream",
     "text": [
      "\n",
      "Sample 2671:\n",
      "Actual:    $ - \\alpha ^ { 2 } \\left[ \\operatorname { c o s } \\theta _ { W } M ^ { 3 } { } _ { \\mu } - i X _ { 1 } ( M ^ { 1 } { } _ { \\mu } ) \\right] ^ { 2 } = - m _ { W } ^ { 2 } , $\n",
      "Predicted: $ - c ^ { 2 } \\operatorname { c o s } \\theta _ { \\mu } M ^ { 0 } - M _ { 1 } ( K _ { - } ) ^ { 2 } \\right] ^ { 2 } = - m _ { W } ^ { 2 } , $\n",
      "BLEU Score: 0.5496\n"
     ]
    },
    {
     "name": "stderr",
     "output_type": "stream",
     "text": [
      "Evaluating:  40%|███▉      | 3561/8907 [09:56<12:15,  7.27it/s, bleu=0.4696]  "
     ]
    },
    {
     "name": "stdout",
     "output_type": "stream",
     "text": [
      "\n",
      "Sample 3561:\n",
      "Actual:    $ p = \\frac { 1 } { n N } \\rho , \\ \\ \\ \\rho = \\frac { E } { V } . $\n",
      "Predicted: $ p = \\frac { 1 } { m ! } \\rho , \\; \\; \\; \\; \\; \\; \\; \\; \\; \\; \\; \\; \\; \\; \\; \\; \\; \\; \\; \\; \\; \\; \\; \\; \\; \\; \\; \\; \\; \\; \\; \\; \\; \\; \\; \\; \\; \\; \\; \\; \\; \\; \\; \\; \\; \\; \\; \\; \\; \\; \\; \\; \\; \\; \\; \\; \\; \\; \\; \\; \\; \\; \\; \\; \\; \\; \\; \\; \\; \\; \\; \\; \\; \\; \\; \\; \\; \\; \\; \\; \\; \\; \\; \\; \\; \\; \\;\n",
      "BLEU Score: 0.0779\n"
     ]
    },
    {
     "name": "stderr",
     "output_type": "stream",
     "text": [
      "Evaluating:  50%|████▉     | 4452/8907 [11:50<06:52, 10.80it/s, bleu=0.4713]  "
     ]
    },
    {
     "name": "stdout",
     "output_type": "stream",
     "text": [
      "\n",
      "Sample 4451:\n",
      "Actual:    $ b _ { \\mu } \\longrightarrow b _ { \\mu } - s _ { \\mu } \\; , $\n",
      "Predicted: $ b _ { \\mu } = \\lambda _ { \\mu } - s _ { \\mu } \\, , $\n",
      "BLEU Score: 0.6892\n"
     ]
    },
    {
     "name": "stderr",
     "output_type": "stream",
     "text": [
      "Evaluating:  60%|█████▉    | 5343/8907 [14:14<05:25, 10.95it/s, bleu=0.4695]  "
     ]
    },
    {
     "name": "stdout",
     "output_type": "stream",
     "text": [
      "\n",
      "Sample 5341:\n",
      "Actual:    $ \\delta \\varphi ^ { r s } = \\left[ \\eta _ { i } ^ { \\mu } \\eta _ { j } ^ { \\nu } \\delta ^ { i r } \\delta ^ { j s } - ( \\eta _ { o } ^ { \\mu } \\eta _ { j } ^ { \\nu } - \\eta _ { o } ^ { \\nu } \\eta _ { j } ^ { \\mu } ) \\frac { \\delta ^ { i r } \\delta ^ { j s } p ^ { j } } { p ^ { o } + \\sqrt { p ^ { 2 } } } \\right] \\delta \\omega _ { \\mu \\nu } . $\n",
      "Predicted: $ \\delta ^ { a } \\varphi = \\int _ { i } ^ { a } \\partial _ { i } ^ { a } \\delta ^ { i j } ( \\delta ^ { i } - \\sigma _ { j } ^ { a } ) ( \\sigma _ { i } ^ { \\mu } - \\sigma _ { b } ^ { \\mu } ) ^ { a } \\frac { \\partial ^ { \\mu } p } { p ^ { 2 } } } \\frac { \\partial ^ { \\mu } p }\n",
      "BLEU Score: 0.3211\n"
     ]
    },
    {
     "name": "stderr",
     "output_type": "stream",
     "text": [
      "Evaluating:  70%|██████▉   | 6232/8907 [16:48<04:45,  9.37it/s, bleu=0.4694]  "
     ]
    },
    {
     "name": "stdout",
     "output_type": "stream",
     "text": [
      "\n",
      "Sample 6231:\n",
      "Actual:    $ I = I _ { + } + I _ { - } = \\frac { 2 \\pi } { \\vert \\lambda \\vert ^ { 2 } \\vert a \\vert ^ { 2 } } . $\n",
      "Predicted: $ I = L _ { + } + I _ { - } = = \\frac { 2 \\pi } { | | | ^ { 2 } | ^ { 2 } } . $\n",
      "BLEU Score: 0.6489\n"
     ]
    },
    {
     "name": "stderr",
     "output_type": "stream",
     "text": [
      "Evaluating:  80%|███████▉  | 7122/8907 [19:21<02:57, 10.05it/s, bleu=0.4703]"
     ]
    },
    {
     "name": "stdout",
     "output_type": "stream",
     "text": [
      "\n",
      "Sample 7121:\n",
      "Actual:    $ D _ { + } ( G ^ { - 1 } \\dot { G } ) = 0 = \\bar { D } _ { + } ( G ^ { - 1 } \\dot { G } ) , $\n",
      "Predicted: $ D _ { + } ( G ^ { - 1 } G _ { - } ) = 0 , \\bar { D } _ { + } ( G ^ { - 1 } ) , $\n",
      "BLEU Score: 0.7200\n"
     ]
    },
    {
     "name": "stderr",
     "output_type": "stream",
     "text": [
      "Evaluating:  90%|████████▉ | 8012/8907 [21:23<01:11, 12.60it/s, bleu=0.4707]"
     ]
    },
    {
     "name": "stdout",
     "output_type": "stream",
     "text": [
      "\n",
      "Sample 8011:\n",
      "Actual:    $ { \\cal C } = \\sigma ^ { 2 } \\otimes C \\otimes \\rho ^ { 1 } $\n",
      "Predicted: $ { \\cal G } = \\sigma ^ { 2 } \\otimes \\otimes C \\otimes \\rho ^ { 1 } $\n",
      "BLEU Score: 0.7671\n"
     ]
    },
    {
     "name": "stderr",
     "output_type": "stream",
     "text": [
      "Evaluating: 100%|█████████▉| 8902/8907 [23:16<00:00,  9.90it/s, bleu=0.4706]"
     ]
    },
    {
     "name": "stdout",
     "output_type": "stream",
     "text": [
      "\n",
      "Sample 8901:\n",
      "Actual:    $ V ( \\vec { \\varphi } ^ { 2 } ) = \\frac { \\mu ^ { 2 } } { 2 } \\vec { \\varphi } ^ { 2 } + \\frac { \\lambda } { 4 } ( \\vec { \\varphi } ^ { 2 } ) ^ { 2 } $\n",
      "Predicted: $ V ( \\varphi ^ { 2 } ) = { \\frac { \\mu ^ { 2 } } { 2 } } \\varphi ^ { 2 } + \\frac { \\lambda } { 4 } ( \\varphi ^ { 2 } ) ^ { 2 } $\n",
      "BLEU Score: 0.6699\n"
     ]
    },
    {
     "name": "stderr",
     "output_type": "stream",
     "text": [
      "Evaluating: 100%|██████████| 8907/8907 [23:23<00:00,  6.35it/s, bleu=0.4705]\n"
     ]
    },
    {
     "name": "stdout",
     "output_type": "stream",
     "text": [
      "\n",
      "Average BLEU score: 0.4705\n",
      "New best model saved with BLEU score: 0.4705\n",
      "Training complete. Best model was at epoch 4 with BLEU score 0.4705\n"
     ]
    }
   ],
   "source": [
    "# Training loop\n",
    "best_bleu = 0.0\n",
    "best_epoch = 0\n",
    "\n",
    "for epoch in range(num_epochs):\n",
    "    print(f\"\\nEpoch {epoch+1}/{num_epochs}\")\n",
    "    \n",
    "    # Train for one epoch\n",
    "    train_loss = train_epoch(encoder, decoder, train_loader, optimizer, criterion)\n",
    "    print(f\"Training loss: {train_loss:.4f}\")\n",
    "    \n",
    "    # Evaluate on validation set\n",
    "    bleu = evaluate(encoder, decoder, test_loader)\n",
    "    \n",
    "    # Learning rate scheduling\n",
    "    scheduler.step(train_loss)\n",
    "    \n",
    "    # Save checkpoint if this is the best model so far\n",
    "    if bleu > best_bleu:\n",
    "        best_bleu = bleu\n",
    "        best_epoch = epoch + 1\n",
    "        \n",
    "        # Save the models\n",
    "        checkpoint = {\n",
    "            'epoch': epoch,\n",
    "            'encoder': encoder.state_dict(),\n",
    "            'decoder': decoder.state_dict(),\n",
    "            'optimizer': optimizer.state_dict(),\n",
    "            'bleu': bleu,\n",
    "            'word_to_index': word_to_index,\n",
    "            'index_to_word': index_to_word\n",
    "        }\n",
    "        torch.save(checkpoint, f\"best_model_epoch{epoch+1}_bleu{bleu:.4f}.pth\")\n",
    "        print(f\"New best model saved with BLEU score: {bleu:.4f}\")\n",
    "    \n",
    "    # Regular checkpoint\n",
    "    checkpoint = {\n",
    "        'epoch': epoch,\n",
    "        'encoder': encoder.state_dict(),\n",
    "        'decoder': decoder.state_dict(),\n",
    "        'optimizer': optimizer.state_dict(),\n",
    "        'bleu': bleu\n",
    "    }\n",
    "    torch.save(checkpoint, f\"checkpoint_epoch{epoch+1}.pth\")\n",
    "\n",
    "print(f\"Training complete. Best model was at epoch {best_epoch} with BLEU score {best_bleu:.4f}\")"
   ]
  },
  {
   "cell_type": "code",
   "execution_count": 25,
   "id": "515ea50c",
   "metadata": {},
   "outputs": [
    {
     "data": {
      "image/png": "[encoded data removed]",
      "text/plain": [
       "<Figure size 640x480 with 1 Axes>"
      ]
     },
     "metadata": {},
     "output_type": "display_data"
    }
   ],
   "source": [
    "import glob\n",
    "checkpoint_paths = sorted(glob.glob(\"best_model_epoch*.pth\"))\n",
    "data = []\n",
    "\n",
    "for path in checkpoint_paths:\n",
    "    checkpoint = torch.load(path, map_location='cpu')\n",
    "    epoch = checkpoint.get('epoch', -1)\n",
    "    bleu = checkpoint.get('bleu', None)\n",
    "    \n",
    "    if bleu is not None:\n",
    "        data.append((epoch + 1, bleu))  # Store as (epoch, bleu)\n",
    "\n",
    "# Sort the data by epoch\n",
    "data.sort(key=lambda x: x[0])\n",
    "epochs, bleu_scores = zip(*data)  # Unpack sorted data\n",
    "\n",
    "# Now plot\n",
    "plt.plot(epochs, bleu_scores, marker='o')\n",
    "plt.xlabel('Epoch')\n",
    "plt.ylabel('BLEU Score')\n",
    "plt.title('BLEU Score over Epochs')\n",
    "plt.grid(True)\n",
    "plt.show()\n",
    "\n",
    "\n"
   ]
  },
  {
   "cell_type": "code",
   "execution_count": 15,
   "id": "9e1b6a30",
   "metadata": {},
   "outputs": [],
   "source": [
    "checkpoint_path = \"best_model_epoch4_bleu0.4705.pth\"  # Replace with actual filename\n",
    "checkpoint = torch.load(checkpoint_path, map_location=device)\n",
    "\n",
    "# Load model states\n",
    "encoder.load_state_dict(checkpoint['encoder'])\n",
    "decoder.load_state_dict(checkpoint['decoder'])\n",
    "\n",
    "# Load optimizer state\n",
    "optimizer.load_state_dict(checkpoint['optimizer'])\n",
    "\n",
    "# Resume from the next epoch\n",
    "start_epoch = checkpoint['epoch'] + 1"
   ]
  },
  {
   "cell_type": "code",
   "execution_count": null,
   "id": "d259ea23",
   "metadata": {},
   "outputs": [
    {
     "name": "stdout",
     "output_type": "stream",
     "text": [
      "\n",
      "Epoch 5/20\n"
     ]
    },
    {
     "name": "stderr",
     "output_type": "stream",
     "text": [
      "Training: 100%|██████████| 2343/2343 [1:00:38<00:00,  1.55s/it, loss=175.2956]\n"
     ]
    },
    {
     "name": "stdout",
     "output_type": "stream",
     "text": [
      "Training loss: 175.2956\n",
      "\n",
      "Evaluating model...\n"
     ]
    },
    {
     "name": "stderr",
     "output_type": "stream",
     "text": [
      "Evaluating:   0%|          | 2/8907 [00:00<1:00:53,  2.44it/s, bleu=0.5985]"
     ]
    },
    {
     "name": "stdout",
     "output_type": "stream",
     "text": [
      "\n",
      "Sample 1:\n",
      "Actual:    $ \\mathcal { F } _ { \\mathrm { i n } } ^ { ( 0 ) } = - S [ T _ { + } ^ { 2 } - C ^ { a } C ^ { a } ] $\n",
      "Predicted: $ { \\cal F } _ { \\mathrm { i n } } ^ { ( 0 ) } = - S _ { + } ^ { 2 } ( T ^ { a } - C ^ { a } C ^ { a } ] $\n",
      "BLEU Score: 0.7745\n",
      "\n",
      "Sample 2:\n",
      "Actual:    $ d ( l _ { 0 } + 1 , k _ { 1 } ; l _ { 0 } , k _ { 1 } ) c ( l _ { 0 } , k _ { 1 } ; l _ { 0 } + 1 , k _ { 1 } ) = \\frac { ( k _ { 1 } + k _ { 0 } ) a - ( k _ { 1 } - k _ { 0 } ) b } { 2 k _ { 1 } ( k _ { 1 } - l _ { 0 } ) ( k _ { 1 } + l _ { 0 } + 1 ) } , $\n",
      "Predicted: $ d ( 1 _ { 0 } + k _ { 1 } , k _ { 2 } , k _ { 2 } , k _ { 2 } , k _ { 3 } ) k _ { 3 } , k _ { 1 } , k _ { 2 } , k _ { 2 } , k _ { 1 } , k _ { 2 } ) = \\frac { ( k _ { 1 } + k _ { 1 } - k _ { 1 } ) b _ {\n",
      "BLEU Score: 0.4226\n"
     ]
    },
    {
     "name": "stderr",
     "output_type": "stream",
     "text": [
      "Evaluating:   0%|          | 4/8907 [00:01<46:35,  3.18it/s, bleu=0.4210]  "
     ]
    },
    {
     "name": "stdout",
     "output_type": "stream",
     "text": [
      "\n",
      "Sample 3:\n",
      "Actual:    $ \\chi _ { k , l } ( q , \\theta ) ~ \\chi _ { 1 , \\epsilon } ( q , \\theta ) = \\sum _ { l ^ { \\prime } } \\chi _ { k + 1 , l ^ { \\prime } } ( q , \\theta ) \\chi _ { c , \\Delta _ { 2 l + 1 , 2 l ^ { \\prime } + 1 } } ^ { V } ( q ) $\n",
      "Predicted: $ \\chi _ { k , k } ( \\theta , \\theta _ { 1 , 2 } ) g ( g , \\theta ) = \\sum _ { r , s } \\chi _ { k , k + 1 } ( g , \\theta ) g _ { k + 1 , . . . . . . . , \\mu _ { n + 1 } ^ { \\prime } } ( q ) $\n",
      "BLEU Score: 0.4008\n",
      "\n",
      "Sample 4:\n",
      "Actual:    $ ( F _ { \\mu \\nu } ) = \\left( \\begin{array} { c c c } { 0 } & { B } & { E _ { 1 } } \\\\ { - B } & { 0 } & { E _ { 2 } } \\\\ { - E _ { 1 } } & { - E _ { 2 } } & { 0 } \\\\ \\end{array} \\right) = i ( E _ { 2 } T _ { 1 } - E _ { 1 } T _ { 2 } + B T _ { 3 } ) \\ , $\n",
      "Predicted: $ \\left( P _ { \\mu \\nu } \\right) = \\left( \\begin{array} { c c c c c c c c c c c c c c c c c c c c c c c c c c c c c c c c c c c c c c c c c c c c c c c c c c c c c c c c c c c c c c c c c c c c c c c c c c c c c c c c c c c c c c c\n",
      "BLEU Score: 0.0860\n"
     ]
    },
    {
     "name": "stderr",
     "output_type": "stream",
     "text": [
      "Evaluating:   0%|          | 7/8907 [00:01<24:03,  6.16it/s, bleu=0.4078]"
     ]
    },
    {
     "name": "stdout",
     "output_type": "stream",
     "text": [
      "\n",
      "Sample 5:\n",
      "Actual:    $ B ^ { 1 \\alpha , 2 \\beta } \\left( \\partial _ { \\tau } X ^ { 1 \\alpha } \\partial _ { \\sigma } X ^ { 2 \\beta } - \\partial _ { \\tau } X ^ { 2 \\beta } \\partial _ { \\sigma } X ^ { 1 \\alpha } \\right) . $\n",
      "Predicted: $ B ^ { \\alpha \\beta \\alpha \\beta } \\left( \\partial _ { \\tau } \\partial _ { \\tau } X ^ { \\beta } \\partial _ { \\sigma } X ^ { \\beta \\beta } \\partial _ { \\tau } X ^ { \\beta } \\partial _ { \\tau } X ^ { \\lambda } \\right) . $\n",
      "BLEU Score: 0.6007\n"
     ]
    },
    {
     "name": "stderr",
     "output_type": "stream",
     "text": [
      "Evaluating:  10%|█         | 893/8907 [03:24<13:45,  9.70it/s, bleu=0.5162]  "
     ]
    },
    {
     "name": "stdout",
     "output_type": "stream",
     "text": [
      "\n",
      "Sample 891:\n",
      "Actual:    $ d s _ { p } ^ { 2 } = H _ { p } ^ { \\frac { 4 - \\Delta _ { p } } { \\Delta _ { p } } } d { \\bf x } \\cdot d { \\bf x } + H ^ { \\frac { 4 } { \\Delta } } H _ { p } ^ { \\frac { 4 - \\Delta _ { p } } { \\Delta _ { p } } } d z ^ { 2 } . $\n",
      "Predicted: $ d s _ { p } ^ { 2 } = e _ { P } ^ { \\frac { 2 - \\mu } { 2 } } } { H _ { P } ^ { 2 } } \\, \\mathrm { d e t } \\, \\, \\, \\mathrm { t r } \\, \\, H _ { H } ^ { \\pm } \\, \\, \\, \\, \\, \\, \\, \\, \\, \\, \\, \\, \\, \\, \\, \\, \\, \\, \\, \\, \\, \\, \\, \\, \\, \\, \\, \\, \\, \\, \\, \\, \\,\n",
      "BLEU Score: 0.2462\n"
     ]
    },
    {
     "name": "stderr",
     "output_type": "stream",
     "text": [
      "Evaluating:  20%|█▉        | 1781/8907 [05:01<11:03, 10.74it/s, bleu=0.5123]  "
     ]
    },
    {
     "name": "stdout",
     "output_type": "stream",
     "text": [
      "\n",
      "Sample 1781:\n",
      "Actual:    $ \\begin{array} { c c } { C ( \\eta _ { i } ) = 1 ~ , } & { C ( \\eta _ { f } ) = 0 ~ , \\nonumber } \\\\ { D ( \\eta _ { i } ) = 0 ~ , } & { D ( \\eta _ { f } ) = 1 ~ . } \\\\ \\end{array} $\n",
      "Predicted: $ \\begin{array} { l l } { G ( \\eta _ { i } ) = 1 } & { C _ { ( } ) _ { i } ) = 0 } & { 0 , } & { D ( \\eta _ { i } ) = 0 \\ , } & { D ( \\eta _ { j } ) = 1 } \\\\ \\end{array} $\n",
      "BLEU Score: 0.5457\n"
     ]
    },
    {
     "name": "stderr",
     "output_type": "stream",
     "text": [
      "Evaluating:  30%|███       | 2673/8907 [08:00<11:00,  9.44it/s, bleu=0.5095]  "
     ]
    },
    {
     "name": "stdout",
     "output_type": "stream",
     "text": [
      "\n",
      "Sample 2671:\n",
      "Actual:    $ - \\alpha ^ { 2 } \\left[ \\operatorname { c o s } \\theta _ { W } M ^ { 3 } { } _ { \\mu } - i X _ { 1 } ( M ^ { 1 } { } _ { \\mu } ) \\right] ^ { 2 } = - m _ { W } ^ { 2 } , $\n",
      "Predicted: $ - c ^ { 2 } \\left[ \\operatorname { c o s } \\theta _ { \\mu } M ^ { 0 } - M _ { 1 } ( X _ { - } ) ^ { 1 } ) ^ { 2 } \\right] ^ { 2 } = - m _ { W } ^ { 2 } , $\n",
      "BLEU Score: 0.6364\n"
     ]
    },
    {
     "name": "stderr",
     "output_type": "stream",
     "text": [
      "Evaluating:  40%|███▉      | 3561/8907 [10:01<39:25,  2.26it/s, bleu=0.5091]  "
     ]
    },
    {
     "name": "stdout",
     "output_type": "stream",
     "text": [
      "\n",
      "Sample 3561:\n",
      "Actual:    $ p = \\frac { 1 } { n N } \\rho , \\ \\ \\ \\rho = \\frac { E } { V } . $\n",
      "Predicted: $ p = \\frac { 1 } { n ! } \\rho , \\; \\; \\; \\; \\; \\; \\; \\; \\; \\; \\; \\; \\; \\; \\; \\; \\; \\; \\; \\; \\; \\; \\; \\; \\; \\; \\; \\; \\; \\; \\; \\; \\; \\; \\; \\; \\; \\; \\; \\; \\; \\; \\; \\; \\; \\; \\; \\; \\; \\; \\; \\; \\; \\; \\; \\; \\; \\; \\; \\; \\; \\; \\; \\; \\; \\; \\; \\; \\; \\; \\; \\; \\; \\; \\; \\; \\; \\; \\; \\; \\; \\; \\; \\; \\; \\; \\;\n",
      "BLEU Score: 0.0884\n"
     ]
    },
    {
     "name": "stderr",
     "output_type": "stream",
     "text": [
      "Evaluating:  50%|████▉     | 4453/8907 [12:30<06:17, 11.81it/s, bleu=0.5114]  "
     ]
    },
    {
     "name": "stdout",
     "output_type": "stream",
     "text": [
      "\n",
      "Sample 4451:\n",
      "Actual:    $ b _ { \\mu } \\longrightarrow b _ { \\mu } - s _ { \\mu } \\; , $\n",
      "Predicted: $ b _ { \\mu } \\rightarrow b _ { \\mu } - s _ { \\mu } ~ , $\n",
      "BLEU Score: 0.7417\n"
     ]
    },
    {
     "name": "stderr",
     "output_type": "stream",
     "text": [
      "Evaluating:  60%|█████▉    | 5343/8907 [14:51<05:40, 10.48it/s, bleu=0.5113]  "
     ]
    },
    {
     "name": "stdout",
     "output_type": "stream",
     "text": [
      "\n",
      "Sample 5341:\n",
      "Actual:    $ \\delta \\varphi ^ { r s } = \\left[ \\eta _ { i } ^ { \\mu } \\eta _ { j } ^ { \\nu } \\delta ^ { i r } \\delta ^ { j s } - ( \\eta _ { o } ^ { \\mu } \\eta _ { j } ^ { \\nu } - \\eta _ { o } ^ { \\nu } \\eta _ { j } ^ { \\mu } ) \\frac { \\delta ^ { i r } \\delta ^ { j s } p ^ { j } } { p ^ { o } + \\sqrt { p ^ { 2 } } } \\right] \\delta \\omega _ { \\mu \\nu } . $\n",
      "Predicted: $ \\delta \\varphi ^ { a } = \\int _ { i } ^ { a } \\sigma _ { b } ^ { a } \\delta ^ { a b } \\delta ^ { a } \\delta ^ { a } - ( \\eta _ { b } ^ { \\mu } - \\eta _ { b } ^ { \\mu } ) \\eta _ { b } ^ { \\nu } ) ^ { a } } \\frac { \\partial ^ { a } \\Phi ^ { a } } { p ^ { \\mu } } }\n",
      "BLEU Score: 0.3600\n"
     ]
    },
    {
     "name": "stderr",
     "output_type": "stream",
     "text": [
      "Evaluating:  70%|██████▉   | 6233/8907 [18:04<03:34, 12.44it/s, bleu=0.5111]  "
     ]
    },
    {
     "name": "stdout",
     "output_type": "stream",
     "text": [
      "\n",
      "Sample 6231:\n",
      "Actual:    $ I = I _ { + } + I _ { - } = \\frac { 2 \\pi } { \\vert \\lambda \\vert ^ { 2 } \\vert a \\vert ^ { 2 } } . $\n",
      "Predicted: $ I = I _ { + } + V _ { - } = \\frac { 2 \\pi } { | | | ^ { 2 } | a | ^ { 2 } } . $\n",
      "BLEU Score: 0.6795\n"
     ]
    },
    {
     "name": "stderr",
     "output_type": "stream",
     "text": [
      "Evaluating:  80%|███████▉  | 7122/8907 [20:15<05:18,  5.60it/s, bleu=0.5129]"
     ]
    },
    {
     "name": "stdout",
     "output_type": "stream",
     "text": [
      "\n",
      "Sample 7121:\n",
      "Actual:    $ D _ { + } ( G ^ { - 1 } \\dot { G } ) = 0 = \\bar { D } _ { + } ( G ^ { - 1 } \\dot { G } ) , $\n",
      "Predicted: $ D _ { + } ( G ^ { - 1 } G _ { - } ) = 0 , \\quad \\tilde { D } _ { + } ( G ^ { - 1 } G _ { 1 } ) , $\n",
      "BLEU Score: 0.6617\n"
     ]
    },
    {
     "name": "stderr",
     "output_type": "stream",
     "text": [
      "Evaluating:  90%|████████▉ | 8013/8907 [21:57<01:25, 10.42it/s, bleu=0.5132]"
     ]
    },
    {
     "name": "stdout",
     "output_type": "stream",
     "text": [
      "\n",
      "Sample 8011:\n",
      "Actual:    $ { \\cal C } = \\sigma ^ { 2 } \\otimes C \\otimes \\rho ^ { 1 } $\n",
      "Predicted: $ G = \\sigma ^ { 2 } \\otimes \\otimes C \\otimes \\rho $\n",
      "BLEU Score: 0.4103\n"
     ]
    },
    {
     "name": "stderr",
     "output_type": "stream",
     "text": [
      "Evaluating: 100%|█████████▉| 8902/8907 [24:13<00:00, 11.76it/s, bleu=0.5130]"
     ]
    },
    {
     "name": "stdout",
     "output_type": "stream",
     "text": [
      "\n",
      "Sample 8901:\n",
      "Actual:    $ V ( \\vec { \\varphi } ^ { 2 } ) = \\frac { \\mu ^ { 2 } } { 2 } \\vec { \\varphi } ^ { 2 } + \\frac { \\lambda } { 4 } ( \\vec { \\varphi } ^ { 2 } ) ^ { 2 } $\n",
      "Predicted: $ V ( \\varphi ^ { 2 } ) = \\frac { \\mu ^ { 2 } } { 2 } \\bar { \\varphi } ^ { 2 } + \\frac { \\lambda } { 4 } ( \\varphi ^ { 2 } ) ^ { 2 } $\n",
      "BLEU Score: 0.7485\n"
     ]
    },
    {
     "name": "stderr",
     "output_type": "stream",
     "text": [
      "Evaluating: 100%|██████████| 8907/8907 [24:13<00:00,  6.13it/s, bleu=0.5130]\n"
     ]
    },
    {
     "name": "stdout",
     "output_type": "stream",
     "text": [
      "\n",
      "Average BLEU score: 0.5130\n",
      "New best model saved with BLEU score: 0.5130\n",
      "\n",
      "Epoch 6/20\n"
     ]
    },
    {
     "name": "stderr",
     "output_type": "stream",
     "text": [
      "Training: 100%|██████████| 2343/2343 [1:05:21<00:00,  1.67s/it, loss=158.8256]\n"
     ]
    },
    {
     "name": "stdout",
     "output_type": "stream",
     "text": [
      "Training loss: 158.8256\n",
      "\n",
      "Evaluating model...\n"
     ]
    },
    {
     "name": "stderr",
     "output_type": "stream",
     "text": [
      "Evaluating:   0%|          | 2/8907 [00:01<1:36:40,  1.54it/s, bleu=0.6530]"
     ]
    },
    {
     "name": "stdout",
     "output_type": "stream",
     "text": [
      "\n",
      "Sample 1:\n",
      "Actual:    $ \\mathcal { F } _ { \\mathrm { i n } } ^ { ( 0 ) } = - S [ T _ { + } ^ { 2 } - C ^ { a } C ^ { a } ] $\n",
      "Predicted: $ { \\cal F } _ { \\mathrm { i n } } ^ { ( 0 ) } = - S _ { + } ^ { 2 } - C ^ { a } C ^ { a } ] $\n",
      "BLEU Score: 0.8602\n",
      "\n",
      "Sample 2:\n",
      "Actual:    $ d ( l _ { 0 } + 1 , k _ { 1 } ; l _ { 0 } , k _ { 1 } ) c ( l _ { 0 } , k _ { 1 } ; l _ { 0 } + 1 , k _ { 1 } ) = \\frac { ( k _ { 1 } + k _ { 0 } ) a - ( k _ { 1 } - k _ { 0 } ) b } { 2 k _ { 1 } ( k _ { 1 } - l _ { 0 } ) ( k _ { 1 } + l _ { 0 } + 1 ) } , $\n",
      "Predicted: $ d ( l _ { 0 } + k _ { 1 } , k _ { 2 } , k _ { 2 } , k _ { 2 } , k _ { 2 } ) k _ { 1 } , k _ { 2 } , k _ { 2 } , k _ { 1 } , k _ { 1 } , k _ { 1 } , k _ { 1 } , k _ { 1 } ) = \\frac { ( k _ { 1 } + k _ {\n",
      "BLEU Score: 0.4458\n"
     ]
    },
    {
     "name": "stderr",
     "output_type": "stream",
     "text": [
      "Evaluating:   0%|          | 3/8907 [00:01<1:02:41,  2.37it/s, bleu=0.5585]"
     ]
    },
    {
     "name": "stdout",
     "output_type": "stream",
     "text": [
      "\n",
      "Sample 3:\n",
      "Actual:    $ \\chi _ { k , l } ( q , \\theta ) ~ \\chi _ { 1 , \\epsilon } ( q , \\theta ) = \\sum _ { l ^ { \\prime } } \\chi _ { k + 1 , l ^ { \\prime } } ( q , \\theta ) \\chi _ { c , \\Delta _ { 2 l + 1 , 2 l ^ { \\prime } + 1 } } ^ { V } ( q ) $\n",
      "Predicted: $ \\chi _ { k } ( y , y ) , \\theta _ { k , l } ( \\theta , q ) = \\sum _ { l } \\chi _ { k , l + 1 } ( \\alpha , q ) \\Omega _ { k , l + 1 , l + 1 } ^ { V } ( q ) $\n",
      "BLEU Score: 0.3695\n"
     ]
    },
    {
     "name": "stderr",
     "output_type": "stream",
     "text": [
      "Evaluating:   0%|          | 5/8907 [00:02<39:12,  3.78it/s, bleu=0.5650]  "
     ]
    },
    {
     "name": "stdout",
     "output_type": "stream",
     "text": [
      "\n",
      "Sample 4:\n",
      "Actual:    $ ( F _ { \\mu \\nu } ) = \\left( \\begin{array} { c c c } { 0 } & { B } & { E _ { 1 } } \\\\ { - B } & { 0 } & { E _ { 2 } } \\\\ { - E _ { 1 } } & { - E _ { 2 } } & { 0 } \\\\ \\end{array} \\right) = i ( E _ { 2 } T _ { 1 } - E _ { 1 } T _ { 2 } + B T _ { 3 } ) \\ , $\n",
      "Predicted: $ \\left( \\begin{array} { c c c c } { \\mu _ { \\mu \\nu } } & { = } & { - B _ { 1 } } & { E _ { 2 } } & { E _ { 2 } } & { - E _ { 2 } } & { - E _ { 2 } } & { - E _ { 2 } } & { - E _ { 2 } } & { - Z _ { 1 } F _ { 2 } - E _ { 3\n",
      "BLEU Score: 0.5303\n",
      "\n",
      "Sample 5:\n",
      "Actual:    $ B ^ { 1 \\alpha , 2 \\beta } \\left( \\partial _ { \\tau } X ^ { 1 \\alpha } \\partial _ { \\sigma } X ^ { 2 \\beta } - \\partial _ { \\tau } X ^ { 2 \\beta } \\partial _ { \\sigma } X ^ { 1 \\alpha } \\right) . $\n",
      "Predicted: $ D ^ { \\alpha \\beta , \\alpha \\beta } \\left( \\partial _ { \\tau } X ^ { \\beta \\gamma } \\partial _ { \\sigma } \\bar { \\partial } ^ { \\beta } - \\partial _ { \\tau } X ^ { \\beta } \\partial _ { \\sigma } X ^ { - 1 } \\right) . $\n",
      "BLEU Score: 0.6190\n"
     ]
    },
    {
     "name": "stderr",
     "output_type": "stream",
     "text": [
      "Evaluating:  10%|█         | 893/8907 [01:41<12:52, 10.38it/s, bleu=0.5508] "
     ]
    },
    {
     "name": "stdout",
     "output_type": "stream",
     "text": [
      "\n",
      "Sample 891:\n",
      "Actual:    $ d s _ { p } ^ { 2 } = H _ { p } ^ { \\frac { 4 - \\Delta _ { p } } { \\Delta _ { p } } } d { \\bf x } \\cdot d { \\bf x } + H ^ { \\frac { 4 } { \\Delta } } H _ { p } ^ { \\frac { 4 - \\Delta _ { p } } { \\Delta _ { p } } } d z ^ { 2 } . $\n",
      "Predicted: $ k _ { p } ^ { 2 } = { _ { p } ^ { 2 } } { { { \\frac { \\omega _ { 2 } } { n _ { 2 } } } } \\operatorname { c o s } { k x + H _ { p } ^ { \\frac { \\omega _ { p } - \\omega _ { p } } { H _ { p } ^ { 2 } } } d z ^ { 2 } . $\n",
      "BLEU Score: 0.5040\n"
     ]
    },
    {
     "name": "stderr",
     "output_type": "stream",
     "text": [
      "Evaluating:  20%|██        | 1783/8907 [04:42<11:58,  9.92it/s, bleu=0.5478]  "
     ]
    },
    {
     "name": "stdout",
     "output_type": "stream",
     "text": [
      "\n",
      "Sample 1781:\n",
      "Actual:    $ \\begin{array} { c c } { C ( \\eta _ { i } ) = 1 ~ , } & { C ( \\eta _ { f } ) = 0 ~ , \\nonumber } \\\\ { D ( \\eta _ { i } ) = 0 ~ , } & { D ( \\eta _ { f } ) = 1 ~ . } \\\\ \\end{array} $\n",
      "Predicted: $ \\begin{array} { l l } { C ( \\eta _ { i } ) = 1 } & { C , } & { C ( \\eta _ { i } ) = 0 \\, , } \\\\ { D ( \\eta _ { i } ) = 0 \\, , } & { D D _ { f } ( r _ { j } ) = 1 \\, . } \\\\ \\end{array} $\n",
      "BLEU Score: 0.5979\n"
     ]
    },
    {
     "name": "stderr",
     "output_type": "stream",
     "text": [
      "Evaluating:  30%|███       | 2673/8907 [06:59<11:42,  8.87it/s, bleu=0.5467]  "
     ]
    },
    {
     "name": "stdout",
     "output_type": "stream",
     "text": [
      "\n",
      "Sample 2671:\n",
      "Actual:    $ - \\alpha ^ { 2 } \\left[ \\operatorname { c o s } \\theta _ { W } M ^ { 3 } { } _ { \\mu } - i X _ { 1 } ( M ^ { 1 } { } _ { \\mu } ) \\right] ^ { 2 } = - m _ { W } ^ { 2 } , $\n",
      "Predicted: $ - \\alpha ^ { 2 } \\left[ \\operatorname { c o s } \\theta _ { 0 } M _ { \\mu } ^ { 0 } - { 2 } ( i K _ { - } ( \\lambda ^ { M } ) ^ { 2 } \\right] = - m _ { W } ^ { 2 } , $\n",
      "BLEU Score: 0.5524\n"
     ]
    },
    {
     "name": "stderr",
     "output_type": "stream",
     "text": [
      "Evaluating:  40%|████      | 3563/8907 [08:59<08:14, 10.81it/s, bleu=0.5455]  "
     ]
    },
    {
     "name": "stdout",
     "output_type": "stream",
     "text": [
      "\n",
      "Sample 3561:\n",
      "Actual:    $ p = \\frac { 1 } { n N } \\rho , \\ \\ \\ \\rho = \\frac { E } { V } . $\n",
      "Predicted: $ p = \\frac { 1 } { m ! } \\rho , ~ ~ ~ \\rho = \\frac { E } { V } . $\n",
      "BLEU Score: 0.6740\n"
     ]
    },
    {
     "name": "stderr",
     "output_type": "stream",
     "text": [
      "Evaluating:  50%|████▉     | 4450/8907 [11:32<08:15,  9.00it/s, bleu=0.5474]  "
     ]
    },
    {
     "name": "stdout",
     "output_type": "stream",
     "text": [
      "\n",
      "Sample 4451:\n",
      "Actual:    $ b _ { \\mu } \\longrightarrow b _ { \\mu } - s _ { \\mu } \\; , $\n",
      "Predicted: $ b _ { \\mu } \\rightarrow b _ { \\mu } - s _ { \\mu } \\, , $\n",
      "BLEU Score: 0.7417\n"
     ]
    },
    {
     "name": "stderr",
     "output_type": "stream",
     "text": [
      "Evaluating:  60%|█████▉    | 5343/8907 [13:44<05:27, 10.88it/s, bleu=0.5456]  "
     ]
    },
    {
     "name": "stdout",
     "output_type": "stream",
     "text": [
      "\n",
      "Sample 5341:\n",
      "Actual:    $ \\delta \\varphi ^ { r s } = \\left[ \\eta _ { i } ^ { \\mu } \\eta _ { j } ^ { \\nu } \\delta ^ { i r } \\delta ^ { j s } - ( \\eta _ { o } ^ { \\mu } \\eta _ { j } ^ { \\nu } - \\eta _ { o } ^ { \\nu } \\eta _ { j } ^ { \\mu } ) \\frac { \\delta ^ { i r } \\delta ^ { j s } p ^ { j } } { p ^ { o } + \\sqrt { p ^ { 2 } } } \\right] \\delta \\omega _ { \\mu \\nu } . $\n",
      "Predicted: $ \\delta \\varphi ^ { m } = \\int _ { i } ^ { \\mu } \\eta _ { i } ^ { a } \\delta ^ { i j } \\delta ^ { i } - ( \\eta _ { i } ^ { \\mu } - \\eta _ { i j } ^ { \\nu } ) \\eta _ { j } ^ { \\nu } \\eta _ { j } ^ { \\nu } ) \\frac { \\delta ^ { \\mu } p ^ { j } } { p ^ { j } } \\frac\n",
      "BLEU Score: 0.5597\n"
     ]
    },
    {
     "name": "stderr",
     "output_type": "stream",
     "text": [
      "Evaluating:  70%|██████▉   | 6233/8907 [16:26<08:37,  5.17it/s, bleu=0.5459]  "
     ]
    },
    {
     "name": "stdout",
     "output_type": "stream",
     "text": [
      "\n",
      "Sample 6231:\n",
      "Actual:    $ I = I _ { + } + I _ { - } = \\frac { 2 \\pi } { \\vert \\lambda \\vert ^ { 2 } \\vert a \\vert ^ { 2 } } . $\n",
      "Predicted: $ I = L _ { + } + L = \\frac { 2 \\pi } { | | | ^ { 2 } | a | ^ { 2 } } . $\n",
      "BLEU Score: 0.4865\n"
     ]
    },
    {
     "name": "stderr",
     "output_type": "stream",
     "text": [
      "Evaluating:  80%|███████▉  | 7121/8907 [18:27<23:45,  1.25it/s, bleu=0.5474]"
     ]
    },
    {
     "name": "stdout",
     "output_type": "stream",
     "text": [
      "\n",
      "Sample 7121:\n",
      "Actual:    $ D _ { + } ( G ^ { - 1 } \\dot { G } ) = 0 = \\bar { D } _ { + } ( G ^ { - 1 } \\dot { G } ) , $\n",
      "Predicted: $ D _ { + } ( G ^ { - 1 } G ^ { i } G = 0 \\; \\bar { Z } _ { + } ( C ^ { - 1 } G ) , $\n",
      "BLEU Score: 0.5553\n"
     ]
    },
    {
     "name": "stderr",
     "output_type": "stream",
     "text": [
      "Evaluating:  90%|████████▉ | 8013/8907 [20:43<01:15, 11.77it/s, bleu=0.5482]  "
     ]
    },
    {
     "name": "stdout",
     "output_type": "stream",
     "text": [
      "\n",
      "Sample 8011:\n",
      "Actual:    $ { \\cal C } = \\sigma ^ { 2 } \\otimes C \\otimes \\rho ^ { 1 } $\n",
      "Predicted: $ { \\cal C } = \\sigma ^ { 2 } \\otimes { \\cal O } \\otimes { { \\phi } $\n",
      "BLEU Score: 0.5601\n"
     ]
    },
    {
     "name": "stderr",
     "output_type": "stream",
     "text": [
      "Evaluating: 100%|█████████▉| 8901/8907 [23:12<00:00, 10.51it/s, bleu=0.5478]"
     ]
    },
    {
     "name": "stdout",
     "output_type": "stream",
     "text": [
      "\n",
      "Sample 8901:\n",
      "Actual:    $ V ( \\vec { \\varphi } ^ { 2 } ) = \\frac { \\mu ^ { 2 } } { 2 } \\vec { \\varphi } ^ { 2 } + \\frac { \\lambda } { 4 } ( \\vec { \\varphi } ^ { 2 } ) ^ { 2 } $\n",
      "Predicted: $ V ( \\varphi ^ { 2 } ) = \\frac { \\mu ^ { 2 } } { 2 } \\varphi ^ { 2 } + \\frac { \\lambda } { 4 } ( \\varphi ^ { 2 } ) ^ { 2 } $\n",
      "BLEU Score: 0.6904\n"
     ]
    },
    {
     "name": "stderr",
     "output_type": "stream",
     "text": [
      "Evaluating: 100%|██████████| 8907/8907 [23:12<00:00,  6.40it/s, bleu=0.5477]\n"
     ]
    },
    {
     "name": "stdout",
     "output_type": "stream",
     "text": [
      "\n",
      "Average BLEU score: 0.5477\n",
      "New best model saved with BLEU score: 0.5477\n",
      "\n",
      "Epoch 7/20\n"
     ]
    },
    {
     "name": "stderr",
     "output_type": "stream",
     "text": [
      "Training: 100%|██████████| 2343/2343 [1:04:12<00:00,  1.64s/it, loss=144.6348]\n"
     ]
    },
    {
     "name": "stdout",
     "output_type": "stream",
     "text": [
      "Training loss: 144.6348\n",
      "\n",
      "Evaluating model...\n"
     ]
    },
    {
     "name": "stderr",
     "output_type": "stream",
     "text": [
      "Evaluating:   0%|          | 1/8907 [00:00<2:26:22,  1.01it/s, bleu=0.9419]"
     ]
    },
    {
     "name": "stdout",
     "output_type": "stream",
     "text": [
      "\n",
      "Sample 1:\n",
      "Actual:    $ \\mathcal { F } _ { \\mathrm { i n } } ^ { ( 0 ) } = - S [ T _ { + } ^ { 2 } - C ^ { a } C ^ { a } ] $\n",
      "Predicted: $ { \\cal F } _ { \\mathrm { i n } } ^ { ( 0 ) } = - S [ T _ { + } ^ { 2 } - C ^ { a } C ^ { a } ] $\n",
      "BLEU Score: 0.9419\n"
     ]
    },
    {
     "name": "stderr",
     "output_type": "stream",
     "text": [
      "Evaluating:   0%|          | 2/8907 [00:03<4:13:35,  1.71s/it, bleu=0.6773]"
     ]
    },
    {
     "name": "stdout",
     "output_type": "stream",
     "text": [
      "\n",
      "Sample 2:\n",
      "Actual:    $ d ( l _ { 0 } + 1 , k _ { 1 } ; l _ { 0 } , k _ { 1 } ) c ( l _ { 0 } , k _ { 1 } ; l _ { 0 } + 1 , k _ { 1 } ) = \\frac { ( k _ { 1 } + k _ { 0 } ) a - ( k _ { 1 } - k _ { 0 } ) b } { 2 k _ { 1 } ( k _ { 1 } - l _ { 0 } ) ( k _ { 1 } + l _ { 0 } + 1 ) } , $\n",
      "Predicted: $ d ( l _ { 0 } , l _ { 1 } , k _ { 2 } , k _ { 2 } ; k _ { 2 } ; l _ { 2 } ) [ k _ { 1 } , k _ { 2 } , l _ { 1 } , l _ { 1 } , l _ { 1 } , l _ { 1 } , l _ { 1 } , l _ { 1 } , l _ { 1 } ) = \\frac { ( k _\n",
      "BLEU Score: 0.4128\n"
     ]
    },
    {
     "name": "stderr",
     "output_type": "stream",
     "text": [
      "Evaluating:   0%|          | 3/8907 [00:03<3:02:59,  1.23s/it, bleu=0.5532]"
     ]
    },
    {
     "name": "stdout",
     "output_type": "stream",
     "text": [
      "\n",
      "Sample 3:\n",
      "Actual:    $ \\chi _ { k , l } ( q , \\theta ) ~ \\chi _ { 1 , \\epsilon } ( q , \\theta ) = \\sum _ { l ^ { \\prime } } \\chi _ { k + 1 , l ^ { \\prime } } ( q , \\theta ) \\chi _ { c , \\Delta _ { 2 l + 1 , 2 l ^ { \\prime } + 1 } } ^ { V } ( q ) $\n",
      "Predicted: $ s _ { k } ( \\chi , y ) , \\theta _ { l } ( \\theta , \\theta ) = \\sum _ { l } \\chi _ { k + k , l + ( q , q ) A _ { l + 1 , l + 1 } ^ { N } ( q ) $\n",
      "BLEU Score: 0.3050\n"
     ]
    },
    {
     "name": "stderr",
     "output_type": "stream",
     "text": [
      "Evaluating:   0%|          | 4/8907 [00:06<4:14:05,  1.71s/it, bleu=0.5586]"
     ]
    },
    {
     "name": "stdout",
     "output_type": "stream",
     "text": [
      "\n",
      "Sample 4:\n",
      "Actual:    $ ( F _ { \\mu \\nu } ) = \\left( \\begin{array} { c c c } { 0 } & { B } & { E _ { 1 } } \\\\ { - B } & { 0 } & { E _ { 2 } } \\\\ { - E _ { 1 } } & { - E _ { 2 } } & { 0 } \\\\ \\end{array} \\right) = i ( E _ { 2 } T _ { 1 } - E _ { 1 } T _ { 2 } + B T _ { 3 } ) \\ , $\n",
      "Predicted: $ \\left( F _ { \\mu \\nu } \\right) = \\left( \\begin{array} { c c } { 0 } & { B _ { 2 } } & { B _ { 2 } } \\\\ { - B _ { 2 } } & { 0 } \\\\ { - E _ { 2 } } & { 0 } \\\\ \\end{array} \\right) = H _ { 5 } ( \\vec { x } _ { 1 } - E _ { 2 } H _ { 3 } ) \\, , $\n",
      "BLEU Score: 0.5746\n"
     ]
    },
    {
     "name": "stderr",
     "output_type": "stream",
     "text": [
      "Evaluating:   0%|          | 5/8907 [00:07<3:53:29,  1.57s/it, bleu=0.5376]"
     ]
    },
    {
     "name": "stdout",
     "output_type": "stream",
     "text": [
      "\n",
      "Sample 5:\n",
      "Actual:    $ B ^ { 1 \\alpha , 2 \\beta } \\left( \\partial _ { \\tau } X ^ { 1 \\alpha } \\partial _ { \\sigma } X ^ { 2 \\beta } - \\partial _ { \\tau } X ^ { 2 \\beta } \\partial _ { \\sigma } X ^ { 1 \\alpha } \\right) . $\n",
      "Predicted: $ B ^ { 2 , B B } ( \\partial _ { r } ^ { 2 } ) ^ { 2 } \\delta _ { \\sigma } \\delta ^ { 2 } } \\delta ^ { 2 } - \\partial _ { \\tau } X ^ { 2 } \\partial _ { \\sigma } X ^ { 1 1 } X ^ { 1 } } \\right) . $\n",
      "BLEU Score: 0.4537\n"
     ]
    },
    {
     "name": "stderr",
     "output_type": "stream",
     "text": [
      "Evaluating:  10%|█         | 893/8907 [02:03<12:58, 10.29it/s, bleu=0.5691]  "
     ]
    },
    {
     "name": "stdout",
     "output_type": "stream",
     "text": [
      "\n",
      "Sample 891:\n",
      "Actual:    $ d s _ { p } ^ { 2 } = H _ { p } ^ { \\frac { 4 - \\Delta _ { p } } { \\Delta _ { p } } } d { \\bf x } \\cdot d { \\bf x } + H ^ { \\frac { 4 } { \\Delta } } H _ { p } ^ { \\frac { 4 - \\Delta _ { p } } { \\Delta _ { p } } } d z ^ { 2 } . $\n",
      "Predicted: $ k _ { p } ^ { 2 } = { H _ { P } ^ { 2 } } { H _ { P } } } \\; \\mathrm { d e } \\ \\mathrm { d e t } \\; + H H _ { P } ^ { \\pm \\frac { \\omega _ { 2 } - a _ { 2 } } { d t } } d z ^ { 2 } . $\n",
      "BLEU Score: 0.3054\n"
     ]
    },
    {
     "name": "stderr",
     "output_type": "stream",
     "text": [
      "Evaluating:  20%|██        | 1782/8907 [04:52<12:04,  9.83it/s, bleu=0.5692]  "
     ]
    },
    {
     "name": "stdout",
     "output_type": "stream",
     "text": [
      "\n",
      "Sample 1781:\n",
      "Actual:    $ \\begin{array} { c c } { C ( \\eta _ { i } ) = 1 ~ , } & { C ( \\eta _ { f } ) = 0 ~ , \\nonumber } \\\\ { D ( \\eta _ { i } ) = 0 ~ , } & { D ( \\eta _ { f } ) = 1 ~ . } \\\\ \\end{array} $\n",
      "Predicted: $ \\begin{array} { l l } { C ( n _ { i } ) = 1 , } & { C ( r _ { j } ) = 0 \\ , } \\\\ { D ( \\eta _ { i } ) = 0 , } & { D ( \\eta _ { f } ) _ { f } ) = 1 ~ . } \\\\ \\end{array} $\n",
      "BLEU Score: 0.7016\n"
     ]
    },
    {
     "name": "stderr",
     "output_type": "stream",
     "text": [
      "Evaluating:  30%|███       | 2673/8907 [06:53<09:22, 11.08it/s, bleu=0.5660]  "
     ]
    },
    {
     "name": "stdout",
     "output_type": "stream",
     "text": [
      "\n",
      "Sample 2671:\n",
      "Actual:    $ - \\alpha ^ { 2 } \\left[ \\operatorname { c o s } \\theta _ { W } M ^ { 3 } { } _ { \\mu } - i X _ { 1 } ( M ^ { 1 } { } _ { \\mu } ) \\right] ^ { 2 } = - m _ { W } ^ { 2 } , $\n",
      "Predicted: $ - \\alpha ^ { 2 } \\left[ \\operatorname { c o s h } \\theta _ { \\mu } - M _ { 1 } ( i M _ { - } ) ^ { 2 } \\right] ^ { 2 } = - m _ { W } ^ { 2 } , $\n",
      "BLEU Score: 0.5792\n"
     ]
    },
    {
     "name": "stderr",
     "output_type": "stream",
     "text": [
      "Evaluating:  40%|███▉      | 3562/8907 [08:53<1:00:09,  1.48it/s, bleu=0.5668]"
     ]
    },
    {
     "name": "stdout",
     "output_type": "stream",
     "text": [
      "\n",
      "Sample 3561:\n",
      "Actual:    $ p = \\frac { 1 } { n N } \\rho , \\ \\ \\ \\rho = \\frac { E } { V } . $\n",
      "Predicted: $ p = \\frac { 1 } { n ! N } \\rho , \\quad \\rho = \\frac { E } { V } . $\n",
      "BLEU Score: 0.7551\n"
     ]
    },
    {
     "name": "stderr",
     "output_type": "stream",
     "text": [
      "Evaluating:  50%|████▉     | 4452/8907 [10:49<07:08, 10.39it/s, bleu=0.5683]  "
     ]
    },
    {
     "name": "stdout",
     "output_type": "stream",
     "text": [
      "\n",
      "Sample 4451:\n",
      "Actual:    $ b _ { \\mu } \\longrightarrow b _ { \\mu } - s _ { \\mu } \\; , $\n",
      "Predicted: $ b _ { \\mu } \\rightarrow b _ { \\mu } - s _ { \\mu } \\ , $\n",
      "BLEU Score: 0.7417\n"
     ]
    },
    {
     "name": "stderr",
     "output_type": "stream",
     "text": [
      "Evaluating:  60%|█████▉    | 5343/8907 [12:48<05:47, 10.26it/s, bleu=0.5668]  "
     ]
    },
    {
     "name": "stdout",
     "output_type": "stream",
     "text": [
      "\n",
      "Sample 5341:\n",
      "Actual:    $ \\delta \\varphi ^ { r s } = \\left[ \\eta _ { i } ^ { \\mu } \\eta _ { j } ^ { \\nu } \\delta ^ { i r } \\delta ^ { j s } - ( \\eta _ { o } ^ { \\mu } \\eta _ { j } ^ { \\nu } - \\eta _ { o } ^ { \\nu } \\eta _ { j } ^ { \\mu } ) \\frac { \\delta ^ { i r } \\delta ^ { j s } p ^ { j } } { p ^ { o } + \\sqrt { p ^ { 2 } } } \\right] \\delta \\omega _ { \\mu \\nu } . $\n",
      "Predicted: $ \\delta \\varphi ^ { a } = \\int _ { i } ^ { \\mu } \\eta _ { i } ^ { \\mu } \\delta ^ { i j } \\delta ^ { i j } - ( \\eta _ { i } ^ { j } \\eta _ { j } ^ { \\nu } - \\eta _ { j } ^ { \\nu } \\eta _ { j } ^ { \\nu } ) \\eta _ { j } ^ { \\nu } \\frac { \\delta ^ { \\nu } \\Psi ^ { j } }\n",
      "BLEU Score: 0.5337\n"
     ]
    },
    {
     "name": "stderr",
     "output_type": "stream",
     "text": [
      "Evaluating:  70%|██████▉   | 6233/8907 [14:58<11:12,  3.97it/s, bleu=0.5666]  "
     ]
    },
    {
     "name": "stdout",
     "output_type": "stream",
     "text": [
      "\n",
      "Sample 6231:\n",
      "Actual:    $ I = I _ { + } + I _ { - } = \\frac { 2 \\pi } { \\vert \\lambda \\vert ^ { 2 } \\vert a \\vert ^ { 2 } } . $\n",
      "Predicted: $ I = I _ { + } + L _ { - } = \\frac { 2 \\pi } { | | | | ^ { 2 } | a | ^ { 2 } } . $\n",
      "BLEU Score: 0.6613\n"
     ]
    },
    {
     "name": "stderr",
     "output_type": "stream",
     "text": [
      "Evaluating:  80%|███████▉  | 7122/8907 [16:53<03:18,  9.01it/s, bleu=0.5688]"
     ]
    },
    {
     "name": "stdout",
     "output_type": "stream",
     "text": [
      "\n",
      "Sample 7121:\n",
      "Actual:    $ D _ { + } ( G ^ { - 1 } \\dot { G } ) = 0 = \\bar { D } _ { + } ( G ^ { - 1 } \\dot { G } ) , $\n",
      "Predicted: $ D _ { + } ( G ^ { - 1 } \\hat { G } ) = 0 \\, = \\, \\bar { D } _ { + } ( G ^ { - 1 } G ) , $\n",
      "BLEU Score: 0.7496\n"
     ]
    },
    {
     "name": "stderr",
     "output_type": "stream",
     "text": [
      "Evaluating:  90%|████████▉ | 8012/8907 [19:04<02:30,  5.96it/s, bleu=0.5689]"
     ]
    },
    {
     "name": "stdout",
     "output_type": "stream",
     "text": [
      "\n",
      "Sample 8011:\n",
      "Actual:    $ { \\cal C } = \\sigma ^ { 2 } \\otimes C \\otimes \\rho ^ { 1 } $\n",
      "Predicted: $ { \\cal C } = \\sigma ^ { 2 } \\otimes { \\cal O } \\otimes { { \\boldmath ~ \\alpha ~ } } $\n",
      "BLEU Score: 0.4685\n"
     ]
    },
    {
     "name": "stderr",
     "output_type": "stream",
     "text": [
      "Evaluating: 100%|█████████▉| 8901/8907 [21:18<00:00, 11.79it/s, bleu=0.5689]"
     ]
    },
    {
     "name": "stdout",
     "output_type": "stream",
     "text": [
      "\n",
      "Sample 8901:\n",
      "Actual:    $ V ( \\vec { \\varphi } ^ { 2 } ) = \\frac { \\mu ^ { 2 } } { 2 } \\vec { \\varphi } ^ { 2 } + \\frac { \\lambda } { 4 } ( \\vec { \\varphi } ^ { 2 } ) ^ { 2 } $\n",
      "Predicted: $ V ( \\varphi ^ { 2 } ) = \\frac { \\mu ^ { 2 } } { 2 } \\dot { \\varphi } ^ { 2 } + \\frac { \\lambda } { 4 } ( \\varphi ^ { 2 } ) ^ { 2 } $\n",
      "BLEU Score: 0.7485\n"
     ]
    },
    {
     "name": "stderr",
     "output_type": "stream",
     "text": [
      "Evaluating: 100%|██████████| 8907/8907 [21:19<00:00,  6.96it/s, bleu=0.5689]\n"
     ]
    },
    {
     "name": "stdout",
     "output_type": "stream",
     "text": [
      "\n",
      "Average BLEU score: 0.5689\n",
      "New best model saved with BLEU score: 0.5689\n",
      "\n",
      "Epoch 8/20\n"
     ]
    },
    {
     "name": "stderr",
     "output_type": "stream",
     "text": [
      "Training: 100%|██████████| 2343/2343 [59:39<00:00,  1.53s/it, loss=133.7030] \n"
     ]
    },
    {
     "name": "stdout",
     "output_type": "stream",
     "text": [
      "Training loss: 133.7030\n",
      "\n",
      "Evaluating model...\n"
     ]
    },
    {
     "name": "stderr",
     "output_type": "stream",
     "text": [
      "Evaluating:   0%|          | 2/8907 [00:01<1:43:46,  1.43it/s, bleu=0.5962]"
     ]
    },
    {
     "name": "stdout",
     "output_type": "stream",
     "text": [
      "\n",
      "Sample 1:\n",
      "Actual:    $ \\mathcal { F } _ { \\mathrm { i n } } ^ { ( 0 ) } = - S [ T _ { + } ^ { 2 } - C ^ { a } C ^ { a } ] $\n",
      "Predicted: $ { \\cal F } _ { \\mathrm { i n } } ^ { ( 0 ) } = - S [ T ^ { 2 } - C ^ { a } C ^ { a } ] $\n",
      "BLEU Score: 0.8127\n",
      "\n",
      "Sample 2:\n",
      "Actual:    $ d ( l _ { 0 } + 1 , k _ { 1 } ; l _ { 0 } , k _ { 1 } ) c ( l _ { 0 } , k _ { 1 } ; l _ { 0 } + 1 , k _ { 1 } ) = \\frac { ( k _ { 1 } + k _ { 0 } ) a - ( k _ { 1 } - k _ { 0 } ) b } { 2 k _ { 1 } ( k _ { 1 } - l _ { 0 } ) ( k _ { 1 } + l _ { 0 } + 1 ) } , $\n",
      "Predicted: $ d ( a _ { 1 } , k _ { 1 } , k _ { 2 } , k _ { 2 } , k _ { 2 } ; k _ { 1 } ) [ k _ { 1 } , k _ { 2 } , k _ { 2 } , k _ { 1 } , k _ { 2 } , l _ { 1 } , l _ { 2 } ) = \\frac { k ( k _ { 1 } + k _ { 2 } ) (\n",
      "BLEU Score: 0.3796\n"
     ]
    },
    {
     "name": "stderr",
     "output_type": "stream",
     "text": [
      "Evaluating:   0%|          | 4/8907 [00:01<50:51,  2.92it/s, bleu=0.5198]  "
     ]
    },
    {
     "name": "stdout",
     "output_type": "stream",
     "text": [
      "\n",
      "Sample 3:\n",
      "Actual:    $ \\chi _ { k , l } ( q , \\theta ) ~ \\chi _ { 1 , \\epsilon } ( q , \\theta ) = \\sum _ { l ^ { \\prime } } \\chi _ { k + 1 , l ^ { \\prime } } ( q , \\theta ) \\chi _ { c , \\Delta _ { 2 l + 1 , 2 l ^ { \\prime } + 1 } } ^ { V } ( q ) $\n",
      "Predicted: $ \\chi _ { k } ( s , \\theta ) \\theta _ { 1 , 2 } ( \\theta , \\theta ) = \\sum _ { l } \\chi _ { N , l + 1 } ( g , \\theta ) Y _ { l , l + 1 , l + n } ^ { V } ( q ) $\n",
      "BLEU Score: 0.3732\n",
      "\n",
      "Sample 4:\n",
      "Actual:    $ ( F _ { \\mu \\nu } ) = \\left( \\begin{array} { c c c } { 0 } & { B } & { E _ { 1 } } \\\\ { - B } & { 0 } & { E _ { 2 } } \\\\ { - E _ { 1 } } & { - E _ { 2 } } & { 0 } \\\\ \\end{array} \\right) = i ( E _ { 2 } T _ { 1 } - E _ { 1 } T _ { 2 } + B T _ { 3 } ) \\ , $\n",
      "Predicted: $ \\left( \\begin{array} { l l } { ( F _ { \\mu \\nu } ) } & { = } & { - B _ { a } } & { B _ { 2 } } \\\\ { - E _ { a } } & { 0 } & { 0 } \\\\ { - E _ { a } } & { - B _ { 2 } } & { 0 } \\\\ \\end{array} \\right) = H _ { 0 } ( \\tau _ { E } \\tau _ { E } - E _\n",
      "BLEU Score: 0.5136\n"
     ]
    },
    {
     "name": "stderr",
     "output_type": "stream",
     "text": [
      "Evaluating:   0%|          | 7/8907 [00:02<27:06,  5.47it/s, bleu=0.4942]"
     ]
    },
    {
     "name": "stdout",
     "output_type": "stream",
     "text": [
      "\n",
      "Sample 5:\n",
      "Actual:    $ B ^ { 1 \\alpha , 2 \\beta } \\left( \\partial _ { \\tau } X ^ { 1 \\alpha } \\partial _ { \\sigma } X ^ { 2 \\beta } - \\partial _ { \\tau } X ^ { 2 \\beta } \\partial _ { \\sigma } X ^ { 1 \\alpha } \\right) . $\n",
      "Predicted: $ B ^ { \\alpha \\beta , \\alpha \\beta } ( \\partial _ { \\tau } X ^ { \\alpha } \\partial _ { \\sigma } X ^ { \\beta } ) \\delta ^ { \\beta } \\delta _ { \\gamma } - \\partial _ { \\gamma } X ^ { \\beta } \\partial _ { \\sigma } X ^ { \\alpha } } \\right) . $\n",
      "BLEU Score: 0.5393\n"
     ]
    },
    {
     "name": "stderr",
     "output_type": "stream",
     "text": [
      "Evaluating:  10%|█         | 893/8907 [03:49<19:05,  6.99it/s, bleu=0.5930]  "
     ]
    },
    {
     "name": "stdout",
     "output_type": "stream",
     "text": [
      "\n",
      "Sample 891:\n",
      "Actual:    $ d s _ { p } ^ { 2 } = H _ { p } ^ { \\frac { 4 - \\Delta _ { p } } { \\Delta _ { p } } } d { \\bf x } \\cdot d { \\bf x } + H ^ { \\frac { 4 } { \\Delta } } H _ { p } ^ { \\frac { 4 - \\Delta _ { p } } { \\Delta _ { p } } } d z ^ { 2 } . $\n",
      "Predicted: $ d s _ { p } ^ { 2 } = { { \\frac { \\omega _ { p } } { d - 2 } } } d s \\, \\mathrm { d e t } \\, \\, \\mathrm { d e t } \\, H + H ^ { \\frac { 4 - \\alpha } { H _ { p } } } d z ^ { 2 } \\, . $\n",
      "BLEU Score: 0.4177\n"
     ]
    },
    {
     "name": "stderr",
     "output_type": "stream",
     "text": [
      "Evaluating:  20%|█▉        | 1781/8907 [05:42<1:46:55,  1.11it/s, bleu=0.5955]"
     ]
    },
    {
     "name": "stdout",
     "output_type": "stream",
     "text": [
      "\n",
      "Sample 1781:\n",
      "Actual:    $ \\begin{array} { c c } { C ( \\eta _ { i } ) = 1 ~ , } & { C ( \\eta _ { f } ) = 0 ~ , \\nonumber } \\\\ { D ( \\eta _ { i } ) = 0 ~ , } & { D ( \\eta _ { f } ) = 1 ~ . } \\\\ \\end{array} $\n",
      "Predicted: $ \\begin{array} { l l } { C ( \\eta _ { i } ) = 1 , ~ ~ ~ C ( \\sigma _ { H } ) = 0 ~ , } \\\\ { D ( \\eta _ { i } ) = 0 , } & { D ( \\eta _ { f } ) = 1 } \\\\ \\end{array} $\n",
      "BLEU Score: 0.6707\n"
     ]
    },
    {
     "name": "stderr",
     "output_type": "stream",
     "text": [
      "Evaluating:  30%|██▉       | 2671/8907 [08:35<15:21,  6.77it/s, bleu=0.5914]  "
     ]
    },
    {
     "name": "stdout",
     "output_type": "stream",
     "text": [
      "\n",
      "Sample 2671:\n",
      "Actual:    $ - \\alpha ^ { 2 } \\left[ \\operatorname { c o s } \\theta _ { W } M ^ { 3 } { } _ { \\mu } - i X _ { 1 } ( M ^ { 1 } { } _ { \\mu } ) \\right] ^ { 2 } = - m _ { W } ^ { 2 } , $\n",
      "Predicted: $ - \\alpha ^ { 2 } \\left[ \\operatorname { c o s } \\theta _ { W } M ^ { 0 } - { 1 } { 2 } - i \\Lambda _ { 1 } ( M ^ { M } ) \\right] ^ { 2 } = - m _ { W } ^ { 2 } , $\n",
      "BLEU Score: 0.7420\n"
     ]
    },
    {
     "name": "stderr",
     "output_type": "stream",
     "text": [
      "Evaluating:  40%|████      | 3563/8907 [11:35<07:54, 11.27it/s, bleu=0.5910]  "
     ]
    },
    {
     "name": "stdout",
     "output_type": "stream",
     "text": [
      "\n",
      "Sample 3561:\n",
      "Actual:    $ p = \\frac { 1 } { n N } \\rho , \\ \\ \\ \\rho = \\frac { E } { V } . $\n",
      "Predicted: $ p = \\frac { 1 } { n ! } \\rho , ~ ~ \\rho = \\frac { E } { V } . $\n",
      "BLEU Score: 0.7152\n"
     ]
    },
    {
     "name": "stderr",
     "output_type": "stream",
     "text": [
      "Evaluating:  50%|████▉     | 4452/8907 [13:38<06:17, 11.81it/s, bleu=0.5929]  "
     ]
    },
    {
     "name": "stdout",
     "output_type": "stream",
     "text": [
      "\n",
      "Sample 4451:\n",
      "Actual:    $ b _ { \\mu } \\longrightarrow b _ { \\mu } - s _ { \\mu } \\; , $\n",
      "Predicted: $ b _ { \\mu } \\rightarrow b _ { \\mu } - s _ { \\mu } \\, , $\n",
      "BLEU Score: 0.7417\n"
     ]
    },
    {
     "name": "stderr",
     "output_type": "stream",
     "text": [
      "Evaluating:  60%|█████▉    | 5343/8907 [15:41<05:24, 10.99it/s, bleu=0.5912]  "
     ]
    },
    {
     "name": "stdout",
     "output_type": "stream",
     "text": [
      "\n",
      "Sample 5341:\n",
      "Actual:    $ \\delta \\varphi ^ { r s } = \\left[ \\eta _ { i } ^ { \\mu } \\eta _ { j } ^ { \\nu } \\delta ^ { i r } \\delta ^ { j s } - ( \\eta _ { o } ^ { \\mu } \\eta _ { j } ^ { \\nu } - \\eta _ { o } ^ { \\nu } \\eta _ { j } ^ { \\mu } ) \\frac { \\delta ^ { i r } \\delta ^ { j s } p ^ { j } } { p ^ { o } + \\sqrt { p ^ { 2 } } } \\right] \\delta \\omega _ { \\mu \\nu } . $\n",
      "Predicted: $ \\delta \\varphi ^ { a } = \\left\\{ \\eta _ { i } ^ { a } \\eta _ { j } ^ { a } \\delta ^ { a } \\delta ^ { a } - ( \\eta _ { a } ^ { a } \\eta ^ { \\nu } - \\eta _ { b } ^ { \\nu } \\eta _ { j } ^ { \\nu } ) \\frac { \\delta ^ { a } \\delta ^ { a } } { p ^ { \\mu } } { p ^ { 2 } +\n",
      "BLEU Score: 0.5029\n"
     ]
    },
    {
     "name": "stderr",
     "output_type": "stream",
     "text": [
      "Evaluating:  70%|██████▉   | 6232/8907 [17:56<04:25, 10.08it/s, bleu=0.5910]  "
     ]
    },
    {
     "name": "stdout",
     "output_type": "stream",
     "text": [
      "\n",
      "Sample 6231:\n",
      "Actual:    $ I = I _ { + } + I _ { - } = \\frac { 2 \\pi } { \\vert \\lambda \\vert ^ { 2 } \\vert a \\vert ^ { 2 } } . $\n",
      "Predicted: $ I = L _ { + } + I _ { - } = \\frac { 2 \\pi } { | \\lambda | ^ { 2 } | a | ^ { 2 } } . $\n",
      "BLEU Score: 0.6847\n"
     ]
    },
    {
     "name": "stderr",
     "output_type": "stream",
     "text": [
      "Evaluating:  80%|███████▉  | 7122/8907 [20:07<02:38, 11.29it/s, bleu=0.5923]"
     ]
    },
    {
     "name": "stdout",
     "output_type": "stream",
     "text": [
      "\n",
      "Sample 7121:\n",
      "Actual:    $ D _ { + } ( G ^ { - 1 } \\dot { G } ) = 0 = \\bar { D } _ { + } ( G ^ { - 1 } \\dot { G } ) , $\n",
      "Predicted: $ D _ { + } ( G ^ { - 1 } G { G } ) = 0 , \\ \\tilde { D } _ { + } ( G ^ { - 1 } G ) , $\n",
      "BLEU Score: 0.7204\n"
     ]
    },
    {
     "name": "stderr",
     "output_type": "stream",
     "text": [
      "Evaluating:  90%|████████▉ | 8013/8907 [22:09<01:13, 12.23it/s, bleu=0.5929]"
     ]
    },
    {
     "name": "stdout",
     "output_type": "stream",
     "text": [
      "\n",
      "Sample 8011:\n",
      "Actual:    $ { \\cal C } = \\sigma ^ { 2 } \\otimes C \\otimes \\rho ^ { 1 } $\n",
      "Predicted: $ { \\cal C } = \\sigma ^ { 2 } \\otimes C \\otimes { { \\rho } $\n",
      "BLEU Score: 0.7336\n"
     ]
    },
    {
     "name": "stderr",
     "output_type": "stream",
     "text": [
      "Evaluating: 100%|█████████▉| 8902/8907 [24:19<00:01,  3.63it/s, bleu=0.5928]"
     ]
    },
    {
     "name": "stdout",
     "output_type": "stream",
     "text": [
      "\n",
      "Sample 8901:\n",
      "Actual:    $ V ( \\vec { \\varphi } ^ { 2 } ) = \\frac { \\mu ^ { 2 } } { 2 } \\vec { \\varphi } ^ { 2 } + \\frac { \\lambda } { 4 } ( \\vec { \\varphi } ^ { 2 } ) ^ { 2 } $\n",
      "Predicted: $ V ( \\varphi ^ { 2 } ) = \\frac { \\mu ^ { 2 } } { 2 } \\varphi ^ { 2 } + \\frac { \\lambda } { 4 } ( \\varphi ^ { 2 } ) ^ { 2 } $\n",
      "BLEU Score: 0.6904\n"
     ]
    },
    {
     "name": "stderr",
     "output_type": "stream",
     "text": [
      "Evaluating: 100%|██████████| 8907/8907 [24:19<00:00,  6.10it/s, bleu=0.5927]\n"
     ]
    },
    {
     "name": "stdout",
     "output_type": "stream",
     "text": [
      "\n",
      "Average BLEU score: 0.5927\n",
      "New best model saved with BLEU score: 0.5927\n",
      "\n",
      "Epoch 9/20\n"
     ]
    },
    {
     "name": "stderr",
     "output_type": "stream",
     "text": [
      "Training: 100%|██████████| 2343/2343 [1:08:31<00:00,  1.75s/it, loss=123.2616]\n"
     ]
    },
    {
     "name": "stdout",
     "output_type": "stream",
     "text": [
      "Training loss: 123.2616\n",
      "\n",
      "Evaluating model...\n"
     ]
    },
    {
     "name": "stderr",
     "output_type": "stream",
     "text": [
      "Evaluating:   0%|          | 1/8907 [00:00<1:48:52,  1.36it/s, bleu=0.8833]"
     ]
    },
    {
     "name": "stdout",
     "output_type": "stream",
     "text": [
      "\n",
      "Sample 1:\n",
      "Actual:    $ \\mathcal { F } _ { \\mathrm { i n } } ^ { ( 0 ) } = - S [ T _ { + } ^ { 2 } - C ^ { a } C ^ { a } ] $\n",
      "Predicted: $ { \\cal F } _ { \\mathrm { i n } } ^ { ( 0 ) } = - S T _ { + } ^ { 2 } - C ^ { a } C ^ { a } ] $\n",
      "BLEU Score: 0.8833\n"
     ]
    },
    {
     "name": "stderr",
     "output_type": "stream",
     "text": [
      "Evaluating:   0%|          | 2/8907 [00:01<2:27:06,  1.01it/s, bleu=0.7148]"
     ]
    },
    {
     "name": "stdout",
     "output_type": "stream",
     "text": [
      "\n",
      "Sample 2:\n",
      "Actual:    $ d ( l _ { 0 } + 1 , k _ { 1 } ; l _ { 0 } , k _ { 1 } ) c ( l _ { 0 } , k _ { 1 } ; l _ { 0 } + 1 , k _ { 1 } ) = \\frac { ( k _ { 1 } + k _ { 0 } ) a - ( k _ { 1 } - k _ { 0 } ) b } { 2 k _ { 1 } ( k _ { 1 } - l _ { 0 } ) ( k _ { 1 } + l _ { 0 } + 1 ) } , $\n",
      "Predicted: $ d ( l _ { 0 } + k _ { 1 } , k _ { 2 } , k _ { 1 } ) k _ { 1 } ( k _ { 1 } , k _ { 2 } ) k _ { 1 } ( k _ { 1 } + k _ { 2 } , k _ { 1 } ) = \\frac { ( k _ { 1 } + k _ { 2 } ) ( k - k _ { 0 } ) - k _ { 0 }\n",
      "BLEU Score: 0.5464\n"
     ]
    },
    {
     "name": "stderr",
     "output_type": "stream",
     "text": [
      "Evaluating:   0%|          | 3/8907 [00:03<2:36:25,  1.05s/it, bleu=0.6104]"
     ]
    },
    {
     "name": "stdout",
     "output_type": "stream",
     "text": [
      "\n",
      "Sample 3:\n",
      "Actual:    $ \\chi _ { k , l } ( q , \\theta ) ~ \\chi _ { 1 , \\epsilon } ( q , \\theta ) = \\sum _ { l ^ { \\prime } } \\chi _ { k + 1 , l ^ { \\prime } } ( q , \\theta ) \\chi _ { c , \\Delta _ { 2 l + 1 , 2 l ^ { \\prime } + 1 } } ^ { V } ( q ) $\n",
      "Predicted: $ \\chi _ { k , l } ( y , \\theta ) , \\theta _ { k , l } ( \\theta , \\theta ) = \\sum _ { l } \\chi _ { k , l + 1 } ( \\alpha , p ) \\theta _ { l , l + 1 , l + 1 } ^ { V } ( q ) $\n",
      "BLEU Score: 0.4014\n"
     ]
    },
    {
     "name": "stderr",
     "output_type": "stream",
     "text": [
      "Evaluating:   0%|          | 4/8907 [00:04<2:38:16,  1.07s/it, bleu=0.5978]"
     ]
    },
    {
     "name": "stdout",
     "output_type": "stream",
     "text": [
      "\n",
      "Sample 4:\n",
      "Actual:    $ ( F _ { \\mu \\nu } ) = \\left( \\begin{array} { c c c } { 0 } & { B } & { E _ { 1 } } \\\\ { - B } & { 0 } & { E _ { 2 } } \\\\ { - E _ { 1 } } & { - E _ { 2 } } & { 0 } \\\\ \\end{array} \\right) = i ( E _ { 2 } T _ { 1 } - E _ { 1 } T _ { 2 } + B T _ { 3 } ) \\ , $\n",
      "Predicted: $ \\left( P _ { \\mu \\nu } \\right) = \\left( \\begin{array} { l l } { 0 } & { R _ { 1 } } & { B _ { 2 } } & { B _ { 2 } } \\\\ { - E _ { 1 } - B _ { 2 } } & { 0 } \\\\ \\end{array} \\right) = \\left\\langle H _ { 0 } H _ { 2 } = E _ { 1 } H _ { 2 } + T _ { 2 } T _ { 3 } \\right)\n",
      "BLEU Score: 0.5600\n"
     ]
    },
    {
     "name": "stderr",
     "output_type": "stream",
     "text": [
      "Evaluating:   0%|          | 5/8907 [00:06<3:27:14,  1.40s/it, bleu=0.6197]"
     ]
    },
    {
     "name": "stdout",
     "output_type": "stream",
     "text": [
      "\n",
      "Sample 5:\n",
      "Actual:    $ B ^ { 1 \\alpha , 2 \\beta } \\left( \\partial _ { \\tau } X ^ { 1 \\alpha } \\partial _ { \\sigma } X ^ { 2 \\beta } - \\partial _ { \\tau } X ^ { 2 \\beta } \\partial _ { \\sigma } X ^ { 1 \\alpha } \\right) . $\n",
      "Predicted: $ B ^ { \\alpha \\beta , \\beta \\alpha } \\left( \\partial _ { \\tau } X ^ { \\alpha \\beta } \\partial _ { \\sigma } X ^ { \\beta \\beta } - \\partial _ { \\tau } X ^ { \\beta \\beta } \\partial _ { \\sigma } X ^ { \\alpha } \\right) . $\n",
      "BLEU Score: 0.7076\n"
     ]
    },
    {
     "name": "stderr",
     "output_type": "stream",
     "text": [
      "Evaluating:  10%|█         | 891/8907 [01:54<15:07,  8.83it/s, bleu=0.6038]  "
     ]
    },
    {
     "name": "stdout",
     "output_type": "stream",
     "text": [
      "\n",
      "Sample 891:\n",
      "Actual:    $ d s _ { p } ^ { 2 } = H _ { p } ^ { \\frac { 4 - \\Delta _ { p } } { \\Delta _ { p } } } d { \\bf x } \\cdot d { \\bf x } + H ^ { \\frac { 4 } { \\Delta } } H _ { p } ^ { \\frac { 4 - \\Delta _ { p } } { \\Delta _ { p } } } d z ^ { 2 } . $\n",
      "Predicted: $ d s _ { p } ^ { 2 } = { H _ { p } ^ { 2 } - H _ { p } } \\mathrm { d } { \\bf x } \\times \\mathrm { d } t + H _ { p } ^ { \\frac { \\Delta _ { p } - \\Delta _ { p } } { d t _ { p } ^ { 2 } } } d z ^ { 2 } . $\n",
      "BLEU Score: 0.5936\n"
     ]
    },
    {
     "name": "stderr",
     "output_type": "stream",
     "text": [
      "Evaluating:  20%|██        | 1782/8907 [04:01<15:13,  7.80it/s, bleu=0.5997]  "
     ]
    },
    {
     "name": "stdout",
     "output_type": "stream",
     "text": [
      "\n",
      "Sample 1781:\n",
      "Actual:    $ \\begin{array} { c c } { C ( \\eta _ { i } ) = 1 ~ , } & { C ( \\eta _ { f } ) = 0 ~ , \\nonumber } \\\\ { D ( \\eta _ { i } ) = 0 ~ , } & { D ( \\eta _ { f } ) = 1 ~ . } \\\\ \\end{array} $\n",
      "Predicted: $ \\begin{array} { l } { G ( \\eta _ { i } ) = 1 } & { C ( \\eta _ { i } ) = 0 \\; , } \\\\ { D ( \\eta _ { i } ) = 0 \\; , } & { D _ { i } ( p _ { i } ) = 1 \\; . } \\\\ \\end{array} $\n",
      "BLEU Score: 0.5879\n"
     ]
    },
    {
     "name": "stderr",
     "output_type": "stream",
     "text": [
      "Evaluating:  30%|███       | 2673/8907 [05:40<09:38, 10.77it/s, bleu=0.5986]  "
     ]
    },
    {
     "name": "stdout",
     "output_type": "stream",
     "text": [
      "\n",
      "Sample 2671:\n",
      "Actual:    $ - \\alpha ^ { 2 } \\left[ \\operatorname { c o s } \\theta _ { W } M ^ { 3 } { } _ { \\mu } - i X _ { 1 } ( M ^ { 1 } { } _ { \\mu } ) \\right] ^ { 2 } = - m _ { W } ^ { 2 } , $\n",
      "Predicted: $ - \\alpha ^ { 2 } \\left[ \\operatorname { c o s } \\theta _ { W } M ^ { 0 } - i { \\bf X } _ { 1 } ( M _ { \\mu } M ^ { 1 } ) \\right] ^ { 2 } = - m _ { W } ^ { 2 } , $\n",
      "BLEU Score: 0.7706\n"
     ]
    },
    {
     "name": "stderr",
     "output_type": "stream",
     "text": [
      "Evaluating:  40%|███▉      | 3562/8907 [08:25<16:12,  5.49it/s, bleu=0.5975]  "
     ]
    },
    {
     "name": "stdout",
     "output_type": "stream",
     "text": [
      "\n",
      "Sample 3561:\n",
      "Actual:    $ p = \\frac { 1 } { n N } \\rho , \\ \\ \\ \\rho = \\frac { E } { V } . $\n",
      "Predicted: $ p = \\frac { 1 } { n ! } \\rho \\rho \\; \\; \\; \\; \\; \\rho = \\frac { E } { V } . $\n",
      "BLEU Score: 0.6366\n"
     ]
    },
    {
     "name": "stderr",
     "output_type": "stream",
     "text": [
      "Evaluating:  50%|████▉     | 4452/8907 [10:24<17:33,  4.23it/s, bleu=0.6002]  "
     ]
    },
    {
     "name": "stdout",
     "output_type": "stream",
     "text": [
      "\n",
      "Sample 4451:\n",
      "Actual:    $ b _ { \\mu } \\longrightarrow b _ { \\mu } - s _ { \\mu } \\; , $\n",
      "Predicted: $ b _ { \\mu } \\rightarrow \\delta _ { \\mu } - s _ { \\mu } \\, , $\n",
      "BLEU Score: 0.6892\n"
     ]
    },
    {
     "name": "stderr",
     "output_type": "stream",
     "text": [
      "Evaluating:  60%|█████▉    | 5342/8907 [13:01<08:01,  7.40it/s, bleu=0.6003]  "
     ]
    },
    {
     "name": "stdout",
     "output_type": "stream",
     "text": [
      "\n",
      "Sample 5341:\n",
      "Actual:    $ \\delta \\varphi ^ { r s } = \\left[ \\eta _ { i } ^ { \\mu } \\eta _ { j } ^ { \\nu } \\delta ^ { i r } \\delta ^ { j s } - ( \\eta _ { o } ^ { \\mu } \\eta _ { j } ^ { \\nu } - \\eta _ { o } ^ { \\nu } \\eta _ { j } ^ { \\mu } ) \\frac { \\delta ^ { i r } \\delta ^ { j s } p ^ { j } } { p ^ { o } + \\sqrt { p ^ { 2 } } } \\right] \\delta \\omega _ { \\mu \\nu } . $\n",
      "Predicted: $ \\delta \\varphi ^ { a } = \\left[ \\eta _ { i } ^ { a } \\eta _ { i } ^ { a } \\delta ^ { j } - ( \\eta _ { i } ^ { \\nu } \\eta _ { i } ^ { \\nu } - \\eta _ { 0 } ^ { \\nu } \\eta _ { j } ^ { \\nu } ) \\frac { \\delta ^ { a } \\Phi ^ { \\nu } } { p ^ { 2 } + \\sqrt { p } } \\right] _ {\n",
      "BLEU Score: 0.5172\n"
     ]
    },
    {
     "name": "stderr",
     "output_type": "stream",
     "text": [
      "Evaluating:  70%|██████▉   | 6232/8907 [15:05<03:38, 12.26it/s, bleu=0.6007]  "
     ]
    },
    {
     "name": "stdout",
     "output_type": "stream",
     "text": [
      "\n",
      "Sample 6231:\n",
      "Actual:    $ I = I _ { + } + I _ { - } = \\frac { 2 \\pi } { \\vert \\lambda \\vert ^ { 2 } \\vert a \\vert ^ { 2 } } . $\n",
      "Predicted: $ I = I _ { + } + I _ { - } = \\frac { 2 \\pi } { | \\lambda | ^ { 2 } a | ^ { 2 } } . $\n",
      "BLEU Score: 0.7601\n"
     ]
    },
    {
     "name": "stderr",
     "output_type": "stream",
     "text": [
      "Evaluating:  80%|███████▉  | 7122/8907 [16:58<02:34, 11.56it/s, bleu=0.6032]"
     ]
    },
    {
     "name": "stdout",
     "output_type": "stream",
     "text": [
      "\n",
      "Sample 7121:\n",
      "Actual:    $ D _ { + } ( G ^ { - 1 } \\dot { G } ) = 0 = \\bar { D } _ { + } ( G ^ { - 1 } \\dot { G } ) , $\n",
      "Predicted: $ D _ { + } ( G ^ { - 1 } G _ { I } ) = 0 = \\tilde { D } _ { + } ( G ^ { - 1 } G ) , $\n",
      "BLEU Score: 0.7054\n"
     ]
    },
    {
     "name": "stderr",
     "output_type": "stream",
     "text": [
      "Evaluating:  90%|████████▉ | 8012/8907 [19:54<02:45,  5.39it/s, bleu=0.6037]"
     ]
    },
    {
     "name": "stdout",
     "output_type": "stream",
     "text": [
      "\n",
      "Sample 8011:\n",
      "Actual:    $ { \\cal C } = \\sigma ^ { 2 } \\otimes C \\otimes \\rho ^ { 1 } $\n",
      "Predicted: $ { \\cal G } = \\sigma ^ { 2 } \\otimes C \\circ \\rho ^ { 1 } $\n",
      "BLEU Score: 0.7077\n"
     ]
    },
    {
     "name": "stderr",
     "output_type": "stream",
     "text": [
      "Evaluating: 100%|█████████▉| 8901/8907 [21:46<00:00, 11.13it/s, bleu=0.6034]"
     ]
    },
    {
     "name": "stdout",
     "output_type": "stream",
     "text": [
      "\n",
      "Sample 8901:\n",
      "Actual:    $ V ( \\vec { \\varphi } ^ { 2 } ) = \\frac { \\mu ^ { 2 } } { 2 } \\vec { \\varphi } ^ { 2 } + \\frac { \\lambda } { 4 } ( \\vec { \\varphi } ^ { 2 } ) ^ { 2 } $\n",
      "Predicted: $ V ( \\vec { \\varphi } ^ { 2 } ) = \\frac { \\mu ^ { 2 } } { 2 } \\varphi ^ { 2 } + \\frac { \\lambda } { 4 } ( \\varphi ^ { 2 } ) ^ { 2 } $\n",
      "BLEU Score: 0.7976\n"
     ]
    },
    {
     "name": "stderr",
     "output_type": "stream",
     "text": [
      "Evaluating: 100%|██████████| 8907/8907 [21:46<00:00,  6.82it/s, bleu=0.6033]\n"
     ]
    },
    {
     "name": "stdout",
     "output_type": "stream",
     "text": [
      "\n",
      "Average BLEU score: 0.6033\n",
      "New best model saved with BLEU score: 0.6033\n",
      "\n",
      "Epoch 10/20\n"
     ]
    },
    {
     "name": "stderr",
     "output_type": "stream",
     "text": [
      "Training: 100%|██████████| 2343/2343 [1:02:31<00:00,  1.60s/it, loss=114.7209]\n"
     ]
    },
    {
     "name": "stdout",
     "output_type": "stream",
     "text": [
      "Training loss: 114.7209\n",
      "\n",
      "Evaluating model...\n"
     ]
    },
    {
     "name": "stderr",
     "output_type": "stream",
     "text": [
      "Evaluating:   0%|          | 1/8907 [00:01<2:40:30,  1.08s/it, bleu=0.8828]"
     ]
    },
    {
     "name": "stdout",
     "output_type": "stream",
     "text": [
      "\n",
      "Sample 1:\n",
      "Actual:    $ \\mathcal { F } _ { \\mathrm { i n } } ^ { ( 0 ) } = - S [ T _ { + } ^ { 2 } - C ^ { a } C ^ { a } ] $\n",
      "Predicted: $ { \\cal F } _ { \\mathrm { i n } } ^ { ( 0 ) } = - S T T _ { + } ^ { 2 } - C ^ { a } C ^ { a } ] $\n",
      "BLEU Score: 0.8828\n"
     ]
    },
    {
     "name": "stderr",
     "output_type": "stream",
     "text": [
      "Evaluating:   0%|          | 3/8907 [00:01<54:45,  2.71it/s, bleu=0.6283]  "
     ]
    },
    {
     "name": "stdout",
     "output_type": "stream",
     "text": [
      "\n",
      "Sample 2:\n",
      "Actual:    $ d ( l _ { 0 } + 1 , k _ { 1 } ; l _ { 0 } , k _ { 1 } ) c ( l _ { 0 } , k _ { 1 } ; l _ { 0 } + 1 , k _ { 1 } ) = \\frac { ( k _ { 1 } + k _ { 0 } ) a - ( k _ { 1 } - k _ { 0 } ) b } { 2 k _ { 1 } ( k _ { 1 } - l _ { 0 } ) ( k _ { 1 } + l _ { 0 } + 1 ) } , $\n",
      "Predicted: $ d ( d _ { 0 } + 1 , k _ { 1 } , k _ { 2 } ; k _ { 1 } ) k _ { 1 } ( k _ { 1 } , k _ { 2 } , k _ { 1 } + 1 ) \\frac { ( k _ { 1 } + k _ { 2 } ) ( ( k - k _ { 0 } ) ^ { 2 } } { 2 k _ { 1 } ( k _ { 1 } - k\n",
      "BLEU Score: 0.5350\n",
      "\n",
      "Sample 3:\n",
      "Actual:    $ \\chi _ { k , l } ( q , \\theta ) ~ \\chi _ { 1 , \\epsilon } ( q , \\theta ) = \\sum _ { l ^ { \\prime } } \\chi _ { k + 1 , l ^ { \\prime } } ( q , \\theta ) \\chi _ { c , \\Delta _ { 2 l + 1 , 2 l ^ { \\prime } + 1 } } ^ { V } ( q ) $\n",
      "Predicted: $ \\chi _ { k } ( s , y ) \\otimes { _ { R , ( k ) } ( q , \\theta ) = \\sum _ { l } \\chi _ { k , l + 1 , l } ( q , \\theta ) Y _ { l , l , x _ { l + 1 , l } ^ { V } ( q ) $\n",
      "BLEU Score: 0.4673\n"
     ]
    },
    {
     "name": "stderr",
     "output_type": "stream",
     "text": [
      "Evaluating:   0%|          | 5/8907 [00:01<31:39,  4.69it/s, bleu=0.5985]"
     ]
    },
    {
     "name": "stdout",
     "output_type": "stream",
     "text": [
      "\n",
      "Sample 4:\n",
      "Actual:    $ ( F _ { \\mu \\nu } ) = \\left( \\begin{array} { c c c } { 0 } & { B } & { E _ { 1 } } \\\\ { - B } & { 0 } & { E _ { 2 } } \\\\ { - E _ { 1 } } & { - E _ { 2 } } & { 0 } \\\\ \\end{array} \\right) = i ( E _ { 2 } T _ { 1 } - E _ { 1 } T _ { 2 } + B T _ { 3 } ) \\ , $\n",
      "Predicted: $ \\left( F _ { \\mu \\nu } \\right) = \\left( \\begin{array} { c c } { 0 } & { E _ { 1 } } \\\\ { - B _ { 1 } } & { E _ { 2 } } \\\\ \\end{array} \\right) = H _ { 0 } ( E _ { 1 } + E _ { 2 } ) T _ { E } + \\mathrm { T r } _ { B } ) ~ , $\n",
      "BLEU Score: 0.4999\n",
      "\n",
      "Sample 5:\n",
      "Actual:    $ B ^ { 1 \\alpha , 2 \\beta } \\left( \\partial _ { \\tau } X ^ { 1 \\alpha } \\partial _ { \\sigma } X ^ { 2 \\beta } - \\partial _ { \\tau } X ^ { 2 \\beta } \\partial _ { \\sigma } X ^ { 1 \\alpha } \\right) . $\n",
      "Predicted: $ B ^ { \\alpha \\beta \\alpha \\beta } ( \\partial _ { r } X ^ { \\beta \\gamma } \\partial _ { \\sigma } X ^ { \\beta } ) \\partial _ { \\tau } X ^ { \\beta } \\partial _ { \\sigma } X ^ { \\gamma } ) } . $\n",
      "BLEU Score: 0.5290\n"
     ]
    },
    {
     "name": "stderr",
     "output_type": "stream",
     "text": [
      "Evaluating:  10%|█         | 891/8907 [01:41<15:01,  8.89it/s, bleu=0.6260]  "
     ]
    },
    {
     "name": "stdout",
     "output_type": "stream",
     "text": [
      "\n",
      "Sample 891:\n",
      "Actual:    $ d s _ { p } ^ { 2 } = H _ { p } ^ { \\frac { 4 - \\Delta _ { p } } { \\Delta _ { p } } } d { \\bf x } \\cdot d { \\bf x } + H ^ { \\frac { 4 } { \\Delta } } H _ { p } ^ { \\frac { 4 - \\Delta _ { p } } { \\Delta _ { p } } } d z ^ { 2 } . $\n",
      "Predicted: $ d s _ { p } ^ { 2 } = \\overline { { H } } _ { p } ^ { - \\frac { 4 a _ { 2 } } { 2 } } \\, \\mathrm { a n d } \\, \\mathrm { d } t + \\mathrm { H } \\, H _ { p } ^ { \\frac { 4 - s } { 2 } } \\, d r \\, d ^ { 2 } . $\n",
      "BLEU Score: 0.3971\n"
     ]
    },
    {
     "name": "stderr",
     "output_type": "stream",
     "text": [
      "Evaluating:  20%|██        | 1782/8907 [05:19<15:15,  7.78it/s, bleu=0.6255]  "
     ]
    },
    {
     "name": "stdout",
     "output_type": "stream",
     "text": [
      "\n",
      "Sample 1781:\n",
      "Actual:    $ \\begin{array} { c c } { C ( \\eta _ { i } ) = 1 ~ , } & { C ( \\eta _ { f } ) = 0 ~ , \\nonumber } \\\\ { D ( \\eta _ { i } ) = 0 ~ , } & { D ( \\eta _ { f } ) = 1 ~ . } \\\\ \\end{array} $\n",
      "Predicted: $ \\begin{array} { l } { G ( \\eta _ { i } ) = 1 \\, , \\, \\, \\, \\, \\, \\, \\, \\, \\, \\, \\, \\, \\, \\, \\, \\, \\, \\, \\, \\, \\, \\, \\, \\, \\, \\, \\, \\, \\, \\, \\, \\, \\, \\, \\, \\, \\, \\, \\, \\, \\, \\, \\, \\, \\, \\, \\, \\, \\, \\, \\, \\, \\, D ( \\eta _ { 1 } ) = 1 \\, . } \\\\ \\end{array} $\n",
      "BLEU Score: 0.2141\n"
     ]
    },
    {
     "name": "stderr",
     "output_type": "stream",
     "text": [
      "Evaluating:  30%|██▉       | 2672/8907 [07:38<10:00, 10.38it/s, bleu=0.6226]  "
     ]
    },
    {
     "name": "stdout",
     "output_type": "stream",
     "text": [
      "\n",
      "Sample 2671:\n",
      "Actual:    $ - \\alpha ^ { 2 } \\left[ \\operatorname { c o s } \\theta _ { W } M ^ { 3 } { } _ { \\mu } - i X _ { 1 } ( M ^ { 1 } { } _ { \\mu } ) \\right] ^ { 2 } = - m _ { W } ^ { 2 } , $\n",
      "Predicted: $ - \\alpha ^ { 2 } \\left[ \\operatorname { c o s } \\theta _ { W } M ^ { 3 } - \\frac { i } { 2 } N _ { 1 } ( M ^ { - } ) \\right] ^ { 2 } = - m _ { W } ^ { 2 } , $\n",
      "BLEU Score: 0.7381\n"
     ]
    },
    {
     "name": "stderr",
     "output_type": "stream",
     "text": [
      "Evaluating:  40%|███▉      | 3562/8907 [10:13<09:17,  9.59it/s, bleu=0.6223]  "
     ]
    },
    {
     "name": "stdout",
     "output_type": "stream",
     "text": [
      "\n",
      "Sample 3561:\n",
      "Actual:    $ p = \\frac { 1 } { n N } \\rho , \\ \\ \\ \\rho = \\frac { E } { V } . $\n",
      "Predicted: $ p = \\frac { 1 } { n ! } \\rho \\rho , \\quad \\rho = \\frac { E } { V } . $\n",
      "BLEU Score: 0.7044\n"
     ]
    },
    {
     "name": "stderr",
     "output_type": "stream",
     "text": [
      "Evaluating:  50%|████▉     | 4452/8907 [12:20<07:18, 10.16it/s, bleu=0.6237]  "
     ]
    },
    {
     "name": "stdout",
     "output_type": "stream",
     "text": [
      "\n",
      "Sample 4451:\n",
      "Actual:    $ b _ { \\mu } \\longrightarrow b _ { \\mu } - s _ { \\mu } \\; , $\n",
      "Predicted: $ b _ { \\mu } \\rightarrow b _ { \\mu } - s _ { \\mu } \\ , $\n",
      "BLEU Score: 0.7417\n"
     ]
    },
    {
     "name": "stderr",
     "output_type": "stream",
     "text": [
      "Evaluating:  60%|█████▉    | 5343/8907 [14:46<06:10,  9.62it/s, bleu=0.6231]  "
     ]
    },
    {
     "name": "stdout",
     "output_type": "stream",
     "text": [
      "\n",
      "Sample 5341:\n",
      "Actual:    $ \\delta \\varphi ^ { r s } = \\left[ \\eta _ { i } ^ { \\mu } \\eta _ { j } ^ { \\nu } \\delta ^ { i r } \\delta ^ { j s } - ( \\eta _ { o } ^ { \\mu } \\eta _ { j } ^ { \\nu } - \\eta _ { o } ^ { \\nu } \\eta _ { j } ^ { \\mu } ) \\frac { \\delta ^ { i r } \\delta ^ { j s } p ^ { j } } { p ^ { o } + \\sqrt { p ^ { 2 } } } \\right] \\delta \\omega _ { \\mu \\nu } . $\n",
      "Predicted: $ \\delta \\varphi ^ { n } = \\left[ \\eta _ { i } ^ { \\mu } \\eta _ { j } ^ { i j } \\delta ^ { j i } ( - \\eta _ { j } ^ { \\mu } \\eta _ { j } ^ { \\nu } - \\eta _ { j } ^ { \\nu } \\eta _ { j } ^ { \\nu } ) \\frac { \\delta ^ { n } \\Phi ^ { i } } { p ^ { + } } } \\right] \\delta _ { \\mu\n",
      "BLEU Score: 0.5734\n"
     ]
    },
    {
     "name": "stderr",
     "output_type": "stream",
     "text": [
      "Evaluating:  70%|██████▉   | 6233/8907 [16:42<03:30, 12.70it/s, bleu=0.6233]  "
     ]
    },
    {
     "name": "stdout",
     "output_type": "stream",
     "text": [
      "\n",
      "Sample 6231:\n",
      "Actual:    $ I = I _ { + } + I _ { - } = \\frac { 2 \\pi } { \\vert \\lambda \\vert ^ { 2 } \\vert a \\vert ^ { 2 } } . $\n",
      "Predicted: $ I = I _ { + } + I _ { - } = \\frac { 2 \\pi } { | \\lambda | ^ { 2 } | a | ^ { 2 } } . $\n",
      "BLEU Score: 0.7595\n"
     ]
    },
    {
     "name": "stderr",
     "output_type": "stream",
     "text": [
      "Evaluating:  80%|███████▉  | 7122/8907 [19:15<02:39, 11.20it/s, bleu=0.6254]"
     ]
    },
    {
     "name": "stdout",
     "output_type": "stream",
     "text": [
      "\n",
      "Sample 7121:\n",
      "Actual:    $ D _ { + } ( G ^ { - 1 } \\dot { G } ) = 0 = \\bar { D } _ { + } ( G ^ { - 1 } \\dot { G } ) , $\n",
      "Predicted: $ D _ { + } ( G ^ { - 1 } G G ) = 0 , \\bar { D } _ { + } ( G ^ { - 1 } G ^ { i } ) , $\n",
      "BLEU Score: 0.7054\n"
     ]
    },
    {
     "name": "stderr",
     "output_type": "stream",
     "text": [
      "Evaluating:  90%|████████▉ | 8013/8907 [21:42<01:39,  8.98it/s, bleu=0.6258]"
     ]
    },
    {
     "name": "stdout",
     "output_type": "stream",
     "text": [
      "\n",
      "Sample 8011:\n",
      "Actual:    $ { \\cal C } = \\sigma ^ { 2 } \\otimes C \\otimes \\rho ^ { 1 } $\n",
      "Predicted: $ { \\cal C } = \\sigma ^ { 2 } \\otimes C \\otimes \\rho ^ { 1 } $\n",
      "BLEU Score: 1.0000\n"
     ]
    },
    {
     "name": "stderr",
     "output_type": "stream",
     "text": [
      "Evaluating: 100%|█████████▉| 8902/8907 [23:41<00:00, 12.18it/s, bleu=0.6257]"
     ]
    },
    {
     "name": "stdout",
     "output_type": "stream",
     "text": [
      "\n",
      "Sample 8901:\n",
      "Actual:    $ V ( \\vec { \\varphi } ^ { 2 } ) = \\frac { \\mu ^ { 2 } } { 2 } \\vec { \\varphi } ^ { 2 } + \\frac { \\lambda } { 4 } ( \\vec { \\varphi } ^ { 2 } ) ^ { 2 } $\n",
      "Predicted: $ V ( \\vec { \\varphi } ^ { 2 } ) = \\frac { \\mu ^ { 2 } } { 2 } \\dot { \\varphi } ^ { 2 } + \\frac { \\lambda } { 4 } ( \\varphi ^ { 2 } ) ^ { 2 } $\n",
      "BLEU Score: 0.8526\n"
     ]
    },
    {
     "name": "stderr",
     "output_type": "stream",
     "text": [
      "Evaluating: 100%|██████████| 8907/8907 [23:41<00:00,  6.26it/s, bleu=0.6257]\n"
     ]
    },
    {
     "name": "stdout",
     "output_type": "stream",
     "text": [
      "\n",
      "Average BLEU score: 0.6257\n",
      "New best model saved with BLEU score: 0.6257\n",
      "\n",
      "Epoch 11/20\n"
     ]
    },
    {
     "name": "stderr",
     "output_type": "stream",
     "text": [
      "Training: 100%|██████████| 2343/2343 [59:43<00:00,  1.53s/it, loss=107.8306]  \n"
     ]
    },
    {
     "name": "stdout",
     "output_type": "stream",
     "text": [
      "Training loss: 107.8306\n",
      "\n",
      "Evaluating model...\n"
     ]
    },
    {
     "name": "stderr",
     "output_type": "stream",
     "text": [
      "Evaluating:   0%|          | 1/8907 [00:00<1:02:30,  2.37it/s, bleu=0.9419]"
     ]
    },
    {
     "name": "stdout",
     "output_type": "stream",
     "text": [
      "\n",
      "Sample 1:\n",
      "Actual:    $ \\mathcal { F } _ { \\mathrm { i n } } ^ { ( 0 ) } = - S [ T _ { + } ^ { 2 } - C ^ { a } C ^ { a } ] $\n",
      "Predicted: $ { \\cal F } _ { \\mathrm { i n } } ^ { ( 0 ) } = - S [ T _ { + } ^ { 2 } - C ^ { a } C ^ { a } ] $\n",
      "BLEU Score: 0.9419\n"
     ]
    },
    {
     "name": "stderr",
     "output_type": "stream",
     "text": [
      "Evaluating:   0%|          | 3/8907 [00:00<41:35,  3.57it/s, bleu=0.6200]  "
     ]
    },
    {
     "name": "stdout",
     "output_type": "stream",
     "text": [
      "\n",
      "Sample 2:\n",
      "Actual:    $ d ( l _ { 0 } + 1 , k _ { 1 } ; l _ { 0 } , k _ { 1 } ) c ( l _ { 0 } , k _ { 1 } ; l _ { 0 } + 1 , k _ { 1 } ) = \\frac { ( k _ { 1 } + k _ { 0 } ) a - ( k _ { 1 } - k _ { 0 } ) b } { 2 k _ { 1 } ( k _ { 1 } - l _ { 0 } ) ( k _ { 1 } + l _ { 0 } + 1 ) } , $\n",
      "Predicted: $ d ( l _ { 0 } + 1 _ { 1 } , k _ { 3 } , k _ { 1 } ) R _ { 0 } ( k _ { 1 } , k _ { 2 } , l _ { 1 } + 1 , k _ { 1 } ) + \\frac { ( k _ { 1 } + k _ { 2 } ) ( k _ { 1 } - k _ { 0 } ) _ { 0 } } { 2 k _ { 1 }\n",
      "BLEU Score: 0.5800\n",
      "\n",
      "Sample 3:\n",
      "Actual:    $ \\chi _ { k , l } ( q , \\theta ) ~ \\chi _ { 1 , \\epsilon } ( q , \\theta ) = \\sum _ { l ^ { \\prime } } \\chi _ { k + 1 , l ^ { \\prime } } ( q , \\theta ) \\chi _ { c , \\Delta _ { 2 l + 1 , 2 l ^ { \\prime } + 1 } } ^ { V } ( q ) $\n",
      "Predicted: $ \\chi _ { R } ( s , l ) \\theta _ { R , \\chi } ( \\theta , \\theta ) = \\sum _ { r } s _ { N , l + 1 } ( q , \\theta ) R _ { l , l + 1 , l + 1 } ^ { V } ( q ) $\n",
      "BLEU Score: 0.3383\n"
     ]
    },
    {
     "name": "stderr",
     "output_type": "stream",
     "text": [
      "Evaluating:   0%|          | 4/8907 [00:01<34:19,  4.32it/s, bleu=0.5972]"
     ]
    },
    {
     "name": "stdout",
     "output_type": "stream",
     "text": [
      "\n",
      "Sample 4:\n",
      "Actual:    $ ( F _ { \\mu \\nu } ) = \\left( \\begin{array} { c c c } { 0 } & { B } & { E _ { 1 } } \\\\ { - B } & { 0 } & { E _ { 2 } } \\\\ { - E _ { 1 } } & { - E _ { 2 } } & { 0 } \\\\ \\end{array} \\right) = i ( E _ { 2 } T _ { 1 } - E _ { 1 } T _ { 2 } + B T _ { 3 } ) \\ , $\n",
      "Predicted: $ \\left( P _ { \\mu \\nu } \\right) = \\left( \\begin{array} { l l } { 0 } & { R _ { 1 } } & { R _ { 2 } } \\\\ { - B _ { 1 } } & { R _ { 2 } } & { 0 } \\\\ \\end{array} \\right) = F _ { 0 } ( H _ { 1 } - T _ { 2 } T _ { 3 } + \\Pi T _ { 3 } \\Pi _ { 3 } ) \\, , $\n",
      "BLEU Score: 0.5287\n"
     ]
    },
    {
     "name": "stderr",
     "output_type": "stream",
     "text": [
      "Evaluating:   0%|          | 6/8907 [00:01<41:57,  3.54it/s, bleu=0.6286]"
     ]
    },
    {
     "name": "stdout",
     "output_type": "stream",
     "text": [
      "\n",
      "Sample 5:\n",
      "Actual:    $ B ^ { 1 \\alpha , 2 \\beta } \\left( \\partial _ { \\tau } X ^ { 1 \\alpha } \\partial _ { \\sigma } X ^ { 2 \\beta } - \\partial _ { \\tau } X ^ { 2 \\beta } \\partial _ { \\sigma } X ^ { 1 \\alpha } \\right) . $\n",
      "Predicted: $ B ^ { 2 , 2 , R } \\left( \\partial _ { \\tau } X ^ { i } f _ { \\sigma } \\partial ^ { 2 } - \\partial _ { \\tau } X _ { \\sigma } ^ { 2 \\beta } \\partial _ { \\sigma } X ^ { 1 1 } \\right) . $\n",
      "BLEU Score: 0.6219\n"
     ]
    },
    {
     "name": "stderr",
     "output_type": "stream",
     "text": [
      "Evaluating:  10%|█         | 893/8907 [01:38<13:51,  9.64it/s, bleu=0.6452]  "
     ]
    },
    {
     "name": "stdout",
     "output_type": "stream",
     "text": [
      "\n",
      "Sample 891:\n",
      "Actual:    $ d s _ { p } ^ { 2 } = H _ { p } ^ { \\frac { 4 - \\Delta _ { p } } { \\Delta _ { p } } } d { \\bf x } \\cdot d { \\bf x } + H ^ { \\frac { 4 } { \\Delta } } H _ { p } ^ { \\frac { 4 - \\Delta _ { p } } { \\Delta _ { p } } } d z ^ { 2 } . $\n",
      "Predicted: $ d s _ { p } ^ { 2 } = \\overline { { H } } _ { p } ^ { \\frac { d - 2 } { d - 2 } } \\, d s \\, \\, \\, \\mathrm { d } t \\, + H H ^ { \\frac { 4 - \\Delta } { H } } H _ { p } ^ { \\frac { \\Delta - \\Delta _ { p } } { d - 2 } } d z ^ { 2 } . $\n",
      "BLEU Score: 0.5664\n"
     ]
    },
    {
     "name": "stderr",
     "output_type": "stream",
     "text": [
      "Evaluating:  20%|██        | 1782/8907 [04:29<12:06,  9.81it/s, bleu=0.6426]  "
     ]
    },
    {
     "name": "stdout",
     "output_type": "stream",
     "text": [
      "\n",
      "Sample 1781:\n",
      "Actual:    $ \\begin{array} { c c } { C ( \\eta _ { i } ) = 1 ~ , } & { C ( \\eta _ { f } ) = 0 ~ , \\nonumber } \\\\ { D ( \\eta _ { i } ) = 0 ~ , } & { D ( \\eta _ { f } ) = 1 ~ . } \\\\ \\end{array} $\n",
      "Predicted: $ \\begin{array} { l } { C ( \\eta _ { i } ) = 1 \\, , } & { C ( \\eta ) = 0 \\, , } \\\\ { D ( \\eta _ { i } ) = 0 \\, , } & { D ( \\eta _ { I } ) = 1 \\, \\, . } \\\\ \\end{array} $\n",
      "BLEU Score: 0.6402\n"
     ]
    },
    {
     "name": "stderr",
     "output_type": "stream",
     "text": [
      "Evaluating:  30%|███       | 2673/8907 [06:22<09:23, 11.07it/s, bleu=0.6390]  "
     ]
    },
    {
     "name": "stdout",
     "output_type": "stream",
     "text": [
      "\n",
      "Sample 2671:\n",
      "Actual:    $ - \\alpha ^ { 2 } \\left[ \\operatorname { c o s } \\theta _ { W } M ^ { 3 } { } _ { \\mu } - i X _ { 1 } ( M ^ { 1 } { } _ { \\mu } ) \\right] ^ { 2 } = - m _ { W } ^ { 2 } , $\n",
      "Predicted: $ - \\alpha ^ { 2 } \\left[ \\operatorname { c o s } \\theta _ { W } M ^ { 3 } - \\mu _ { 1 } \\operatorname { l n } ( M _ { - } ^ { 1 } ) \\right] ^ { 2 } = - m _ { W } ^ { 2 } , $\n",
      "BLEU Score: 0.7318\n"
     ]
    },
    {
     "name": "stderr",
     "output_type": "stream",
     "text": [
      "Evaluating:  40%|████      | 3563/8907 [08:21<08:15, 10.78it/s, bleu=0.6371]  "
     ]
    },
    {
     "name": "stdout",
     "output_type": "stream",
     "text": [
      "\n",
      "Sample 3561:\n",
      "Actual:    $ p = \\frac { 1 } { n N } \\rho , \\ \\ \\ \\rho = \\frac { E } { V } . $\n",
      "Predicted: $ p = \\frac { 1 } { n ! } \\rho \\rho , \\quad \\rho = \\frac { E } { V } . $\n",
      "BLEU Score: 0.7044\n"
     ]
    },
    {
     "name": "stderr",
     "output_type": "stream",
     "text": [
      "Evaluating:  50%|████▉     | 4453/8907 [10:36<05:56, 12.51it/s, bleu=0.6397]  "
     ]
    },
    {
     "name": "stdout",
     "output_type": "stream",
     "text": [
      "\n",
      "Sample 4451:\n",
      "Actual:    $ b _ { \\mu } \\longrightarrow b _ { \\mu } - s _ { \\mu } \\; , $\n",
      "Predicted: $ b _ { \\mu } \\rightarrow b _ { \\mu } - s _ { \\mu } \\; , $\n",
      "BLEU Score: 0.8656\n"
     ]
    },
    {
     "name": "stderr",
     "output_type": "stream",
     "text": [
      "Evaluating:  60%|█████▉    | 5343/8907 [13:15<05:33, 10.67it/s, bleu=0.6380]  "
     ]
    },
    {
     "name": "stdout",
     "output_type": "stream",
     "text": [
      "\n",
      "Sample 5341:\n",
      "Actual:    $ \\delta \\varphi ^ { r s } = \\left[ \\eta _ { i } ^ { \\mu } \\eta _ { j } ^ { \\nu } \\delta ^ { i r } \\delta ^ { j s } - ( \\eta _ { o } ^ { \\mu } \\eta _ { j } ^ { \\nu } - \\eta _ { o } ^ { \\nu } \\eta _ { j } ^ { \\mu } ) \\frac { \\delta ^ { i r } \\delta ^ { j s } p ^ { j } } { p ^ { o } + \\sqrt { p ^ { 2 } } } \\right] \\delta \\omega _ { \\mu \\nu } . $\n",
      "Predicted: $ \\delta \\varphi ^ { n } = \\left[ \\eta _ { i } ^ { \\mu } \\eta _ { j } ^ { i } \\delta ^ { i j } \\delta ( \\eta ^ { \\mu } - \\eta _ { j } ^ { \\mu } \\eta _ { j } ^ { \\nu } ) \\eta _ { j } ^ { \\nu } \\frac { \\delta ^ { n } \\Psi ^ { k } \\Psi ^ { k } } { p ^ { 2 } + \\sqrt { p ^ { 2\n",
      "BLEU Score: 0.5457\n"
     ]
    },
    {
     "name": "stderr",
     "output_type": "stream",
     "text": [
      "Evaluating:  70%|██████▉   | 6233/8907 [16:10<03:57, 11.24it/s, bleu=0.6381]  "
     ]
    },
    {
     "name": "stdout",
     "output_type": "stream",
     "text": [
      "\n",
      "Sample 6231:\n",
      "Actual:    $ I = I _ { + } + I _ { - } = \\frac { 2 \\pi } { \\vert \\lambda \\vert ^ { 2 } \\vert a \\vert ^ { 2 } } . $\n",
      "Predicted: $ I = I _ { + } + \\Gamma _ { - } = \\frac { 2 \\pi } { | \\lambda | ^ { 2 } | a | ^ { 2 } } . $\n",
      "BLEU Score: 0.6847\n"
     ]
    },
    {
     "name": "stderr",
     "output_type": "stream",
     "text": [
      "Evaluating:  80%|███████▉  | 7122/8907 [18:24<03:12,  9.28it/s, bleu=0.6400]  "
     ]
    },
    {
     "name": "stdout",
     "output_type": "stream",
     "text": [
      "\n",
      "Sample 7121:\n",
      "Actual:    $ D _ { + } ( G ^ { - 1 } \\dot { G } ) = 0 = \\bar { D } _ { + } ( G ^ { - 1 } \\dot { G } ) , $\n",
      "Predicted: $ D _ { + } ( G ^ { - 1 } G ^ { i } ) = 0 = \\tilde { D } _ { + } ( G ^ { - 1 } G ^ { i } ) , $\n",
      "BLEU Score: 0.7003\n"
     ]
    },
    {
     "name": "stderr",
     "output_type": "stream",
     "text": [
      "Evaluating:  90%|████████▉ | 8011/8907 [20:48<01:25, 10.44it/s, bleu=0.6402]"
     ]
    },
    {
     "name": "stdout",
     "output_type": "stream",
     "text": [
      "\n",
      "Sample 8011:\n",
      "Actual:    $ { \\cal C } = \\sigma ^ { 2 } \\otimes C \\otimes \\rho ^ { 1 } $\n",
      "Predicted: $ { \\cal C } = \\sigma ^ { 2 } \\otimes C \\otimes { \\rho } ^ { 1 } $\n",
      "BLEU Score: 0.7839\n"
     ]
    },
    {
     "name": "stderr",
     "output_type": "stream",
     "text": [
      "Evaluating: 100%|█████████▉| 8902/8907 [22:31<00:00, 11.08it/s, bleu=0.6400]"
     ]
    },
    {
     "name": "stdout",
     "output_type": "stream",
     "text": [
      "\n",
      "Sample 8901:\n",
      "Actual:    $ V ( \\vec { \\varphi } ^ { 2 } ) = \\frac { \\mu ^ { 2 } } { 2 } \\vec { \\varphi } ^ { 2 } + \\frac { \\lambda } { 4 } ( \\vec { \\varphi } ^ { 2 } ) ^ { 2 } $\n",
      "Predicted: $ V ( \\vec { \\varphi } ^ { 2 } ) = \\frac { \\mu ^ { 2 } } { 2 } { \\vec { \\varphi } } ^ { 2 } + \\frac { \\lambda } { 4 } ( \\vec { \\varphi } ^ { 2 } ) ^ { 2 } $\n",
      "BLEU Score: 0.9220\n"
     ]
    },
    {
     "name": "stderr",
     "output_type": "stream",
     "text": [
      "Evaluating: 100%|██████████| 8907/8907 [22:31<00:00,  6.59it/s, bleu=0.6399]\n"
     ]
    },
    {
     "name": "stdout",
     "output_type": "stream",
     "text": [
      "\n",
      "Average BLEU score: 0.6399\n",
      "New best model saved with BLEU score: 0.6399\n",
      "\n",
      "Epoch 12/20\n"
     ]
    },
    {
     "name": "stderr",
     "output_type": "stream",
     "text": [
      "Training:   2%|▏         | 46/2343 [01:23<1:09:41,  1.82s/it, loss=93.0566] \n"
     ]
    },
    {
     "ename": "KeyboardInterrupt",
     "evalue": "",
     "output_type": "error",
     "traceback": [
      "\u001b[31m---------------------------------------------------------------------------\u001b[39m",
      "\u001b[31mKeyboardInterrupt\u001b[39m                         Traceback (most recent call last)",
      "\u001b[36mCell\u001b[39m\u001b[36m \u001b[39m\u001b[32mIn[17]\u001b[39m\u001b[32m, line 6\u001b[39m\n\u001b[32m      3\u001b[39m \u001b[38;5;28mprint\u001b[39m(\u001b[33mf\u001b[39m\u001b[33m\"\u001b[39m\u001b[38;5;130;01m\\n\u001b[39;00m\u001b[33mEpoch \u001b[39m\u001b[38;5;132;01m{\u001b[39;00mepoch+\u001b[32m1\u001b[39m\u001b[38;5;132;01m}\u001b[39;00m\u001b[33m/\u001b[39m\u001b[38;5;132;01m{\u001b[39;00mnum_epochs\u001b[38;5;132;01m}\u001b[39;00m\u001b[33m\"\u001b[39m)\n\u001b[32m      5\u001b[39m \u001b[38;5;66;03m# Train for one epoch\u001b[39;00m\n\u001b[32m----> \u001b[39m\u001b[32m6\u001b[39m train_loss = \u001b[43mtrain_epoch\u001b[49m\u001b[43m(\u001b[49m\u001b[43mencoder\u001b[49m\u001b[43m,\u001b[49m\u001b[43m \u001b[49m\u001b[43mdecoder\u001b[49m\u001b[43m,\u001b[49m\u001b[43m \u001b[49m\u001b[43mtrain_loader\u001b[49m\u001b[43m,\u001b[49m\u001b[43m \u001b[49m\u001b[43moptimizer\u001b[49m\u001b[43m,\u001b[49m\u001b[43m \u001b[49m\u001b[43mcriterion\u001b[49m\u001b[43m)\u001b[49m\n\u001b[32m      7\u001b[39m \u001b[38;5;28mprint\u001b[39m(\u001b[33mf\u001b[39m\u001b[33m\"\u001b[39m\u001b[33mTraining loss: \u001b[39m\u001b[38;5;132;01m{\u001b[39;00mtrain_loss\u001b[38;5;132;01m:\u001b[39;00m\u001b[33m.4f\u001b[39m\u001b[38;5;132;01m}\u001b[39;00m\u001b[33m\"\u001b[39m)\n\u001b[32m      9\u001b[39m \u001b[38;5;66;03m# Evaluate on validation set\u001b[39;00m\n",
      "\u001b[36mCell\u001b[39m\u001b[36m \u001b[39m\u001b[32mIn[6]\u001b[39m\u001b[32m, line 357\u001b[39m, in \u001b[36mtrain_epoch\u001b[39m\u001b[34m(encoder, decoder, loader, optimizer, criterion, clip_value)\u001b[39m\n\u001b[32m    354\u001b[39m     input_token = target[:, t] \u001b[38;5;28;01mif\u001b[39;00m use_teacher_forcing \u001b[38;5;28;01melse\u001b[39;00m output.argmax(\u001b[32m1\u001b[39m)\n\u001b[32m    356\u001b[39m \u001b[38;5;66;03m# Backpropagation\u001b[39;00m\n\u001b[32m--> \u001b[39m\u001b[32m357\u001b[39m \u001b[43mloss\u001b[49m\u001b[43m.\u001b[49m\u001b[43mbackward\u001b[49m\u001b[43m(\u001b[49m\u001b[43m)\u001b[49m\n\u001b[32m    359\u001b[39m \u001b[38;5;66;03m# Gradient clipping\u001b[39;00m\n\u001b[32m    360\u001b[39m torch.nn.utils.clip_grad_norm_(encoder.parameters(), clip_value)\n",
      "\u001b[36mFile \u001b[39m\u001b[32m~/MCL775/myenv/lib/python3.11/site-packages/torch/_tensor.py:648\u001b[39m, in \u001b[36mTensor.backward\u001b[39m\u001b[34m(self, gradient, retain_graph, create_graph, inputs)\u001b[39m\n\u001b[32m    638\u001b[39m \u001b[38;5;28;01mif\u001b[39;00m has_torch_function_unary(\u001b[38;5;28mself\u001b[39m):\n\u001b[32m    639\u001b[39m     \u001b[38;5;28;01mreturn\u001b[39;00m handle_torch_function(\n\u001b[32m    640\u001b[39m         Tensor.backward,\n\u001b[32m    641\u001b[39m         (\u001b[38;5;28mself\u001b[39m,),\n\u001b[32m   (...)\u001b[39m\u001b[32m    646\u001b[39m         inputs=inputs,\n\u001b[32m    647\u001b[39m     )\n\u001b[32m--> \u001b[39m\u001b[32m648\u001b[39m \u001b[43mtorch\u001b[49m\u001b[43m.\u001b[49m\u001b[43mautograd\u001b[49m\u001b[43m.\u001b[49m\u001b[43mbackward\u001b[49m\u001b[43m(\u001b[49m\n\u001b[32m    649\u001b[39m \u001b[43m    \u001b[49m\u001b[38;5;28;43mself\u001b[39;49m\u001b[43m,\u001b[49m\u001b[43m \u001b[49m\u001b[43mgradient\u001b[49m\u001b[43m,\u001b[49m\u001b[43m \u001b[49m\u001b[43mretain_graph\u001b[49m\u001b[43m,\u001b[49m\u001b[43m \u001b[49m\u001b[43mcreate_graph\u001b[49m\u001b[43m,\u001b[49m\u001b[43m \u001b[49m\u001b[43minputs\u001b[49m\u001b[43m=\u001b[49m\u001b[43minputs\u001b[49m\n\u001b[32m    650\u001b[39m \u001b[43m\u001b[49m\u001b[43m)\u001b[49m\n",
      "\u001b[36mFile \u001b[39m\u001b[32m~/MCL775/myenv/lib/python3.11/site-packages/torch/autograd/__init__.py:353\u001b[39m, in \u001b[36mbackward\u001b[39m\u001b[34m(tensors, grad_tensors, retain_graph, create_graph, grad_variables, inputs)\u001b[39m\n\u001b[32m    348\u001b[39m     retain_graph = create_graph\n\u001b[32m    350\u001b[39m \u001b[38;5;66;03m# The reason we repeat the same comment below is that\u001b[39;00m\n\u001b[32m    351\u001b[39m \u001b[38;5;66;03m# some Python versions print out the first line of a multi-line function\u001b[39;00m\n\u001b[32m    352\u001b[39m \u001b[38;5;66;03m# calls in the traceback and some print out the last line\u001b[39;00m\n\u001b[32m--> \u001b[39m\u001b[32m353\u001b[39m \u001b[43m_engine_run_backward\u001b[49m\u001b[43m(\u001b[49m\n\u001b[32m    354\u001b[39m \u001b[43m    \u001b[49m\u001b[43mtensors\u001b[49m\u001b[43m,\u001b[49m\n\u001b[32m    355\u001b[39m \u001b[43m    \u001b[49m\u001b[43mgrad_tensors_\u001b[49m\u001b[43m,\u001b[49m\n\u001b[32m    356\u001b[39m \u001b[43m    \u001b[49m\u001b[43mretain_graph\u001b[49m\u001b[43m,\u001b[49m\n\u001b[32m    357\u001b[39m \u001b[43m    \u001b[49m\u001b[43mcreate_graph\u001b[49m\u001b[43m,\u001b[49m\n\u001b[32m    358\u001b[39m \u001b[43m    \u001b[49m\u001b[43minputs\u001b[49m\u001b[43m,\u001b[49m\n\u001b[32m    359\u001b[39m \u001b[43m    \u001b[49m\u001b[43mallow_unreachable\u001b[49m\u001b[43m=\u001b[49m\u001b[38;5;28;43;01mTrue\u001b[39;49;00m\u001b[43m,\u001b[49m\n\u001b[32m    360\u001b[39m \u001b[43m    \u001b[49m\u001b[43maccumulate_grad\u001b[49m\u001b[43m=\u001b[49m\u001b[38;5;28;43;01mTrue\u001b[39;49;00m\u001b[43m,\u001b[49m\n\u001b[32m    361\u001b[39m \u001b[43m\u001b[49m\u001b[43m)\u001b[49m\n",
      "\u001b[36mFile \u001b[39m\u001b[32m~/MCL775/myenv/lib/python3.11/site-packages/torch/autograd/graph.py:824\u001b[39m, in \u001b[36m_engine_run_backward\u001b[39m\u001b[34m(t_outputs, *args, **kwargs)\u001b[39m\n\u001b[32m    822\u001b[39m     unregister_hooks = _register_logging_hooks_on_whole_graph(t_outputs)\n\u001b[32m    823\u001b[39m \u001b[38;5;28;01mtry\u001b[39;00m:\n\u001b[32m--> \u001b[39m\u001b[32m824\u001b[39m     \u001b[38;5;28;01mreturn\u001b[39;00m \u001b[43mVariable\u001b[49m\u001b[43m.\u001b[49m\u001b[43m_execution_engine\u001b[49m\u001b[43m.\u001b[49m\u001b[43mrun_backward\u001b[49m\u001b[43m(\u001b[49m\u001b[43m  \u001b[49m\u001b[38;5;66;43;03m# Calls into the C++ engine to run the backward pass\u001b[39;49;00m\n\u001b[32m    825\u001b[39m \u001b[43m        \u001b[49m\u001b[43mt_outputs\u001b[49m\u001b[43m,\u001b[49m\u001b[43m \u001b[49m\u001b[43m*\u001b[49m\u001b[43margs\u001b[49m\u001b[43m,\u001b[49m\u001b[43m \u001b[49m\u001b[43m*\u001b[49m\u001b[43m*\u001b[49m\u001b[43mkwargs\u001b[49m\n\u001b[32m    826\u001b[39m \u001b[43m    \u001b[49m\u001b[43m)\u001b[49m  \u001b[38;5;66;03m# Calls into the C++ engine to run the backward pass\u001b[39;00m\n\u001b[32m    827\u001b[39m \u001b[38;5;28;01mfinally\u001b[39;00m:\n\u001b[32m    828\u001b[39m     \u001b[38;5;28;01mif\u001b[39;00m attach_logging_hooks:\n",
      "\u001b[31mKeyboardInterrupt\u001b[39m: "
     ]
    }
   ],
   "source": [
    "# Continuing the training with more epochs while using the weights generated by the best model before\n",
    "num_epochs=20\n",
    "for epoch in range(start_epoch, start_epoch + 15):\n",
    "    print(f\"\\nEpoch {epoch+1}/{num_epochs}\")\n",
    "    \n",
    "    # Train for one epoch\n",
    "    train_loss = train_epoch(encoder, decoder, train_loader, optimizer, criterion)\n",
    "    print(f\"Training loss: {train_loss:.4f}\")\n",
    "    \n",
    "    # Evaluate on validation set\n",
    "    bleu = evaluate(encoder, decoder, test_loader)\n",
    "    \n",
    "    # Learning rate scheduling\n",
    "    scheduler.step(train_loss)\n",
    "    \n",
    "    # Save checkpoint if this is the best model so far\n",
    "    if bleu > best_bleu:\n",
    "        best_bleu = bleu\n",
    "        best_epoch = epoch + 1\n",
    "        \n",
    "        # Save the models\n",
    "        checkpoint = {\n",
    "            'epoch': epoch,\n",
    "            'encoder': encoder.state_dict(),\n",
    "            'decoder': decoder.state_dict(),\n",
    "            'optimizer': optimizer.state_dict(),\n",
    "            'bleu': bleu,\n",
    "            'word_to_index': word_to_index,\n",
    "            'index_to_word': index_to_word\n",
    "        }\n",
    "        torch.save(checkpoint, f\"best_model_epoch{epoch+1}_bleu{bleu:.4f}.pth\")\n",
    "        print(f\"New best model saved with BLEU score: {bleu:.4f}\")\n",
    "    \n",
    "    # Regular checkpoint\n",
    "    checkpoint = {\n",
    "        'epoch': epoch,\n",
    "        'encoder': encoder.state_dict(),\n",
    "        'decoder': decoder.state_dict(),\n",
    "        'optimizer': optimizer.state_dict(),\n",
    "        'bleu': bleu\n",
    "    }\n",
    "    torch.save(checkpoint, f\"checkpoint_epoch{epoch+1}.pth\")\n",
    "\n",
    "print(f\"Training complete. Best model was at epoch {best_epoch} with BLEU score {best_bleu:.4f}\")"
   ]
  }
 ],
 "metadata": {
  "kernelspec": {
   "display_name": "myenv",
   "language": "python",
   "name": "python3"
  },
  "language_info": {
   "codemirror_mode": {
    "name": "ipython",
    "version": 3
   },
   "file_extension": ".py",
   "mimetype": "text/x-python",
   "name": "python",
   "nbconvert_exporter": "python",
   "pygments_lexer": "ipython3",
   "version": "3.11.2"
  }
 },
 "nbformat": 4,
 "nbformat_minor": 5
}
